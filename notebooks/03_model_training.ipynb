{
 "cells": [
  {
   "cell_type": "code",
   "execution_count": 2,
   "id": "130bc7c1",
   "metadata": {},
   "outputs": [],
   "source": [
    "import pandas as pd\n",
    "import os\n",
    "from sklearn.linear_model import LogisticRegression\n",
    "from sklearn.metrics import classification_report, confusion_matrix, roc_auc_score, roc_curve\n",
    "import matplotlib.pyplot as plt\n",
    "import seaborn as sns\n",
    "import lightgbm as lgb\n",
    "from sklearn.model_selection import GridSearchCV\n",
    "import joblib"
   ]
  },
  {
   "cell_type": "markdown",
   "id": "abcccc78",
   "metadata": {},
   "source": [
    "# --- 0. Carregamento dos Dados Pré-Processados ---\n"
   ]
  },
  {
   "cell_type": "code",
   "execution_count": 3,
   "id": "a55846c7",
   "metadata": {},
   "outputs": [
    {
     "name": "stdout",
     "output_type": "stream",
     "text": [
      "Dados X_train, X_test, y_train, y_test carregados com sucesso!\n"
     ]
    }
   ],
   "source": [
    "# Define o caminho para a pasta 'processed' onde os arquivos X_train, etc., foram salvos.\n",
    "processed_data_path = '../data/processed/'\n",
    "\n",
    "try:\n",
    "    X_train = pd.read_csv(os.path.join(processed_data_path, 'X_train.csv'))\n",
    "    X_test = pd.read_csv(os.path.join(processed_data_path, 'X_test.csv'))\n",
    "    y_train = pd.read_csv(os.path.join(processed_data_path, 'y_train.csv')).squeeze() # .squeeze() para garantir que y seja uma Series\n",
    "    y_test = pd.read_csv(os.path.join(processed_data_path, 'y_test.csv')).squeeze() # .squeeze() para garantir que y seja uma Series\n",
    "\n",
    "    print(\"Dados X_train, X_test, y_train, y_test carregados com sucesso!\")\n",
    "except FileNotFoundError:\n",
    "    print(f\"Erro: Arquivos de dados pré-processados não encontrados em '{processed_data_path}'.\")\n",
    "    print(\"Certifique-se de que o notebook '02_data_preparation.ipynb' foi executado e salvou esses arquivos.\")\n",
    "    exit() # Interrompe a execução se os arquivos não forem encontrados"
   ]
  },
  {
   "cell_type": "code",
   "execution_count": 4,
   "id": "6c426c32",
   "metadata": {},
   "outputs": [
    {
     "name": "stdout",
     "output_type": "stream",
     "text": [
      "\n",
      "Formato de X_train: (7040, 84)\n",
      "Formato de X_test: (1760, 84)\n",
      "Formato de y_train: (7040,)\n",
      "Formato de y_test: (1760,)\n"
     ]
    }
   ],
   "source": [
    "print(f\"\\nFormato de X_train: {X_train.shape}\")\n",
    "print(f\"Formato de X_test: {X_test.shape}\")\n",
    "print(f\"Formato de y_train: {y_train.shape}\")\n",
    "print(f\"Formato de y_test: {y_test.shape}\")"
   ]
  },
  {
   "cell_type": "code",
   "execution_count": 5,
   "id": "2012eb16",
   "metadata": {},
   "outputs": [
    {
     "name": "stdout",
     "output_type": "stream",
     "text": [
      "\n",
      "--- Primeiras 5 linhas de X_train (Features de Treinamento) ---\n"
     ]
    },
    {
     "data": {
      "text/html": [
       "<div>\n",
       "<style scoped>\n",
       "    .dataframe tbody tr th:only-of-type {\n",
       "        vertical-align: middle;\n",
       "    }\n",
       "\n",
       "    .dataframe tbody tr th {\n",
       "        vertical-align: top;\n",
       "    }\n",
       "\n",
       "    .dataframe thead th {\n",
       "        text-align: right;\n",
       "    }\n",
       "</style>\n",
       "<table border=\"1\" class=\"dataframe\">\n",
       "  <thead>\n",
       "    <tr style=\"text-align: right;\">\n",
       "      <th></th>\n",
       "      <th>close_value</th>\n",
       "      <th>year_established</th>\n",
       "      <th>revenue</th>\n",
       "      <th>employees</th>\n",
       "      <th>sales_price</th>\n",
       "      <th>opportunity_duration_days</th>\n",
       "      <th>sales_agent_Boris Faz</th>\n",
       "      <th>sales_agent_Cassey Cress</th>\n",
       "      <th>sales_agent_Cecily Lampkin</th>\n",
       "      <th>sales_agent_Corliss Cosme</th>\n",
       "      <th>...</th>\n",
       "      <th>series_GTX</th>\n",
       "      <th>series_MG</th>\n",
       "      <th>series_Unknown_Series</th>\n",
       "      <th>manager_Celia Rouche</th>\n",
       "      <th>manager_Dustin Brinkmann</th>\n",
       "      <th>manager_Melvin Marxen</th>\n",
       "      <th>manager_Rocco Neubert</th>\n",
       "      <th>manager_Summer Sewald</th>\n",
       "      <th>regional_office_East</th>\n",
       "      <th>regional_office_West</th>\n",
       "    </tr>\n",
       "  </thead>\n",
       "  <tbody>\n",
       "    <tr>\n",
       "      <th>0</th>\n",
       "      <td>-0.453724</td>\n",
       "      <td>-1.593641</td>\n",
       "      <td>-0.647831</td>\n",
       "      <td>-0.642711</td>\n",
       "      <td>-0.272800</td>\n",
       "      <td>-1.094834</td>\n",
       "      <td>0</td>\n",
       "      <td>0</td>\n",
       "      <td>0</td>\n",
       "      <td>0</td>\n",
       "      <td>...</td>\n",
       "      <td>1</td>\n",
       "      <td>0</td>\n",
       "      <td>0</td>\n",
       "      <td>1</td>\n",
       "      <td>0</td>\n",
       "      <td>0</td>\n",
       "      <td>0</td>\n",
       "      <td>0</td>\n",
       "      <td>0</td>\n",
       "      <td>1</td>\n",
       "    </tr>\n",
       "    <tr>\n",
       "      <th>1</th>\n",
       "      <td>1.085494</td>\n",
       "      <td>0.308456</td>\n",
       "      <td>0.155415</td>\n",
       "      <td>-0.429452</td>\n",
       "      <td>1.549376</td>\n",
       "      <td>1.720531</td>\n",
       "      <td>0</td>\n",
       "      <td>0</td>\n",
       "      <td>0</td>\n",
       "      <td>0</td>\n",
       "      <td>...</td>\n",
       "      <td>1</td>\n",
       "      <td>0</td>\n",
       "      <td>0</td>\n",
       "      <td>0</td>\n",
       "      <td>0</td>\n",
       "      <td>1</td>\n",
       "      <td>0</td>\n",
       "      <td>0</td>\n",
       "      <td>0</td>\n",
       "      <td>0</td>\n",
       "    </tr>\n",
       "    <tr>\n",
       "      <th>2</th>\n",
       "      <td>0.487478</td>\n",
       "      <td>1.735029</td>\n",
       "      <td>-0.949226</td>\n",
       "      <td>-0.826253</td>\n",
       "      <td>0.681495</td>\n",
       "      <td>1.051533</td>\n",
       "      <td>0</td>\n",
       "      <td>0</td>\n",
       "      <td>0</td>\n",
       "      <td>0</td>\n",
       "      <td>...</td>\n",
       "      <td>0</td>\n",
       "      <td>1</td>\n",
       "      <td>0</td>\n",
       "      <td>0</td>\n",
       "      <td>0</td>\n",
       "      <td>0</td>\n",
       "      <td>1</td>\n",
       "      <td>0</td>\n",
       "      <td>1</td>\n",
       "      <td>0</td>\n",
       "    </tr>\n",
       "    <tr>\n",
       "      <th>3</th>\n",
       "      <td>0.333810</td>\n",
       "      <td>0.070694</td>\n",
       "      <td>-0.519316</td>\n",
       "      <td>-0.400689</td>\n",
       "      <td>0.681495</td>\n",
       "      <td>1.776281</td>\n",
       "      <td>0</td>\n",
       "      <td>0</td>\n",
       "      <td>0</td>\n",
       "      <td>0</td>\n",
       "      <td>...</td>\n",
       "      <td>0</td>\n",
       "      <td>1</td>\n",
       "      <td>0</td>\n",
       "      <td>0</td>\n",
       "      <td>0</td>\n",
       "      <td>0</td>\n",
       "      <td>1</td>\n",
       "      <td>0</td>\n",
       "      <td>1</td>\n",
       "      <td>0</td>\n",
       "    </tr>\n",
       "    <tr>\n",
       "      <th>4</th>\n",
       "      <td>0.487478</td>\n",
       "      <td>-0.167068</td>\n",
       "      <td>-0.482389</td>\n",
       "      <td>-0.370020</td>\n",
       "      <td>0.681495</td>\n",
       "      <td>-1.122709</td>\n",
       "      <td>0</td>\n",
       "      <td>0</td>\n",
       "      <td>0</td>\n",
       "      <td>0</td>\n",
       "      <td>...</td>\n",
       "      <td>0</td>\n",
       "      <td>1</td>\n",
       "      <td>0</td>\n",
       "      <td>0</td>\n",
       "      <td>0</td>\n",
       "      <td>0</td>\n",
       "      <td>0</td>\n",
       "      <td>1</td>\n",
       "      <td>0</td>\n",
       "      <td>1</td>\n",
       "    </tr>\n",
       "  </tbody>\n",
       "</table>\n",
       "<p>5 rows × 84 columns</p>\n",
       "</div>"
      ],
      "text/plain": [
       "   close_value  year_established   revenue  employees  sales_price  \\\n",
       "0    -0.453724         -1.593641 -0.647831  -0.642711    -0.272800   \n",
       "1     1.085494          0.308456  0.155415  -0.429452     1.549376   \n",
       "2     0.487478          1.735029 -0.949226  -0.826253     0.681495   \n",
       "3     0.333810          0.070694 -0.519316  -0.400689     0.681495   \n",
       "4     0.487478         -0.167068 -0.482389  -0.370020     0.681495   \n",
       "\n",
       "   opportunity_duration_days  sales_agent_Boris Faz  sales_agent_Cassey Cress  \\\n",
       "0                  -1.094834                      0                         0   \n",
       "1                   1.720531                      0                         0   \n",
       "2                   1.051533                      0                         0   \n",
       "3                   1.776281                      0                         0   \n",
       "4                  -1.122709                      0                         0   \n",
       "\n",
       "   sales_agent_Cecily Lampkin  sales_agent_Corliss Cosme  ...  series_GTX  \\\n",
       "0                           0                          0  ...           1   \n",
       "1                           0                          0  ...           1   \n",
       "2                           0                          0  ...           0   \n",
       "3                           0                          0  ...           0   \n",
       "4                           0                          0  ...           0   \n",
       "\n",
       "   series_MG  series_Unknown_Series  manager_Celia Rouche  \\\n",
       "0          0                      0                     1   \n",
       "1          0                      0                     0   \n",
       "2          1                      0                     0   \n",
       "3          1                      0                     0   \n",
       "4          1                      0                     0   \n",
       "\n",
       "   manager_Dustin Brinkmann  manager_Melvin Marxen  manager_Rocco Neubert  \\\n",
       "0                         0                      0                      0   \n",
       "1                         0                      1                      0   \n",
       "2                         0                      0                      1   \n",
       "3                         0                      0                      1   \n",
       "4                         0                      0                      0   \n",
       "\n",
       "   manager_Summer Sewald  regional_office_East  regional_office_West  \n",
       "0                      0                     0                     1  \n",
       "1                      0                     0                     0  \n",
       "2                      0                     1                     0  \n",
       "3                      0                     1                     0  \n",
       "4                      1                     0                     1  \n",
       "\n",
       "[5 rows x 84 columns]"
      ]
     },
     "execution_count": 5,
     "metadata": {},
     "output_type": "execute_result"
    }
   ],
   "source": [
    "print(\"\\n--- Primeiras 5 linhas de X_train (Features de Treinamento) ---\")\n",
    "X_train.head()"
   ]
  },
  {
   "cell_type": "code",
   "execution_count": 6,
   "id": "b8e26e59",
   "metadata": {},
   "outputs": [
    {
     "name": "stdout",
     "output_type": "stream",
     "text": [
      "\n",
      "--- Primeiras 5 linhas de y_train (Target de Treinamento) ---\n"
     ]
    },
    {
     "data": {
      "text/plain": [
       "0    1\n",
       "1    0\n",
       "2    1\n",
       "3    0\n",
       "4    1\n",
       "Name: target, dtype: int64"
      ]
     },
     "execution_count": 6,
     "metadata": {},
     "output_type": "execute_result"
    }
   ],
   "source": [
    "print(\"\\n--- Primeiras 5 linhas de y_train (Target de Treinamento) ---\")\n",
    "y_train.head()"
   ]
  },
  {
   "cell_type": "markdown",
   "id": "dc8f9290",
   "metadata": {},
   "source": [
    "# --- 1. Modelagem: Treinamento do Modelo de Regressão Logística ---"
   ]
  },
  {
   "cell_type": "code",
   "execution_count": 7,
   "id": "74a6228f",
   "metadata": {},
   "outputs": [
    {
     "name": "stdout",
     "output_type": "stream",
     "text": [
      "\n",
      "--- Iniciando Treinamento do Modelo de Regressão Logística ---\n"
     ]
    }
   ],
   "source": [
    "print(\"\\n--- Iniciando Treinamento do Modelo de Regressão Logística ---\")"
   ]
  },
  {
   "cell_type": "markdown",
   "id": "d2cbc439",
   "metadata": {},
   "source": [
    "### 1.1. Instanciar o Modelo"
   ]
  },
  {
   "cell_type": "code",
   "execution_count": 8,
   "id": "68de7ead",
   "metadata": {},
   "outputs": [],
   "source": [
    "# Usar solver='liblinear' é robusto para datasets menores e para penalidade L1/L2.\n",
    "# 'random_state' para reprodutibilidade dos resultados.\n",
    "model = LogisticRegression(solver='liblinear', random_state=42)"
   ]
  },
  {
   "cell_type": "markdown",
   "id": "7daed48e",
   "metadata": {},
   "source": [
    "## 1.2. Treinar o Modelo"
   ]
  },
  {
   "cell_type": "code",
   "execution_count": 9,
   "id": "eeac83be",
   "metadata": {},
   "outputs": [
    {
     "name": "stdout",
     "output_type": "stream",
     "text": [
      "\n",
      "--- Modelo de Regressão Logística Treinado com Sucesso! ---\n"
     ]
    }
   ],
   "source": [
    "# O modelo aprende os padrões a partir dos dados de treinamento (X_train, y_train).\n",
    "model.fit(X_train, y_train)\n",
    "print(\"\\n--- Modelo de Regressão Logística Treinado com Sucesso! ---\")"
   ]
  },
  {
   "cell_type": "markdown",
   "id": "794b0f69",
   "metadata": {},
   "source": [
    "# --- 2. Avaliação do Modelo (Métricas Iniciais) ---"
   ]
  },
  {
   "cell_type": "code",
   "execution_count": 10,
   "id": "b676df6e",
   "metadata": {},
   "outputs": [
    {
     "name": "stdout",
     "output_type": "stream",
     "text": [
      "\n",
      "--- Avaliando o Modelo no Conjunto de Teste ---\n"
     ]
    }
   ],
   "source": [
    "print(\"\\n--- Avaliando o Modelo no Conjunto de Teste ---\")"
   ]
  },
  {
   "cell_type": "markdown",
   "id": "ccd52592",
   "metadata": {},
   "source": [
    "## 2.1. Fazer Previsões no conjunto de Teste"
   ]
  },
  {
   "cell_type": "code",
   "execution_count": 11,
   "id": "68b784b1",
   "metadata": {},
   "outputs": [],
   "source": [
    "# 'y_pred' são as classes previstas (0 ou 1).\n",
    "y_pred = model.predict(X_test)\n",
    "# 'y_prob' são as probabilidades da classe positiva (target = 1, ou seja, 'perda').\n",
    "y_prob = model.predict_proba(X_test)[:, 1]"
   ]
  },
  {
   "cell_type": "code",
   "execution_count": 12,
   "id": "0a2875b4",
   "metadata": {},
   "outputs": [
    {
     "name": "stdout",
     "output_type": "stream",
     "text": [
      "\n",
      "--- Relatório de Classificação no Conjunto de Teste ---\n",
      "              precision    recall  f1-score   support\n",
      "\n",
      "           0       0.63      0.91      0.74      1110\n",
      "           1       0.34      0.08      0.13       650\n",
      "\n",
      "    accuracy                           0.60      1760\n",
      "   macro avg       0.48      0.49      0.44      1760\n",
      "weighted avg       0.52      0.60      0.52      1760\n",
      "\n"
     ]
    }
   ],
   "source": [
    "print(\"\\n--- Relatório de Classificação no Conjunto de Teste ---\")\n",
    "print(classification_report(y_test, y_pred))"
   ]
  },
  {
   "cell_type": "code",
   "execution_count": 13,
   "id": "fa3fb27e",
   "metadata": {},
   "outputs": [
    {
     "name": "stdout",
     "output_type": "stream",
     "text": [
      "\n",
      "--- Matriz de Confusão ---\n",
      "[[1008  102]\n",
      " [ 597   53]]\n"
     ]
    }
   ],
   "source": [
    "print(\"\\n--- Matriz de Confusão ---\")\n",
    "cm = confusion_matrix(y_test, y_pred)\n",
    "print(cm)"
   ]
  },
  {
   "cell_type": "code",
   "execution_count": 14,
   "id": "e1c4cb5e",
   "metadata": {},
   "outputs": [
    {
     "data": {
      "image/png": "[encoded data removed]",
      "text/plain": [
       "<Figure size 600x500 with 2 Axes>"
      ]
     },
     "metadata": {},
     "output_type": "display_data"
    }
   ],
   "source": [
    "# Visualizar a Matriz de Confusão\n",
    "plt.figure(figsize=(6, 5))\n",
    "sns.heatmap(cm, annot=True, fmt='d', cmap='Blues',\n",
    "            xticklabels=['Ganho (0)', 'Perdido (1)'],\n",
    "            yticklabels=['Ganho Real (0)', 'Perdido Real (1)'])\n",
    "plt.xlabel('Previsto')\n",
    "plt.ylabel('Real')\n",
    "plt.title('Matriz de Confusão da Regressão Logística')\n",
    "plt.show()"
   ]
  },
  {
   "cell_type": "code",
   "execution_count": 15,
   "id": "1159a7c4",
   "metadata": {},
   "outputs": [
    {
     "name": "stdout",
     "output_type": "stream",
     "text": [
      "\n",
      "AUC-ROC Score: 0.5701\n"
     ]
    }
   ],
   "source": [
    "# Calcular e Imprimir AUC-ROC\n",
    "auc_roc = roc_auc_score(y_test, y_prob)\n",
    "print(f\"\\nAUC-ROC Score: {auc_roc:.4f}\")"
   ]
  },
  {
   "cell_type": "code",
   "execution_count": 16,
   "id": "6efeb1bd",
   "metadata": {},
   "outputs": [
    {
     "data": {
      "image/png": "[encoded data removed]",
      "text/plain": [
       "<Figure size 800x600 with 1 Axes>"
      ]
     },
     "metadata": {},
     "output_type": "display_data"
    }
   ],
   "source": [
    "# Plotar Curva ROC\n",
    "fpr, tpr, thresholds = roc_curve(y_test, y_prob)\n",
    "plt.figure(figsize=(8, 6))\n",
    "plt.plot(fpr, tpr, color='blue', lw=2, label=f'Curva ROC (AUC = {auc_roc:.2f})')\n",
    "plt.plot([0, 1], [0, 1], color='gray', linestyle='--')\n",
    "plt.xlim([0.0, 1.0])\n",
    "plt.ylim([0.0, 1.05])\n",
    "plt.xlabel('Taxa de Falso Positivo (False Positive Rate)')\n",
    "plt.ylabel('Taxa de Verdadeiro Positivo (True Positive Rate)')\n",
    "plt.title('Curva ROC')\n",
    "plt.legend(loc=\"lower right\")\n",
    "plt.show()"
   ]
  },
  {
   "cell_type": "markdown",
   "id": "2ed6aa25",
   "metadata": {},
   "source": [
    "**Decisão de Modelo: Transição para Gradient Boosting**\n",
    "\n",
    "Com base na performance insatisfatória do modelo de Regressão Logística, especialmente seu baixo recall para a classe 'Perdida' (target=1) e um AUC-ROC score próximo ao de um classificador aleatório, ficou evidente que um modelo mais robusto é necessário para capturar a complexidade dos padrões de perda de oportunidades.\n",
    "\n",
    "Considerando os objetivos de negócio de minimizar Falsos Negativos e melhorar significativamente a capacidade preditiva, decidimos não prosseguir com o tuning da Regressão Logística. Em vez disso, vamos transitar para um algoritmo de Gradient Boosting. Modelos como o LightGBM ou XGBoost são conhecidos por sua alta performance, capacidade de lidar com diferentes tipos de dados e robustez em cenários de classificação com classes desbalanceadas. Eles tendem a ser mais eficazes em identificar padrões complexos que a Regressão Logística não consegue capturar."
   ]
  },
  {
   "cell_type": "markdown",
   "id": "7f12ad45",
   "metadata": {},
   "source": [
    "# --- 3. Modelagem: Treinamento do Modelo LightGBM ---"
   ]
  },
  {
   "cell_type": "code",
   "execution_count": 17,
   "id": "2878ad73",
   "metadata": {},
   "outputs": [
    {
     "name": "stdout",
     "output_type": "stream",
     "text": [
      "\n",
      "--- Iniciando Treinamento do Modelo LightGBM ---\n"
     ]
    }
   ],
   "source": [
    "print(\"\\n--- Iniciando Treinamento do Modelo LightGBM ---\")"
   ]
  },
  {
   "cell_type": "markdown",
   "id": "a9b9aa37",
   "metadata": {},
   "source": [
    "## 3.1. Definir o Modelo LightGBM"
   ]
  },
  {
   "cell_type": "code",
   "execution_count": 18,
   "id": "5acbb64f",
   "metadata": {},
   "outputs": [],
   "source": [
    "# Usaremos parâmetros iniciais. Vamos otimizar mais tarde.\n",
    "# 'objective': 'binary' para classificação binária.\n",
    "# 'metric': 'auc' é uma boa métrica para problemas de classificação desbalanceados.\n",
    "# 'is_unbalance': True ajuda o LightGBM a lidar com classes desbalanceadas.\n",
    "# 'random_state': para reprodutibilidade.\n",
    "lgbm_model = lgb.LGBMClassifier(objective='binary',\n",
    "                                metric='auc',\n",
    "                                is_unbalance=True, # Ajuda com o desbalanceamento das classes\n",
    "                                random_state=42)"
   ]
  },
  {
   "cell_type": "markdown",
   "id": "b352805b",
   "metadata": {},
   "source": [
    "## 3.2. Treinar o Modelo LightGBM"
   ]
  },
  {
   "cell_type": "code",
   "execution_count": 19,
   "id": "44b9a00f",
   "metadata": {},
   "outputs": [
    {
     "name": "stdout",
     "output_type": "stream",
     "text": [
      "[LightGBM] [Warning] Found whitespace in feature_names, replace with underlines\n",
      "[LightGBM] [Info] Number of positive: 2599, number of negative: 4441\n",
      "[LightGBM] [Info] Auto-choosing row-wise multi-threading, the overhead of testing was 0.000361 seconds.\n",
      "You can set `force_row_wise=true` to remove the overhead.\n",
      "And if memory is not enough, you can set `force_col_wise=true`.\n",
      "[LightGBM] [Info] Total Bins 762\n",
      "[LightGBM] [Info] Number of data points in the train set: 7040, number of used features: 84\n",
      "[LightGBM] [Info] [binary:BoostFromScore]: pavg=0.369176 -> initscore=-0.535753\n",
      "[LightGBM] [Info] Start training from score -0.535753\n",
      "\n",
      "--- Modelo LightGBM Treinado com Sucesso! ---\n"
     ]
    }
   ],
   "source": [
    "# O modelo aprende os padrões a partir dos dados de treinamento\n",
    "lgbm_model.fit(X_train, y_train)\n",
    "print(\"\\n--- Modelo LightGBM Treinado com Sucesso! ---\")"
   ]
  },
  {
   "cell_type": "markdown",
   "id": "5f1e2f2a",
   "metadata": {},
   "source": [
    "# --- 4. Avaliação do Modelo LightGBM (Métricas Iniciais) ---"
   ]
  },
  {
   "cell_type": "code",
   "execution_count": 20,
   "id": "c833da56",
   "metadata": {},
   "outputs": [
    {
     "name": "stdout",
     "output_type": "stream",
     "text": [
      "\n",
      "--- Avaliando o Modelo LightGBM no Conjunto de Teste ---\n"
     ]
    }
   ],
   "source": [
    "print(\"\\n--- Avaliando o Modelo LightGBM no Conjunto de Teste ---\")"
   ]
  },
  {
   "cell_type": "markdown",
   "id": "00f53e0c",
   "metadata": {},
   "source": [
    "## 4.1. Fazer Previsões no conjunto de Teste"
   ]
  },
  {
   "cell_type": "code",
   "execution_count": 21,
   "id": "c466c6b8",
   "metadata": {},
   "outputs": [],
   "source": [
    "y_pred_lgbm = lgbm_model.predict(X_test)\n",
    "y_prob_lgbm = lgbm_model.predict_proba(X_test)[:, 1] # Probabilidade da classe positiva (target = 1)"
   ]
  },
  {
   "cell_type": "code",
   "execution_count": 22,
   "id": "72501ae2",
   "metadata": {},
   "outputs": [
    {
     "name": "stdout",
     "output_type": "stream",
     "text": [
      "\n",
      "--- Relatório de Classificação LightGBM no Conjunto de Teste ---\n",
      "              precision    recall  f1-score   support\n",
      "\n",
      "           0       0.98      0.98      0.98      1110\n",
      "           1       0.97      0.97      0.97       650\n",
      "\n",
      "    accuracy                           0.98      1760\n",
      "   macro avg       0.98      0.98      0.98      1760\n",
      "weighted avg       0.98      0.98      0.98      1760\n",
      "\n"
     ]
    }
   ],
   "source": [
    "print(\"\\n--- Relatório de Classificação LightGBM no Conjunto de Teste ---\")\n",
    "print(classification_report(y_test, y_pred_lgbm, zero_division=0)) # zero_division=0 para evitar warnings"
   ]
  },
  {
   "cell_type": "code",
   "execution_count": 23,
   "id": "aec16e29",
   "metadata": {},
   "outputs": [
    {
     "name": "stdout",
     "output_type": "stream",
     "text": [
      "\n",
      "--- Matriz de Confusão LightGBM ---\n",
      "[[1091   19]\n",
      " [  18  632]]\n"
     ]
    }
   ],
   "source": [
    "print(\"\\n--- Matriz de Confusão LightGBM ---\")\n",
    "cm_lgbm = confusion_matrix(y_test, y_pred_lgbm)\n",
    "print(cm_lgbm)"
   ]
  },
  {
   "cell_type": "code",
   "execution_count": 24,
   "id": "c44e314c",
   "metadata": {},
   "outputs": [
    {
     "data": {
      "image/png": "[encoded data removed]",
      "text/plain": [
       "<Figure size 600x500 with 2 Axes>"
      ]
     },
     "metadata": {},
     "output_type": "display_data"
    }
   ],
   "source": [
    "# Visualizar a Matriz de Confusão do LightGBM\n",
    "plt.figure(figsize=(6, 5))\n",
    "sns.heatmap(cm_lgbm, annot=True, fmt='d', cmap='Blues',\n",
    "            xticklabels=['Ganho (0)', 'Perdido (1)'],\n",
    "            yticklabels=['Ganho Real (0)', 'Perdido Real (1)'])\n",
    "plt.xlabel('Previsto')\n",
    "plt.ylabel('Real')\n",
    "plt.title('Matriz de Confusão do LightGBM')\n",
    "plt.show()"
   ]
  },
  {
   "cell_type": "code",
   "execution_count": 25,
   "id": "8140bf61",
   "metadata": {},
   "outputs": [
    {
     "name": "stdout",
     "output_type": "stream",
     "text": [
      "\n",
      "AUC-ROC Score do LightGBM: 0.9987\n"
     ]
    }
   ],
   "source": [
    "# Calcular e Imprimir AUC-ROC do LightGBM\n",
    "auc_roc_lgbm = roc_auc_score(y_test, y_prob_lgbm)\n",
    "print(f\"\\nAUC-ROC Score do LightGBM: {auc_roc_lgbm:.4f}\")"
   ]
  },
  {
   "cell_type": "code",
   "execution_count": 26,
   "id": "3fb58d9f",
   "metadata": {},
   "outputs": [
    {
     "data": {
      "image/png": "[encoded data removed]",
      "text/plain": [
       "<Figure size 800x600 with 1 Axes>"
      ]
     },
     "metadata": {},
     "output_type": "display_data"
    }
   ],
   "source": [
    "# Plotar Curva ROC do LightGBM\n",
    "fpr_lgbm, tpr_lgbm, thresholds_lgbm = roc_curve(y_test, y_prob_lgbm)\n",
    "plt.figure(figsize=(8, 6))\n",
    "plt.plot(fpr_lgbm, tpr_lgbm, color='green', lw=2, label=f'Curva ROC LightGBM (AUC = {auc_roc_lgbm:.2f})')\n",
    "plt.plot([0, 1], [0, 1], color='gray', linestyle='--')\n",
    "plt.xlim([0.0, 1.0])\n",
    "plt.ylim([0.0, 1.05])\n",
    "plt.xlabel('Taxa de Falso Positivo (False Positive Rate)')\n",
    "plt.ylabel('Taxa de Verdadeiro Positivo (True Positive Rate)')\n",
    "plt.title('Curva ROC LightGBM')\n",
    "plt.legend(loc=\"lower right\")\n",
    "plt.show()"
   ]
  },
  {
   "cell_type": "markdown",
   "id": "2ef0c0b8",
   "metadata": {},
   "source": [
    "## 4.2. Avaliação no conjunto de TREINO (PARA VERIFICAR OVERFITTING)"
   ]
  },
  {
   "cell_type": "code",
   "execution_count": 27,
   "id": "1eccfb86",
   "metadata": {},
   "outputs": [
    {
     "name": "stdout",
     "output_type": "stream",
     "text": [
      "\n",
      "--- Avaliando o Modelo LightGBM no Conjunto de TREINO (para Overfitting Check) ---\n"
     ]
    }
   ],
   "source": [
    "print(\"\\n--- Avaliando o Modelo LightGBM no Conjunto de TREINO (para Overfitting Check) ---\")\n",
    "y_pred_train_lgbm = lgbm_model.predict(X_train)\n",
    "y_prob_train_lgbm = lgbm_model.predict_proba(X_train)[:, 1]"
   ]
  },
  {
   "cell_type": "code",
   "execution_count": 28,
   "id": "4ceee804",
   "metadata": {},
   "outputs": [
    {
     "name": "stdout",
     "output_type": "stream",
     "text": [
      "\n",
      "--- Relatório de Classificação LightGBM no Conjunto de TREINO ---\n",
      "              precision    recall  f1-score   support\n",
      "\n",
      "           0       1.00      0.99      0.99      4441\n",
      "           1       0.98      0.99      0.99      2599\n",
      "\n",
      "    accuracy                           0.99      7040\n",
      "   macro avg       0.99      0.99      0.99      7040\n",
      "weighted avg       0.99      0.99      0.99      7040\n",
      "\n"
     ]
    }
   ],
   "source": [
    "print(\"\\n--- Relatório de Classificação LightGBM no Conjunto de TREINO ---\")\n",
    "print(classification_report(y_train, y_pred_train_lgbm, zero_division=0))"
   ]
  },
  {
   "cell_type": "code",
   "execution_count": 29,
   "id": "67bfd674",
   "metadata": {},
   "outputs": [
    {
     "name": "stdout",
     "output_type": "stream",
     "text": [
      "\n",
      "AUC-ROC Score do LightGBM (TREINO): 0.9998\n"
     ]
    }
   ],
   "source": [
    "auc_roc_train_lgbm = roc_auc_score(y_train, y_prob_train_lgbm)\n",
    "print(f\"\\nAUC-ROC Score do LightGBM (TREINO): {auc_roc_train_lgbm:.4f}\")"
   ]
  },
  {
   "cell_type": "markdown",
   "id": "0e8f9b72",
   "metadata": {},
   "source": [
    "**Verificação Adicional de Overfitting: Validação Cruzada**\n",
    "\n",
    "A comparação das métricas de desempenho entre os conjuntos de treino e teste do modelo LightGBM (AUC-ROC de 0.9998 no treino vs. 0.9987 no teste) já indica uma excelente capacidade de generalização e que o overfitting severo é improvável. A diferença mínima entre esses resultados sugere que o modelo não está apenas memorizando os dados de treino, mas sim aprendendo padrões robustos.\n",
    "\n",
    "No entanto, para uma confirmação ainda mais rigorosa da estabilidade e robustez do modelo, e para demonstrar a aplicação de uma técnica fundamental de avaliação, prosseguiremos com a Validação Cruzada (Cross-Validation). Isso nos permitirá obter uma estimativa mais confiável do desempenho do modelo em diferentes subconjuntos dos dados, mitigando qualquer viés potencial de uma única divisão treino/teste e validando a consistência dos resultados observados."
   ]
  },
  {
   "cell_type": "code",
   "execution_count": 30,
   "id": "215f4e2b",
   "metadata": {},
   "outputs": [],
   "source": [
    "from sklearn.model_selection import StratifiedKFold, cross_val_score, cross_validate\n",
    "import numpy as np"
   ]
  },
  {
   "cell_type": "code",
   "execution_count": 31,
   "id": "facaed6c",
   "metadata": {},
   "outputs": [
    {
     "name": "stdout",
     "output_type": "stream",
     "text": [
      "\n",
      "--- Realizando Validação Cruzada com LightGBM ---\n"
     ]
    }
   ],
   "source": [
    "print(\"\\n--- Realizando Validação Cruzada com LightGBM ---\")\n",
    "\n",
    "# Configurar a Validação Cruzada Estratificada\n",
    "# n_splits: número de folds (divisões) - 5 é um bom começo.\n",
    "# shuffle: embaralhar os dados antes de dividir - importante.\n",
    "# random_state: para reprodutibilidade dos splits.\n",
    "cv_strategy = StratifiedKFold(n_splits=5, shuffle=True, random_state=42)"
   ]
  },
  {
   "cell_type": "code",
   "execution_count": 32,
   "id": "8737e403",
   "metadata": {},
   "outputs": [],
   "source": [
    "# Definir as métricas que queremos coletar em cada fold\n",
    "scoring_metrics = {\n",
    "    'accuracy': 'accuracy',\n",
    "    'precision_1': 'precision', \n",
    "    'recall_1': 'recall',       \n",
    "    'f1_1': 'f1',               \n",
    "    'roc_auc': 'roc_auc'\n",
    "}"
   ]
  },
  {
   "cell_type": "code",
   "execution_count": 33,
   "id": "e595e4ad",
   "metadata": {},
   "outputs": [],
   "source": [
    "# Realizar a validação cruzada\n",
    "# estimator: o modelo a ser validado (nosso lgbm_model)\n",
    "# X, y: o dataset completo (treino) que será dividido pela validação cruzada\n",
    "# cv: a estratégia de validação cruzada\n",
    "# scoring: as métricas a serem coletadas\n",
    "# n_jobs: -1 usa todos os núcleos da CPU para acelerar\n",
    "cv_results = cross_validate(estimator=lgbm_model,\n",
    "                            X=X_train, \n",
    "                            y=y_train,\n",
    "                            cv=cv_strategy,\n",
    "                            scoring=scoring_metrics,\n",
    "                            n_jobs=-1,\n",
    "                            return_train_score=True) # Para ver performance no treino em cada fold também"
   ]
  },
  {
   "cell_type": "code",
   "execution_count": 34,
   "id": "9323206b",
   "metadata": {},
   "outputs": [
    {
     "name": "stdout",
     "output_type": "stream",
     "text": [
      "\n",
      "--- Resultados da Validação Cruzada ---\n",
      "Média accuracy (Teste/Validação): 0.9797 +/- 0.0032\n",
      "Média accuracy (Treino): 0.9924 +/- 0.0009\n",
      "\n",
      "Média precision_1 (Teste/Validação): 0.9688 +/- 0.0083\n",
      "Média precision_1 (Treino): 0.9875 +/- 0.0029\n",
      "\n",
      "Média recall_1 (Teste/Validação): 0.9765 +/- 0.0037\n",
      "Média recall_1 (Treino): 0.9921 +/- 0.0016\n",
      "\n",
      "Média f1_1 (Teste/Validação): 0.9726 +/- 0.0043\n",
      "Média f1_1 (Treino): 0.9898 +/- 0.0012\n",
      "\n",
      "Média roc_auc (Teste/Validação): 0.9984 +/- 0.0004\n",
      "Média roc_auc (Treino): 0.9999 +/- 0.0000\n",
      "\n"
     ]
    }
   ],
   "source": [
    "print(\"\\n--- Resultados da Validação Cruzada ---\")\n",
    "\n",
    "# Imprimir as médias e desvios padrão para cada métrica\n",
    "for metric_name in scoring_metrics.keys():\n",
    "    # Métricas de Teste (Validação)\n",
    "    test_scores = cv_results[f'test_{metric_name}']\n",
    "    print(f\"Média {metric_name} (Teste/Validação): {np.mean(test_scores):.4f} +/- {np.std(test_scores):.4f}\")\n",
    "\n",
    "    # Métricas de Treino (para verificar overfitting por fold)\n",
    "    train_scores = cv_results[f'train_{metric_name}']\n",
    "    print(f\"Média {metric_name} (Treino): {np.mean(train_scores):.4f} +/- {np.std(train_scores):.4f}\\n\")\n"
   ]
  },
  {
   "cell_type": "code",
   "execution_count": 35,
   "id": "83ff79e9",
   "metadata": {},
   "outputs": [
    {
     "name": "stdout",
     "output_type": "stream",
     "text": [
      "\n",
      "Scores Detalhados por Fold:\n",
      "accuracy (Teste): [0.98011364 0.97727273 0.98579545 0.97798295 0.97727273]\n",
      "accuracy (Treino): [0.99236506 0.99325284 0.99183239 0.99112216 0.99360795]\n",
      "\n",
      "precision_1 (Teste): [0.97307692 0.96564885 0.98262548 0.9587242  0.96380952]\n",
      "precision_1 (Treino): [0.98754789 0.98944844 0.98846708 0.98194774 0.98993289]\n",
      "\n",
      "recall_1 (Teste): [0.97307692 0.97307692 0.97884615 0.98269231 0.97495183]\n",
      "recall_1 (Treino): [0.99182299 0.99230399 0.98941799 0.99422799 0.99278846]\n",
      "\n",
      "f1_1 (Teste): [0.97307692 0.96934866 0.98073218 0.9705603  0.96934866]\n",
      "f1_1 (Treino): [0.98968083 0.99087416 0.98894231 0.98804971 0.99135862]\n",
      "\n",
      "roc_auc (Teste): [0.99863782 0.99876343 0.9987591  0.99828699 0.99759965]\n",
      "roc_auc (Treino): [0.99985426 0.99986922 0.99982502 0.99984391 0.99988218]\n",
      "\n"
     ]
    }
   ],
   "source": [
    "# Imprimir todos os scores por fold\n",
    "print(\"\\nScores Detalhados por Fold:\")\n",
    "for metric_name in scoring_metrics.keys():\n",
    "    print(f\"{metric_name} (Teste): {cv_results[f'test_{metric_name}']}\")\n",
    "    print(f\"{metric_name} (Treino): {cv_results[f'train_{metric_name}']}\\n\")"
   ]
  },
  {
   "cell_type": "code",
   "execution_count": 38,
   "id": "ff1d6552",
   "metadata": {},
   "outputs": [
    {
     "name": "stdout",
     "output_type": "stream",
     "text": [
      "\n",
      "--- Gerando Plots da Validação Cruzada ---\n"
     ]
    },
    {
     "data": {
      "image/png": "[encoded data removed]",
      "text/plain": [
       "<Figure size 1200x600 with 2 Axes>"
      ]
     },
     "metadata": {},
     "output_type": "display_data"
    },
    {
     "name": "stdout",
     "output_type": "stream",
     "text": [
      "\n",
      "--- Plots da Validação Cruzada Gerados e Salvos em '../images/cv_metrics_boxplot.png' ---\n",
      "\n",
      "--- Validação Cruzada Concluída ---\n"
     ]
    }
   ],
   "source": [
    "# --- Visualização dos Resultados da Validação Cruzada ---\n",
    "\n",
    "print(\"\\n--- Gerando Plots da Validação Cruzada ---\")\n",
    "\n",
    "# Criar um DataFrame com os resultados de teste para facilitar a plotagem\n",
    "cv_scores_df = pd.DataFrame({\n",
    "    'AUC-ROC': cv_results['test_roc_auc'],\n",
    "    'Recall (Classe 1)': cv_results['test_recall_1'],\n",
    "    'F1-Score (Classe 1)': cv_results['test_f1_1']\n",
    "})\n",
    "\n",
    "# Plotar Box Plots para as principais métricas de teste\n",
    "plt.figure(figsize=(12, 6))\n",
    "\n",
    "plt.subplot(1, 2, 1) # 1 linha, 2 colunas, primeiro plot\n",
    "sns.boxplot(data=cv_scores_df[['AUC-ROC']])\n",
    "plt.title('Distribuição do AUC-ROC (Cross-Validation)')\n",
    "plt.ylabel('Score AUC-ROC')\n",
    "plt.grid(axis='y', linestyle='--', alpha=0.7)\n",
    "\n",
    "plt.subplot(1, 2, 2) # 1 linha, 2 colunas, segundo plot\n",
    "sns.boxplot(data=cv_scores_df[['Recall (Classe 1)']])\n",
    "plt.title('Distribuição do Recall (Classe 1 - Cross-Validation)')\n",
    "plt.ylabel('Score Recall')\n",
    "plt.grid(axis='y', linestyle='--', alpha=0.7)\n",
    "\n",
    "plt.tight_layout()\n",
    "plt.savefig('../images/cv_metrics_boxplot.png') # Salva o plot\n",
    "plt.show()\n",
    "\n",
    "print(\"\\n--- Plots da Validação Cruzada Gerados e Salvos em '../images/cv_metrics_boxplot.png' ---\")\n",
    "\n",
    "print(\"\\n--- Validação Cruzada Concluída ---\")"
   ]
  },
  {
   "cell_type": "markdown",
   "id": "96eefab2",
   "metadata": {},
   "source": [
    "### Conclusão da Validação Cruzada e Próximos Passos\n",
    "\n",
    "A **Validação Cruzada Estratificada com 5 folds** confirmou a **robustez e a alta performance** do modelo **LightGBM**. As métricas de teste/validação apresentaram resultados consistentemente elevados (ex: **Recall da Classe 1 em torno de 0.9765 e AUC-ROC em 0.9984**), com **desvios padrão mínimos** em todos os folds.\n",
    "\n",
    "Essa consistência valida a capacidade de generalização do modelo, reforçando que os resultados observados no conjunto de teste inicial não foram por acaso. O modelo não demonstra sinais de overfitting severo e está apto a identificar oportunidades de vendas perdidas com alta precisão e recall.\n",
    "\n",
    "Considerando os objetivos de negócio de **minimizar falsos negativos** (ou seja, não perder oportunidades que poderiam ter sido salvas), o desempenho do LightGBM é excepcional. A capacidade de identificar 97% das perdas reais é um diferencial significativo para as equipes de vendas.\n",
    "\n",
    "Com esta validação concluída, a fase de Modelagem é considerada bem-sucedida. O próximo passo será aprofundar a Avaliação do modelo e documentar detalhadamente todas essas etapas no `README.md` do projeto."
   ]
  },
  {
   "cell_type": "markdown",
   "id": "d085b604",
   "metadata": {},
   "source": [
    "# --- 5. Salvar o Modelo Treinado LightGBM ---"
   ]
  },
  {
   "cell_type": "code",
   "execution_count": 37,
   "id": "4202bea2",
   "metadata": {},
   "outputs": [
    {
     "name": "stdout",
     "output_type": "stream",
     "text": [
      "\n",
      "--- Iniciando o processo de salvamento do modelo ---\n",
      "Diretório '../models/' criado com sucesso.\n",
      "\n",
      "Modelo LightGBM salvo com sucesso em: '../models/lightgbm_model.joblib'\n",
      "--- Processo de salvamento do modelo concluído ---\n"
     ]
    }
   ],
   "source": [
    "print(\"\\n--- Iniciando o processo de salvamento do modelo ---\")\n",
    "\n",
    "# Define o diretório onde o modelo será salvo\n",
    "models_dir = '../models/'\n",
    "\n",
    "# Garante que o diretório 'models' exista. Se não existir, ele será criado.\n",
    "if not os.path.exists(models_dir):\n",
    "    os.makedirs(models_dir)\n",
    "    print(f\"Diretório '{models_dir}' criado com sucesso.\")\n",
    "\n",
    "# Define o caminho completo para o arquivo do modelo\n",
    "model_filename = os.path.join(models_dir, 'lightgbm_model.joblib')\n",
    "\n",
    "# Salva o modelo usando joblib\n",
    "joblib.dump(lgbm_model, model_filename)\n",
    "\n",
    "print(f\"\\nModelo LightGBM salvo com sucesso em: '{model_filename}'\")\n",
    "print(\"--- Processo de salvamento do modelo concluído ---\")"
   ]
  }
 ],
 "metadata": {
  "kernelspec": {
   "display_name": "venv",
   "language": "python",
   "name": "python3"
  },
  "language_info": {
   "codemirror_mode": {
    "name": "ipython",
    "version": 3
   },
   "file_extension": ".py",
   "mimetype": "text/x-python",
   "name": "python",
   "nbconvert_exporter": "python",
   "pygments_lexer": "ipython3",
   "version": "3.13.2"
  }
 },
 "nbformat": 4,
 "nbformat_minor": 5
}
