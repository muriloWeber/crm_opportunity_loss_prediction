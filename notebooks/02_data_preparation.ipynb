{
 "cells": [
  {
   "cell_type": "code",
   "execution_count": 1,
   "id": "62572a61",
   "metadata": {},
   "outputs": [],
   "source": [
    "import pandas as pd\n",
    "import os"
   ]
  },
  {
   "cell_type": "code",
   "execution_count": 2,
   "id": "bbc040f5",
   "metadata": {},
   "outputs": [
    {
     "name": "stdout",
     "output_type": "stream",
     "text": [
      "DataFrame carregado com sucesso!\n",
      "\n",
      "--- Primeiras 5 linhas do DataFrame ---\n"
     ]
    },
    {
     "data": {
      "text/html": [
       "<div>\n",
       "<style scoped>\n",
       "    .dataframe tbody tr th:only-of-type {\n",
       "        vertical-align: middle;\n",
       "    }\n",
       "\n",
       "    .dataframe tbody tr th {\n",
       "        vertical-align: top;\n",
       "    }\n",
       "\n",
       "    .dataframe thead th {\n",
       "        text-align: right;\n",
       "    }\n",
       "</style>\n",
       "<table border=\"1\" class=\"dataframe\">\n",
       "  <thead>\n",
       "    <tr style=\"text-align: right;\">\n",
       "      <th></th>\n",
       "      <th>opportunity_id</th>\n",
       "      <th>sales_agent</th>\n",
       "      <th>product</th>\n",
       "      <th>account</th>\n",
       "      <th>deal_stage</th>\n",
       "      <th>engage_date</th>\n",
       "      <th>close_date</th>\n",
       "      <th>close_value</th>\n",
       "      <th>target</th>\n",
       "      <th>sector</th>\n",
       "      <th>year_established</th>\n",
       "      <th>revenue</th>\n",
       "      <th>employees</th>\n",
       "      <th>office_location</th>\n",
       "      <th>subsidiary_of</th>\n",
       "      <th>series</th>\n",
       "      <th>sales_price</th>\n",
       "      <th>manager</th>\n",
       "      <th>regional_office</th>\n",
       "    </tr>\n",
       "  </thead>\n",
       "  <tbody>\n",
       "    <tr>\n",
       "      <th>0</th>\n",
       "      <td>1C1I7A6R</td>\n",
       "      <td>Moses Frase</td>\n",
       "      <td>GTX Plus Basic</td>\n",
       "      <td>Cancity</td>\n",
       "      <td>Won</td>\n",
       "      <td>2016-10-20</td>\n",
       "      <td>2017-03-01</td>\n",
       "      <td>1054.0</td>\n",
       "      <td>0</td>\n",
       "      <td>retail</td>\n",
       "      <td>2001.0</td>\n",
       "      <td>718.62</td>\n",
       "      <td>2448.0</td>\n",
       "      <td>United States</td>\n",
       "      <td>NaN</td>\n",
       "      <td>GTX</td>\n",
       "      <td>1096.0</td>\n",
       "      <td>Dustin Brinkmann</td>\n",
       "      <td>Central</td>\n",
       "    </tr>\n",
       "    <tr>\n",
       "      <th>1</th>\n",
       "      <td>Z063OYW0</td>\n",
       "      <td>Darcel Schlecht</td>\n",
       "      <td>GTXPro</td>\n",
       "      <td>Isdom</td>\n",
       "      <td>Won</td>\n",
       "      <td>2016-10-25</td>\n",
       "      <td>2017-03-11</td>\n",
       "      <td>4514.0</td>\n",
       "      <td>0</td>\n",
       "      <td>medical</td>\n",
       "      <td>2002.0</td>\n",
       "      <td>3178.24</td>\n",
       "      <td>4540.0</td>\n",
       "      <td>United States</td>\n",
       "      <td>NaN</td>\n",
       "      <td>NaN</td>\n",
       "      <td>NaN</td>\n",
       "      <td>Melvin Marxen</td>\n",
       "      <td>Central</td>\n",
       "    </tr>\n",
       "    <tr>\n",
       "      <th>2</th>\n",
       "      <td>EC4QE1BX</td>\n",
       "      <td>Darcel Schlecht</td>\n",
       "      <td>MG Special</td>\n",
       "      <td>Cancity</td>\n",
       "      <td>Won</td>\n",
       "      <td>2016-10-25</td>\n",
       "      <td>2017-03-07</td>\n",
       "      <td>50.0</td>\n",
       "      <td>0</td>\n",
       "      <td>retail</td>\n",
       "      <td>2001.0</td>\n",
       "      <td>718.62</td>\n",
       "      <td>2448.0</td>\n",
       "      <td>United States</td>\n",
       "      <td>NaN</td>\n",
       "      <td>MG</td>\n",
       "      <td>55.0</td>\n",
       "      <td>Melvin Marxen</td>\n",
       "      <td>Central</td>\n",
       "    </tr>\n",
       "    <tr>\n",
       "      <th>3</th>\n",
       "      <td>MV1LWRNH</td>\n",
       "      <td>Moses Frase</td>\n",
       "      <td>GTX Basic</td>\n",
       "      <td>Codehow</td>\n",
       "      <td>Won</td>\n",
       "      <td>2016-10-25</td>\n",
       "      <td>2017-03-09</td>\n",
       "      <td>588.0</td>\n",
       "      <td>0</td>\n",
       "      <td>software</td>\n",
       "      <td>1998.0</td>\n",
       "      <td>2714.90</td>\n",
       "      <td>2641.0</td>\n",
       "      <td>United States</td>\n",
       "      <td>Acme Corporation</td>\n",
       "      <td>GTX</td>\n",
       "      <td>550.0</td>\n",
       "      <td>Dustin Brinkmann</td>\n",
       "      <td>Central</td>\n",
       "    </tr>\n",
       "    <tr>\n",
       "      <th>4</th>\n",
       "      <td>PE84CX4O</td>\n",
       "      <td>Zane Levy</td>\n",
       "      <td>GTX Basic</td>\n",
       "      <td>Hatfan</td>\n",
       "      <td>Won</td>\n",
       "      <td>2016-10-25</td>\n",
       "      <td>2017-03-02</td>\n",
       "      <td>517.0</td>\n",
       "      <td>0</td>\n",
       "      <td>services</td>\n",
       "      <td>1982.0</td>\n",
       "      <td>792.46</td>\n",
       "      <td>1299.0</td>\n",
       "      <td>United States</td>\n",
       "      <td>NaN</td>\n",
       "      <td>GTX</td>\n",
       "      <td>550.0</td>\n",
       "      <td>Summer Sewald</td>\n",
       "      <td>West</td>\n",
       "    </tr>\n",
       "  </tbody>\n",
       "</table>\n",
       "</div>"
      ],
      "text/plain": [
       "  opportunity_id      sales_agent         product  account deal_stage  \\\n",
       "0       1C1I7A6R      Moses Frase  GTX Plus Basic  Cancity        Won   \n",
       "1       Z063OYW0  Darcel Schlecht          GTXPro    Isdom        Won   \n",
       "2       EC4QE1BX  Darcel Schlecht      MG Special  Cancity        Won   \n",
       "3       MV1LWRNH      Moses Frase       GTX Basic  Codehow        Won   \n",
       "4       PE84CX4O        Zane Levy       GTX Basic   Hatfan        Won   \n",
       "\n",
       "  engage_date  close_date  close_value  target    sector  year_established  \\\n",
       "0  2016-10-20  2017-03-01       1054.0       0    retail            2001.0   \n",
       "1  2016-10-25  2017-03-11       4514.0       0   medical            2002.0   \n",
       "2  2016-10-25  2017-03-07         50.0       0    retail            2001.0   \n",
       "3  2016-10-25  2017-03-09        588.0       0  software            1998.0   \n",
       "4  2016-10-25  2017-03-02        517.0       0  services            1982.0   \n",
       "\n",
       "   revenue  employees office_location     subsidiary_of series  sales_price  \\\n",
       "0   718.62     2448.0   United States               NaN    GTX       1096.0   \n",
       "1  3178.24     4540.0   United States               NaN    NaN          NaN   \n",
       "2   718.62     2448.0   United States               NaN     MG         55.0   \n",
       "3  2714.90     2641.0   United States  Acme Corporation    GTX        550.0   \n",
       "4   792.46     1299.0   United States               NaN    GTX        550.0   \n",
       "\n",
       "            manager regional_office  \n",
       "0  Dustin Brinkmann         Central  \n",
       "1     Melvin Marxen         Central  \n",
       "2     Melvin Marxen         Central  \n",
       "3  Dustin Brinkmann         Central  \n",
       "4     Summer Sewald            West  "
      ]
     },
     "execution_count": 2,
     "metadata": {},
     "output_type": "execute_result"
    }
   ],
   "source": [
    "file_path = '../data/processed/df_eda_consolidated.csv'\n",
    "\n",
    "df = pd.read_csv(file_path)\n",
    "\n",
    "print(\"DataFrame carregado com sucesso!\")\n",
    "print(\"\\n--- Primeiras 5 linhas do DataFrame ---\")\n",
    "\n",
    "df.head()\n"
   ]
  },
  {
   "cell_type": "code",
   "execution_count": 3,
   "id": "09af36d7",
   "metadata": {},
   "outputs": [
    {
     "name": "stdout",
     "output_type": "stream",
     "text": [
      "\n",
      "--- Informações do DataFrame ---\n",
      "<class 'pandas.core.frame.DataFrame'>\n",
      "RangeIndex: 8800 entries, 0 to 8799\n",
      "Data columns (total 19 columns):\n",
      " #   Column            Non-Null Count  Dtype  \n",
      "---  ------            --------------  -----  \n",
      " 0   opportunity_id    8800 non-null   object \n",
      " 1   sales_agent       8800 non-null   object \n",
      " 2   product           8800 non-null   object \n",
      " 3   account           7375 non-null   object \n",
      " 4   deal_stage        8800 non-null   object \n",
      " 5   engage_date       8300 non-null   object \n",
      " 6   close_date        6711 non-null   object \n",
      " 7   close_value       6711 non-null   float64\n",
      " 8   target            8800 non-null   int64  \n",
      " 9   sector            7375 non-null   object \n",
      " 10  year_established  7375 non-null   float64\n",
      " 11  revenue           7375 non-null   float64\n",
      " 12  employees         7375 non-null   float64\n",
      " 13  office_location   7375 non-null   object \n",
      " 14  subsidiary_of     1292 non-null   object \n",
      " 15  series            7320 non-null   object \n",
      " 16  sales_price       7320 non-null   float64\n",
      " 17  manager           8800 non-null   object \n",
      " 18  regional_office   8800 non-null   object \n",
      "dtypes: float64(5), int64(1), object(13)\n",
      "memory usage: 1.3+ MB\n",
      "None\n",
      "\n",
      "--- Fim do carregamento ---\n"
     ]
    }
   ],
   "source": [
    "print(\"\\n--- Informações do DataFrame ---\")\n",
    "print(df.info())\n",
    "print(\"\\n--- Fim do carregamento ---\")"
   ]
  },
  {
   "cell_type": "markdown",
   "id": "71c1e287",
   "metadata": {},
   "source": [
    "# --- 1. Tratamento de Valores Ausentes ---"
   ]
  },
  {
   "cell_type": "code",
   "execution_count": 4,
   "id": "839df2af",
   "metadata": {},
   "outputs": [
    {
     "name": "stdout",
     "output_type": "stream",
     "text": [
      "\n",
      "--- Contagem de Valores Ausentes por Coluna ---\n",
      "opportunity_id         0\n",
      "sales_agent            0\n",
      "product                0\n",
      "account             1425\n",
      "deal_stage             0\n",
      "engage_date          500\n",
      "close_date          2089\n",
      "close_value         2089\n",
      "target                 0\n",
      "sector              1425\n",
      "year_established    1425\n",
      "revenue             1425\n",
      "employees           1425\n",
      "office_location     1425\n",
      "subsidiary_of       7508\n",
      "series              1480\n",
      "sales_price         1480\n",
      "manager                0\n",
      "regional_office        0\n",
      "dtype: int64\n"
     ]
    }
   ],
   "source": [
    "print(\"\\n--- Contagem de Valores Ausentes por Coluna ---\")\n",
    "print(df.isnull().sum())"
   ]
  },
  {
   "cell_type": "code",
   "execution_count": 5,
   "id": "74d6b2a0",
   "metadata": {},
   "outputs": [
    {
     "name": "stdout",
     "output_type": "stream",
     "text": [
      "\n",
      "--- Porcentagem de Valores Ausentes por Coluna ---\n",
      "subsidiary_of       85.318182\n",
      "close_date          23.738636\n",
      "close_value         23.738636\n",
      "sales_price         16.818182\n",
      "series              16.818182\n",
      "revenue             16.193182\n",
      "employees           16.193182\n",
      "office_location     16.193182\n",
      "year_established    16.193182\n",
      "sector              16.193182\n",
      "account             16.193182\n",
      "engage_date          5.681818\n",
      "product              0.000000\n",
      "opportunity_id       0.000000\n",
      "sales_agent          0.000000\n",
      "target               0.000000\n",
      "deal_stage           0.000000\n",
      "manager              0.000000\n",
      "regional_office      0.000000\n",
      "dtype: float64\n"
     ]
    }
   ],
   "source": [
    "print(\"\\n--- Porcentagem de Valores Ausentes por Coluna ---\")\n",
    "print((df.isnull().sum() / len(df) * 100).sort_values(ascending=False))"
   ]
  },
  {
   "cell_type": "markdown",
   "id": "c852fb71",
   "metadata": {},
   "source": [
    "## --- 1.1. Preenchimento de Valores Ausentes ---"
   ]
  },
  {
   "cell_type": "code",
   "execution_count": 6,
   "id": "cf09fe5d",
   "metadata": {},
   "outputs": [],
   "source": [
    "# Colunas Categóricas com NaN para preencher com valores em Inglês\n",
    "df['subsidiary_of'] = df['subsidiary_of'].fillna('Not_Subsidiary')\n",
    "df['sector'] = df['sector'].fillna('Unknown_Sector')\n",
    "df['office_location'] = df['office_location'].fillna('Unknown_Location')\n",
    "df['account'] = df['account'].fillna('Unknown_Account')\n",
    "df['series'] = df['series'].fillna('Unknown_Series')"
   ]
  },
  {
   "cell_type": "code",
   "execution_count": 7,
   "id": "4243e709",
   "metadata": {},
   "outputs": [],
   "source": [
    "# Colunas Numéricas com NaN para preencher com a Mediana (sem alteração)\n",
    "median_revenue = df['revenue'].median()\n",
    "median_employees = df['employees'].median()\n",
    "median_year_established = df['year_established'].median()\n",
    "median_sales_price = df['sales_price'].median()\n",
    "\n",
    "df['revenue'] = df['revenue'].fillna(median_revenue)\n",
    "df['employees'] = df['employees'].fillna(median_employees)\n",
    "df['year_established'] = df['year_established'].fillna(median_year_established)\n",
    "df['sales_price'] = df['sales_price'].fillna(median_sales_price)"
   ]
  },
  {
   "cell_type": "code",
   "execution_count": 8,
   "id": "bbbcb371",
   "metadata": {},
   "outputs": [
    {
     "name": "stdout",
     "output_type": "stream",
     "text": [
      "Coluna 'close_value_filled' criada/atualizada com NaNs preenchidos por 0.\n"
     ]
    }
   ],
   "source": [
    "# Para close_value, usaremos a coluna 'close_value_filled' que já foi tratada\n",
    "if 'close_value_filled' not in df.columns:\n",
    "    df['close_value_filled'] = df['close_value'].fillna(0)\n",
    "    print(\"Coluna 'close_value_filled' criada/atualizada com NaNs preenchidos por 0.\")"
   ]
  },
  {
   "cell_type": "code",
   "execution_count": 9,
   "id": "003e0293",
   "metadata": {},
   "outputs": [
    {
     "name": "stdout",
     "output_type": "stream",
     "text": [
      "\n",
      "--- Porcentagem de Valores Ausentes por Coluna APÓS PREENCHIMENTO ---\n",
      "close_date            23.738636\n",
      "close_value           23.738636\n",
      "engage_date            5.681818\n",
      "opportunity_id         0.000000\n",
      "account                0.000000\n",
      "product                0.000000\n",
      "sales_agent            0.000000\n",
      "deal_stage             0.000000\n",
      "target                 0.000000\n",
      "sector                 0.000000\n",
      "year_established       0.000000\n",
      "revenue                0.000000\n",
      "employees              0.000000\n",
      "office_location        0.000000\n",
      "subsidiary_of          0.000000\n",
      "series                 0.000000\n",
      "sales_price            0.000000\n",
      "manager                0.000000\n",
      "regional_office        0.000000\n",
      "close_value_filled     0.000000\n",
      "dtype: float64\n"
     ]
    }
   ],
   "source": [
    "# Verificar novamente os valores ausentes após o preenchimento\n",
    "print(\"\\n--- Porcentagem de Valores Ausentes por Coluna APÓS PREENCHIMENTO ---\")\n",
    "print((df.isnull().sum() / len(df) * 100).sort_values(ascending=False))"
   ]
  },
  {
   "cell_type": "markdown",
   "id": "bad7c96d",
   "metadata": {},
   "source": [
    "# --- 2. Engenharia de Features ---"
   ]
  },
  {
   "cell_type": "markdown",
   "id": "5406431e",
   "metadata": {},
   "source": [
    "## 2.1. Conversão de Datas para datetime"
   ]
  },
  {
   "cell_type": "code",
   "execution_count": 10,
   "id": "e6dc2029",
   "metadata": {},
   "outputs": [],
   "source": [
    "# Coerção de erros 'coerce' converterá valores inválidos para NaT (Not a Time)\n",
    "df['engage_date'] = pd.to_datetime(df['engage_date'], errors='coerce')\n",
    "df['close_date'] = pd.to_datetime(df['close_date'], errors='coerce')"
   ]
  },
  {
   "cell_type": "markdown",
   "id": "eebcdcaa",
   "metadata": {},
   "source": [
    "## 2.2. Criação da feature 'opportunity_duration_days'"
   ]
  },
  {
   "cell_type": "code",
   "execution_count": 11,
   "id": "d75cf609",
   "metadata": {},
   "outputs": [],
   "source": [
    "# Para garantir que não haja durações negativas ou zero que possam ser erros\n",
    "# Calculamos a diferença e preenchemos NaNs (resultantes de NaT nas datas)\n",
    "# com um valor neutro ou que indique 'desconhecido' para a duração, ou filtramos.\n",
    "# Como já fizemos na EDA, vamos recriar com tratamento similar.\n",
    "df['opportunity_duration_days'] = (df['close_date'] - df['engage_date']).dt.days\n",
    "\n",
    "# Preencher NaNs na duração: Para oportunidades onde close_date ou engage_date eram NaT\n",
    "# Ou para casos onde não faz sentido ter duração (ex: target=1 e close_value=0, mas sem close_date)\n",
    "# Uma estratégia é preencher com a mediana das durações positivas, ou 0, ou -1 para indicar \"não aplicável/desconhecido\".\n",
    "# Dado que 'close_date' e 'engage_date' ainda têm NaNs, a 'opportunity_duration_days' também terá NaNs.\n",
    "# Vamos preencher os NaNs de 'opportunity_duration_days' com a mediana das durações **válidas**.\n",
    "median_duration = df['opportunity_duration_days'].median()\n",
    "df['opportunity_duration_days'] = df['opportunity_duration_days'].fillna(median_duration)\n",
    "\n",
    "# Tratar durações <= 0 como um valor específico ou 0, se for um erro de dados\n",
    "df['opportunity_duration_days'] = df['opportunity_duration_days'].apply(lambda x: 0 if x <= 0 else x)"
   ]
  },
  {
   "cell_type": "code",
   "execution_count": 12,
   "id": "f35bc9b5",
   "metadata": {},
   "outputs": [
    {
     "name": "stdout",
     "output_type": "stream",
     "text": [
      "\n",
      "--- Informações do DataFrame após conversão de datas e criação de duração ---\n",
      "<class 'pandas.core.frame.DataFrame'>\n",
      "RangeIndex: 8800 entries, 0 to 8799\n",
      "Data columns (total 3 columns):\n",
      " #   Column                     Non-Null Count  Dtype         \n",
      "---  ------                     --------------  -----         \n",
      " 0   engage_date                8300 non-null   datetime64[ns]\n",
      " 1   close_date                 6711 non-null   datetime64[ns]\n",
      " 2   opportunity_duration_days  8800 non-null   float64       \n",
      "dtypes: datetime64[ns](2), float64(1)\n",
      "memory usage: 206.4 KB\n",
      "None\n"
     ]
    }
   ],
   "source": [
    "print(\"\\n--- Informações do DataFrame após conversão de datas e criação de duração ---\")\n",
    "print(df[['engage_date', 'close_date', 'opportunity_duration_days']].info())"
   ]
  },
  {
   "cell_type": "code",
   "execution_count": 13,
   "id": "09457c56",
   "metadata": {},
   "outputs": [
    {
     "name": "stdout",
     "output_type": "stream",
     "text": [
      "\n",
      "--- Estatísticas descritivas da Duração da Oportunidade (em dias) ---\n",
      "count    8800.000000\n",
      "mean       47.276705\n",
      "std        35.876598\n",
      "min         1.000000\n",
      "25%        10.000000\n",
      "50%        45.000000\n",
      "75%        76.000000\n",
      "max       138.000000\n",
      "Name: opportunity_duration_days, dtype: float64\n"
     ]
    }
   ],
   "source": [
    "print(\"\\n--- Estatísticas descritivas da Duração da Oportunidade (em dias) ---\")\n",
    "print(df['opportunity_duration_days'].describe())"
   ]
  },
  {
   "cell_type": "code",
   "execution_count": 14,
   "id": "7e83a6e2",
   "metadata": {},
   "outputs": [
    {
     "name": "stdout",
     "output_type": "stream",
     "text": [
      "\n",
      "--- Porcentagem de Valores Ausentes após criação de 'opportunity_duration_days' ---\n",
      "close_date                   23.738636\n",
      "close_value                  23.738636\n",
      "engage_date                   5.681818\n",
      "sales_agent                   0.000000\n",
      "opportunity_id                0.000000\n",
      "deal_stage                    0.000000\n",
      "account                       0.000000\n",
      "product                       0.000000\n",
      "target                        0.000000\n",
      "sector                        0.000000\n",
      "year_established              0.000000\n",
      "revenue                       0.000000\n",
      "employees                     0.000000\n",
      "office_location               0.000000\n",
      "subsidiary_of                 0.000000\n",
      "series                        0.000000\n",
      "sales_price                   0.000000\n",
      "manager                       0.000000\n",
      "regional_office               0.000000\n",
      "close_value_filled            0.000000\n",
      "opportunity_duration_days     0.000000\n",
      "dtype: float64\n"
     ]
    }
   ],
   "source": [
    "print(\"\\n--- Porcentagem de Valores Ausentes após criação de 'opportunity_duration_days' ---\")\n",
    "print((df.isnull().sum() / len(df) * 100).sort_values(ascending=False))"
   ]
  },
  {
   "cell_type": "markdown",
   "id": "b8359a0d",
   "metadata": {},
   "source": [
    "# --- 3. Codificação de Variáveis Categóricas ---"
   ]
  },
  {
   "cell_type": "code",
   "execution_count": 15,
   "id": "da65ff21",
   "metadata": {},
   "outputs": [
    {
     "name": "stdout",
     "output_type": "stream",
     "text": [
      "\n",
      "Colunas categóricas identificadas para One-Hot Encoding: ['sales_agent', 'product', 'deal_stage', 'sector', 'office_location', 'subsidiary_of', 'series', 'manager', 'regional_office']\n"
     ]
    }
   ],
   "source": [
    "# Identificar colunas categóricas (object ou que sabemos que são categóricas)\n",
    "categorical_cols = df.select_dtypes(include='object').columns.tolist()\n",
    "\n",
    "# Excluir IDs e as colunas de data originais que serão substituídas pela duração.\n",
    "# 'opportunity_id' e 'account' são IDs e geralmente não são usadas diretamente na modelagem.\n",
    "# 'close_value' original não será usada, usaremos 'close_value_filled'.\n",
    "# 'target' é a variável alvo, não deve ser codificada agora.\n",
    "cols_to_encode = [col for col in categorical_cols if col not in ['opportunity_id', 'account', 'engage_date', 'close_date', 'close_value', 'target']]\n",
    "\n",
    "\n",
    "print(f\"\\nColunas categóricas identificadas para One-Hot Encoding: {cols_to_encode}\")"
   ]
  },
  {
   "cell_type": "code",
   "execution_count": 17,
   "id": "bbbdfd00",
   "metadata": {},
   "outputs": [
    {
     "name": "stdout",
     "output_type": "stream",
     "text": [
      "\n",
      "--- Informações do DataFrame após One-Hot Encoding ---\n",
      "<class 'pandas.core.frame.DataFrame'>\n",
      "RangeIndex: 8800 entries, 0 to 8799\n",
      "Data columns (total 92 columns):\n",
      " #   Column                            Non-Null Count  Dtype         \n",
      "---  ------                            --------------  -----         \n",
      " 0   opportunity_id                    8800 non-null   object        \n",
      " 1   account                           8800 non-null   object        \n",
      " 2   engage_date                       8300 non-null   datetime64[ns]\n",
      " 3   close_date                        6711 non-null   datetime64[ns]\n",
      " 4   close_value                       6711 non-null   float64       \n",
      " 5   target                            8800 non-null   int64         \n",
      " 6   year_established                  8800 non-null   float64       \n",
      " 7   revenue                           8800 non-null   float64       \n",
      " 8   employees                         8800 non-null   float64       \n",
      " 9   sales_price                       8800 non-null   float64       \n",
      " 10  close_value_filled                8800 non-null   float64       \n",
      " 11  opportunity_duration_days         8800 non-null   float64       \n",
      " 12  sales_agent_Boris Faz             8800 non-null   int64         \n",
      " 13  sales_agent_Cassey Cress          8800 non-null   int64         \n",
      " 14  sales_agent_Cecily Lampkin        8800 non-null   int64         \n",
      " 15  sales_agent_Corliss Cosme         8800 non-null   int64         \n",
      " 16  sales_agent_Daniell Hammack       8800 non-null   int64         \n",
      " 17  sales_agent_Darcel Schlecht       8800 non-null   int64         \n",
      " 18  sales_agent_Donn Cantrell         8800 non-null   int64         \n",
      " 19  sales_agent_Elease Gluck          8800 non-null   int64         \n",
      " 20  sales_agent_Garret Kinder         8800 non-null   int64         \n",
      " 21  sales_agent_Gladys Colclough      8800 non-null   int64         \n",
      " 22  sales_agent_Hayden Neloms         8800 non-null   int64         \n",
      " 23  sales_agent_James Ascencio        8800 non-null   int64         \n",
      " 24  sales_agent_Jonathan Berthelot    8800 non-null   int64         \n",
      " 25  sales_agent_Kami Bicknell         8800 non-null   int64         \n",
      " 26  sales_agent_Kary Hendrixson       8800 non-null   int64         \n",
      " 27  sales_agent_Lajuana Vencill       8800 non-null   int64         \n",
      " 28  sales_agent_Markita Hansen        8800 non-null   int64         \n",
      " 29  sales_agent_Marty Freudenburg     8800 non-null   int64         \n",
      " 30  sales_agent_Maureen Marcano       8800 non-null   int64         \n",
      " 31  sales_agent_Moses Frase           8800 non-null   int64         \n",
      " 32  sales_agent_Niesha Huffines       8800 non-null   int64         \n",
      " 33  sales_agent_Reed Clapper          8800 non-null   int64         \n",
      " 34  sales_agent_Rosalina Dieter       8800 non-null   int64         \n",
      " 35  sales_agent_Rosie Papadopoulos    8800 non-null   int64         \n",
      " 36  sales_agent_Versie Hillebrand     8800 non-null   int64         \n",
      " 37  sales_agent_Vicki Laflamme        8800 non-null   int64         \n",
      " 38  sales_agent_Violet Mclelland      8800 non-null   int64         \n",
      " 39  sales_agent_Wilburn Farren        8800 non-null   int64         \n",
      " 40  sales_agent_Zane Levy             8800 non-null   int64         \n",
      " 41  product_GTX Basic                 8800 non-null   int64         \n",
      " 42  product_GTX Plus Basic            8800 non-null   int64         \n",
      " 43  product_GTX Plus Pro              8800 non-null   int64         \n",
      " 44  product_GTXPro                    8800 non-null   int64         \n",
      " 45  product_MG Advanced               8800 non-null   int64         \n",
      " 46  product_MG Special                8800 non-null   int64         \n",
      " 47  deal_stage_Lost                   8800 non-null   int64         \n",
      " 48  deal_stage_Prospecting            8800 non-null   int64         \n",
      " 49  deal_stage_Won                    8800 non-null   int64         \n",
      " 50  sector_employment                 8800 non-null   int64         \n",
      " 51  sector_entertainment              8800 non-null   int64         \n",
      " 52  sector_finance                    8800 non-null   int64         \n",
      " 53  sector_marketing                  8800 non-null   int64         \n",
      " 54  sector_medical                    8800 non-null   int64         \n",
      " 55  sector_retail                     8800 non-null   int64         \n",
      " 56  sector_services                   8800 non-null   int64         \n",
      " 57  sector_software                   8800 non-null   int64         \n",
      " 58  sector_technolgy                  8800 non-null   int64         \n",
      " 59  sector_telecommunications         8800 non-null   int64         \n",
      " 60  office_location_Brazil            8800 non-null   int64         \n",
      " 61  office_location_China             8800 non-null   int64         \n",
      " 62  office_location_Germany           8800 non-null   int64         \n",
      " 63  office_location_Italy             8800 non-null   int64         \n",
      " 64  office_location_Japan             8800 non-null   int64         \n",
      " 65  office_location_Jordan            8800 non-null   int64         \n",
      " 66  office_location_Kenya             8800 non-null   int64         \n",
      " 67  office_location_Korea             8800 non-null   int64         \n",
      " 68  office_location_Norway            8800 non-null   int64         \n",
      " 69  office_location_Panama            8800 non-null   int64         \n",
      " 70  office_location_Philipines        8800 non-null   int64         \n",
      " 71  office_location_Poland            8800 non-null   int64         \n",
      " 72  office_location_Romania           8800 non-null   int64         \n",
      " 73  office_location_United States     8800 non-null   int64         \n",
      " 74  office_location_Unknown_Location  8800 non-null   int64         \n",
      " 75  subsidiary_of_Bubba Gump          8800 non-null   int64         \n",
      " 76  subsidiary_of_Golddex             8800 non-null   int64         \n",
      " 77  subsidiary_of_Inity               8800 non-null   int64         \n",
      " 78  subsidiary_of_Massive Dynamic     8800 non-null   int64         \n",
      " 79  subsidiary_of_Not_Subsidiary      8800 non-null   int64         \n",
      " 80  subsidiary_of_Sonron              8800 non-null   int64         \n",
      " 81  subsidiary_of_Warephase           8800 non-null   int64         \n",
      " 82  series_GTX                        8800 non-null   int64         \n",
      " 83  series_MG                         8800 non-null   int64         \n",
      " 84  series_Unknown_Series             8800 non-null   int64         \n",
      " 85  manager_Celia Rouche              8800 non-null   int64         \n",
      " 86  manager_Dustin Brinkmann          8800 non-null   int64         \n",
      " 87  manager_Melvin Marxen             8800 non-null   int64         \n",
      " 88  manager_Rocco Neubert             8800 non-null   int64         \n",
      " 89  manager_Summer Sewald             8800 non-null   int64         \n",
      " 90  regional_office_East              8800 non-null   int64         \n",
      " 91  regional_office_West              8800 non-null   int64         \n",
      "dtypes: datetime64[ns](2), float64(7), int64(81), object(2)\n",
      "memory usage: 6.2+ MB\n",
      "None\n"
     ]
    }
   ],
   "source": [
    "# Aplicar One-Hot Encoding\n",
    "# drop_first=True para evitar a multicolinearidade e reduzir uma coluna por categoria\n",
    "# dtype=int para garantir que as novas colunas sejam de inteiros (0 ou 1)\n",
    "df_encoded = pd.get_dummies(df, columns=cols_to_encode, drop_first=True, dtype=int)\n",
    "\n",
    "print(\"\\n--- Informações do DataFrame após One-Hot Encoding ---\")\n",
    "# verbose=True e show_counts=True para ver todas as colunas e suas contagens de não-nulos\n",
    "print(df_encoded.info(verbose=True, show_counts=True))"
   ]
  },
  {
   "cell_type": "code",
   "execution_count": 19,
   "id": "9a99a7ee",
   "metadata": {},
   "outputs": [
    {
     "name": "stdout",
     "output_type": "stream",
     "text": [
      "\n",
      "--- Primeiras 5 linhas do DataFrame codificado (após One-Hot Encoding) ---\n"
     ]
    },
    {
     "data": {
      "text/html": [
       "<div>\n",
       "<style scoped>\n",
       "    .dataframe tbody tr th:only-of-type {\n",
       "        vertical-align: middle;\n",
       "    }\n",
       "\n",
       "    .dataframe tbody tr th {\n",
       "        vertical-align: top;\n",
       "    }\n",
       "\n",
       "    .dataframe thead th {\n",
       "        text-align: right;\n",
       "    }\n",
       "</style>\n",
       "<table border=\"1\" class=\"dataframe\">\n",
       "  <thead>\n",
       "    <tr style=\"text-align: right;\">\n",
       "      <th></th>\n",
       "      <th>opportunity_id</th>\n",
       "      <th>account</th>\n",
       "      <th>engage_date</th>\n",
       "      <th>close_date</th>\n",
       "      <th>close_value</th>\n",
       "      <th>target</th>\n",
       "      <th>year_established</th>\n",
       "      <th>revenue</th>\n",
       "      <th>employees</th>\n",
       "      <th>sales_price</th>\n",
       "      <th>...</th>\n",
       "      <th>series_GTX</th>\n",
       "      <th>series_MG</th>\n",
       "      <th>series_Unknown_Series</th>\n",
       "      <th>manager_Celia Rouche</th>\n",
       "      <th>manager_Dustin Brinkmann</th>\n",
       "      <th>manager_Melvin Marxen</th>\n",
       "      <th>manager_Rocco Neubert</th>\n",
       "      <th>manager_Summer Sewald</th>\n",
       "      <th>regional_office_East</th>\n",
       "      <th>regional_office_West</th>\n",
       "    </tr>\n",
       "  </thead>\n",
       "  <tbody>\n",
       "    <tr>\n",
       "      <th>0</th>\n",
       "      <td>1C1I7A6R</td>\n",
       "      <td>Cancity</td>\n",
       "      <td>2016-10-20</td>\n",
       "      <td>2017-03-01</td>\n",
       "      <td>1054.0</td>\n",
       "      <td>0</td>\n",
       "      <td>2001.0</td>\n",
       "      <td>718.62</td>\n",
       "      <td>2448.0</td>\n",
       "      <td>1096.0</td>\n",
       "      <td>...</td>\n",
       "      <td>1</td>\n",
       "      <td>0</td>\n",
       "      <td>0</td>\n",
       "      <td>0</td>\n",
       "      <td>1</td>\n",
       "      <td>0</td>\n",
       "      <td>0</td>\n",
       "      <td>0</td>\n",
       "      <td>0</td>\n",
       "      <td>0</td>\n",
       "    </tr>\n",
       "    <tr>\n",
       "      <th>1</th>\n",
       "      <td>Z063OYW0</td>\n",
       "      <td>Isdom</td>\n",
       "      <td>2016-10-25</td>\n",
       "      <td>2017-03-11</td>\n",
       "      <td>4514.0</td>\n",
       "      <td>0</td>\n",
       "      <td>2002.0</td>\n",
       "      <td>3178.24</td>\n",
       "      <td>4540.0</td>\n",
       "      <td>1096.0</td>\n",
       "      <td>...</td>\n",
       "      <td>0</td>\n",
       "      <td>0</td>\n",
       "      <td>1</td>\n",
       "      <td>0</td>\n",
       "      <td>0</td>\n",
       "      <td>1</td>\n",
       "      <td>0</td>\n",
       "      <td>0</td>\n",
       "      <td>0</td>\n",
       "      <td>0</td>\n",
       "    </tr>\n",
       "    <tr>\n",
       "      <th>2</th>\n",
       "      <td>EC4QE1BX</td>\n",
       "      <td>Cancity</td>\n",
       "      <td>2016-10-25</td>\n",
       "      <td>2017-03-07</td>\n",
       "      <td>50.0</td>\n",
       "      <td>0</td>\n",
       "      <td>2001.0</td>\n",
       "      <td>718.62</td>\n",
       "      <td>2448.0</td>\n",
       "      <td>55.0</td>\n",
       "      <td>...</td>\n",
       "      <td>0</td>\n",
       "      <td>1</td>\n",
       "      <td>0</td>\n",
       "      <td>0</td>\n",
       "      <td>0</td>\n",
       "      <td>1</td>\n",
       "      <td>0</td>\n",
       "      <td>0</td>\n",
       "      <td>0</td>\n",
       "      <td>0</td>\n",
       "    </tr>\n",
       "    <tr>\n",
       "      <th>3</th>\n",
       "      <td>MV1LWRNH</td>\n",
       "      <td>Codehow</td>\n",
       "      <td>2016-10-25</td>\n",
       "      <td>2017-03-09</td>\n",
       "      <td>588.0</td>\n",
       "      <td>0</td>\n",
       "      <td>1998.0</td>\n",
       "      <td>2714.90</td>\n",
       "      <td>2641.0</td>\n",
       "      <td>550.0</td>\n",
       "      <td>...</td>\n",
       "      <td>1</td>\n",
       "      <td>0</td>\n",
       "      <td>0</td>\n",
       "      <td>0</td>\n",
       "      <td>1</td>\n",
       "      <td>0</td>\n",
       "      <td>0</td>\n",
       "      <td>0</td>\n",
       "      <td>0</td>\n",
       "      <td>0</td>\n",
       "    </tr>\n",
       "    <tr>\n",
       "      <th>4</th>\n",
       "      <td>PE84CX4O</td>\n",
       "      <td>Hatfan</td>\n",
       "      <td>2016-10-25</td>\n",
       "      <td>2017-03-02</td>\n",
       "      <td>517.0</td>\n",
       "      <td>0</td>\n",
       "      <td>1982.0</td>\n",
       "      <td>792.46</td>\n",
       "      <td>1299.0</td>\n",
       "      <td>550.0</td>\n",
       "      <td>...</td>\n",
       "      <td>1</td>\n",
       "      <td>0</td>\n",
       "      <td>0</td>\n",
       "      <td>0</td>\n",
       "      <td>0</td>\n",
       "      <td>0</td>\n",
       "      <td>0</td>\n",
       "      <td>1</td>\n",
       "      <td>0</td>\n",
       "      <td>1</td>\n",
       "    </tr>\n",
       "  </tbody>\n",
       "</table>\n",
       "<p>5 rows × 92 columns</p>\n",
       "</div>"
      ],
      "text/plain": [
       "  opportunity_id  account engage_date close_date  close_value  target  \\\n",
       "0       1C1I7A6R  Cancity  2016-10-20 2017-03-01       1054.0       0   \n",
       "1       Z063OYW0    Isdom  2016-10-25 2017-03-11       4514.0       0   \n",
       "2       EC4QE1BX  Cancity  2016-10-25 2017-03-07         50.0       0   \n",
       "3       MV1LWRNH  Codehow  2016-10-25 2017-03-09        588.0       0   \n",
       "4       PE84CX4O   Hatfan  2016-10-25 2017-03-02        517.0       0   \n",
       "\n",
       "   year_established  revenue  employees  sales_price  ...  series_GTX  \\\n",
       "0            2001.0   718.62     2448.0       1096.0  ...           1   \n",
       "1            2002.0  3178.24     4540.0       1096.0  ...           0   \n",
       "2            2001.0   718.62     2448.0         55.0  ...           0   \n",
       "3            1998.0  2714.90     2641.0        550.0  ...           1   \n",
       "4            1982.0   792.46     1299.0        550.0  ...           1   \n",
       "\n",
       "   series_MG  series_Unknown_Series  manager_Celia Rouche  \\\n",
       "0          0                      0                     0   \n",
       "1          0                      1                     0   \n",
       "2          1                      0                     0   \n",
       "3          0                      0                     0   \n",
       "4          0                      0                     0   \n",
       "\n",
       "   manager_Dustin Brinkmann  manager_Melvin Marxen  manager_Rocco Neubert  \\\n",
       "0                         1                      0                      0   \n",
       "1                         0                      1                      0   \n",
       "2                         0                      1                      0   \n",
       "3                         1                      0                      0   \n",
       "4                         0                      0                      0   \n",
       "\n",
       "   manager_Summer Sewald  regional_office_East  regional_office_West  \n",
       "0                      0                     0                     0  \n",
       "1                      0                     0                     0  \n",
       "2                      0                     0                     0  \n",
       "3                      0                     0                     0  \n",
       "4                      1                     0                     1  \n",
       "\n",
       "[5 rows x 92 columns]"
      ]
     },
     "execution_count": 19,
     "metadata": {},
     "output_type": "execute_result"
    }
   ],
   "source": [
    "print(\"\\n--- Primeiras 5 linhas do DataFrame codificado (após One-Hot Encoding) ---\")\n",
    "df_encoded.head()"
   ]
  },
  {
   "cell_type": "markdown",
   "id": "cded9ac1",
   "metadata": {},
   "source": [
    "# --- 4. Remover Colunas Não Mais Necessárias ---"
   ]
  },
  {
   "cell_type": "code",
   "execution_count": 20,
   "id": "4590819a",
   "metadata": {},
   "outputs": [
    {
     "name": "stdout",
     "output_type": "stream",
     "text": [
      "\n",
      "Colunas removidas: ['opportunity_id', 'account', 'engage_date', 'close_date', 'close_value']\n",
      "\n",
      "--- Informações do DataFrame após remoção de colunas ---\n",
      "<class 'pandas.core.frame.DataFrame'>\n",
      "RangeIndex: 8800 entries, 0 to 8799\n",
      "Data columns (total 87 columns):\n",
      " #   Column                            Non-Null Count  Dtype  \n",
      "---  ------                            --------------  -----  \n",
      " 0   target                            8800 non-null   int64  \n",
      " 1   year_established                  8800 non-null   float64\n",
      " 2   revenue                           8800 non-null   float64\n",
      " 3   employees                         8800 non-null   float64\n",
      " 4   sales_price                       8800 non-null   float64\n",
      " 5   close_value_filled                8800 non-null   float64\n",
      " 6   opportunity_duration_days         8800 non-null   float64\n",
      " 7   sales_agent_Boris Faz             8800 non-null   int64  \n",
      " 8   sales_agent_Cassey Cress          8800 non-null   int64  \n",
      " 9   sales_agent_Cecily Lampkin        8800 non-null   int64  \n",
      " 10  sales_agent_Corliss Cosme         8800 non-null   int64  \n",
      " 11  sales_agent_Daniell Hammack       8800 non-null   int64  \n",
      " 12  sales_agent_Darcel Schlecht       8800 non-null   int64  \n",
      " 13  sales_agent_Donn Cantrell         8800 non-null   int64  \n",
      " 14  sales_agent_Elease Gluck          8800 non-null   int64  \n",
      " 15  sales_agent_Garret Kinder         8800 non-null   int64  \n",
      " 16  sales_agent_Gladys Colclough      8800 non-null   int64  \n",
      " 17  sales_agent_Hayden Neloms         8800 non-null   int64  \n",
      " 18  sales_agent_James Ascencio        8800 non-null   int64  \n",
      " 19  sales_agent_Jonathan Berthelot    8800 non-null   int64  \n",
      " 20  sales_agent_Kami Bicknell         8800 non-null   int64  \n",
      " 21  sales_agent_Kary Hendrixson       8800 non-null   int64  \n",
      " 22  sales_agent_Lajuana Vencill       8800 non-null   int64  \n",
      " 23  sales_agent_Markita Hansen        8800 non-null   int64  \n",
      " 24  sales_agent_Marty Freudenburg     8800 non-null   int64  \n",
      " 25  sales_agent_Maureen Marcano       8800 non-null   int64  \n",
      " 26  sales_agent_Moses Frase           8800 non-null   int64  \n",
      " 27  sales_agent_Niesha Huffines       8800 non-null   int64  \n",
      " 28  sales_agent_Reed Clapper          8800 non-null   int64  \n",
      " 29  sales_agent_Rosalina Dieter       8800 non-null   int64  \n",
      " 30  sales_agent_Rosie Papadopoulos    8800 non-null   int64  \n",
      " 31  sales_agent_Versie Hillebrand     8800 non-null   int64  \n",
      " 32  sales_agent_Vicki Laflamme        8800 non-null   int64  \n",
      " 33  sales_agent_Violet Mclelland      8800 non-null   int64  \n",
      " 34  sales_agent_Wilburn Farren        8800 non-null   int64  \n",
      " 35  sales_agent_Zane Levy             8800 non-null   int64  \n",
      " 36  product_GTX Basic                 8800 non-null   int64  \n",
      " 37  product_GTX Plus Basic            8800 non-null   int64  \n",
      " 38  product_GTX Plus Pro              8800 non-null   int64  \n",
      " 39  product_GTXPro                    8800 non-null   int64  \n",
      " 40  product_MG Advanced               8800 non-null   int64  \n",
      " 41  product_MG Special                8800 non-null   int64  \n",
      " 42  deal_stage_Lost                   8800 non-null   int64  \n",
      " 43  deal_stage_Prospecting            8800 non-null   int64  \n",
      " 44  deal_stage_Won                    8800 non-null   int64  \n",
      " 45  sector_employment                 8800 non-null   int64  \n",
      " 46  sector_entertainment              8800 non-null   int64  \n",
      " 47  sector_finance                    8800 non-null   int64  \n",
      " 48  sector_marketing                  8800 non-null   int64  \n",
      " 49  sector_medical                    8800 non-null   int64  \n",
      " 50  sector_retail                     8800 non-null   int64  \n",
      " 51  sector_services                   8800 non-null   int64  \n",
      " 52  sector_software                   8800 non-null   int64  \n",
      " 53  sector_technolgy                  8800 non-null   int64  \n",
      " 54  sector_telecommunications         8800 non-null   int64  \n",
      " 55  office_location_Brazil            8800 non-null   int64  \n",
      " 56  office_location_China             8800 non-null   int64  \n",
      " 57  office_location_Germany           8800 non-null   int64  \n",
      " 58  office_location_Italy             8800 non-null   int64  \n",
      " 59  office_location_Japan             8800 non-null   int64  \n",
      " 60  office_location_Jordan            8800 non-null   int64  \n",
      " 61  office_location_Kenya             8800 non-null   int64  \n",
      " 62  office_location_Korea             8800 non-null   int64  \n",
      " 63  office_location_Norway            8800 non-null   int64  \n",
      " 64  office_location_Panama            8800 non-null   int64  \n",
      " 65  office_location_Philipines        8800 non-null   int64  \n",
      " 66  office_location_Poland            8800 non-null   int64  \n",
      " 67  office_location_Romania           8800 non-null   int64  \n",
      " 68  office_location_United States     8800 non-null   int64  \n",
      " 69  office_location_Unknown_Location  8800 non-null   int64  \n",
      " 70  subsidiary_of_Bubba Gump          8800 non-null   int64  \n",
      " 71  subsidiary_of_Golddex             8800 non-null   int64  \n",
      " 72  subsidiary_of_Inity               8800 non-null   int64  \n",
      " 73  subsidiary_of_Massive Dynamic     8800 non-null   int64  \n",
      " 74  subsidiary_of_Not_Subsidiary      8800 non-null   int64  \n",
      " 75  subsidiary_of_Sonron              8800 non-null   int64  \n",
      " 76  subsidiary_of_Warephase           8800 non-null   int64  \n",
      " 77  series_GTX                        8800 non-null   int64  \n",
      " 78  series_MG                         8800 non-null   int64  \n",
      " 79  series_Unknown_Series             8800 non-null   int64  \n",
      " 80  manager_Celia Rouche              8800 non-null   int64  \n",
      " 81  manager_Dustin Brinkmann          8800 non-null   int64  \n",
      " 82  manager_Melvin Marxen             8800 non-null   int64  \n",
      " 83  manager_Rocco Neubert             8800 non-null   int64  \n",
      " 84  manager_Summer Sewald             8800 non-null   int64  \n",
      " 85  regional_office_East              8800 non-null   int64  \n",
      " 86  regional_office_West              8800 non-null   int64  \n",
      "dtypes: float64(6), int64(81)\n",
      "memory usage: 5.8 MB\n",
      "None\n"
     ]
    }
   ],
   "source": [
    "# Colunas a serem removidas:\n",
    "# - 'opportunity_id': ID único, não é uma feature preditiva.\n",
    "# - 'account': ID da conta, similar ao opportunity_id para fins de feature.\n",
    "# - 'engage_date', 'close_date': Já extraímos 'opportunity_duration_days'.\n",
    "# - 'close_value': A versão tratada 'close_value_filled' será usada.\n",
    "columns_to_drop = ['opportunity_id', 'account', 'engage_date', 'close_date', 'close_value']\n",
    "\n",
    "df_final = df_encoded.drop(columns=columns_to_drop, errors='ignore') # 'errors='ignore' para evitar erro se a coluna já tiver sido removida\n",
    "\n",
    "print(f\"\\nColunas removidas: {columns_to_drop}\")\n",
    "print(\"\\n--- Informações do DataFrame após remoção de colunas ---\")\n",
    "print(df_final.info(verbose=True, show_counts=True))"
   ]
  },
  {
   "cell_type": "code",
   "execution_count": 21,
   "id": "6b5ff716",
   "metadata": {},
   "outputs": [
    {
     "name": "stdout",
     "output_type": "stream",
     "text": [
      "\n",
      "--- Primeiras 5 linhas do DataFrame final (após remoção de colunas) ---\n"
     ]
    },
    {
     "data": {
      "text/html": [
       "<div>\n",
       "<style scoped>\n",
       "    .dataframe tbody tr th:only-of-type {\n",
       "        vertical-align: middle;\n",
       "    }\n",
       "\n",
       "    .dataframe tbody tr th {\n",
       "        vertical-align: top;\n",
       "    }\n",
       "\n",
       "    .dataframe thead th {\n",
       "        text-align: right;\n",
       "    }\n",
       "</style>\n",
       "<table border=\"1\" class=\"dataframe\">\n",
       "  <thead>\n",
       "    <tr style=\"text-align: right;\">\n",
       "      <th></th>\n",
       "      <th>target</th>\n",
       "      <th>year_established</th>\n",
       "      <th>revenue</th>\n",
       "      <th>employees</th>\n",
       "      <th>sales_price</th>\n",
       "      <th>close_value_filled</th>\n",
       "      <th>opportunity_duration_days</th>\n",
       "      <th>sales_agent_Boris Faz</th>\n",
       "      <th>sales_agent_Cassey Cress</th>\n",
       "      <th>sales_agent_Cecily Lampkin</th>\n",
       "      <th>...</th>\n",
       "      <th>series_GTX</th>\n",
       "      <th>series_MG</th>\n",
       "      <th>series_Unknown_Series</th>\n",
       "      <th>manager_Celia Rouche</th>\n",
       "      <th>manager_Dustin Brinkmann</th>\n",
       "      <th>manager_Melvin Marxen</th>\n",
       "      <th>manager_Rocco Neubert</th>\n",
       "      <th>manager_Summer Sewald</th>\n",
       "      <th>regional_office_East</th>\n",
       "      <th>regional_office_West</th>\n",
       "    </tr>\n",
       "  </thead>\n",
       "  <tbody>\n",
       "    <tr>\n",
       "      <th>0</th>\n",
       "      <td>0</td>\n",
       "      <td>2001.0</td>\n",
       "      <td>718.62</td>\n",
       "      <td>2448.0</td>\n",
       "      <td>1096.0</td>\n",
       "      <td>1054.0</td>\n",
       "      <td>132.0</td>\n",
       "      <td>0</td>\n",
       "      <td>0</td>\n",
       "      <td>0</td>\n",
       "      <td>...</td>\n",
       "      <td>1</td>\n",
       "      <td>0</td>\n",
       "      <td>0</td>\n",
       "      <td>0</td>\n",
       "      <td>1</td>\n",
       "      <td>0</td>\n",
       "      <td>0</td>\n",
       "      <td>0</td>\n",
       "      <td>0</td>\n",
       "      <td>0</td>\n",
       "    </tr>\n",
       "    <tr>\n",
       "      <th>1</th>\n",
       "      <td>0</td>\n",
       "      <td>2002.0</td>\n",
       "      <td>3178.24</td>\n",
       "      <td>4540.0</td>\n",
       "      <td>1096.0</td>\n",
       "      <td>4514.0</td>\n",
       "      <td>137.0</td>\n",
       "      <td>0</td>\n",
       "      <td>0</td>\n",
       "      <td>0</td>\n",
       "      <td>...</td>\n",
       "      <td>0</td>\n",
       "      <td>0</td>\n",
       "      <td>1</td>\n",
       "      <td>0</td>\n",
       "      <td>0</td>\n",
       "      <td>1</td>\n",
       "      <td>0</td>\n",
       "      <td>0</td>\n",
       "      <td>0</td>\n",
       "      <td>0</td>\n",
       "    </tr>\n",
       "    <tr>\n",
       "      <th>2</th>\n",
       "      <td>0</td>\n",
       "      <td>2001.0</td>\n",
       "      <td>718.62</td>\n",
       "      <td>2448.0</td>\n",
       "      <td>55.0</td>\n",
       "      <td>50.0</td>\n",
       "      <td>133.0</td>\n",
       "      <td>0</td>\n",
       "      <td>0</td>\n",
       "      <td>0</td>\n",
       "      <td>...</td>\n",
       "      <td>0</td>\n",
       "      <td>1</td>\n",
       "      <td>0</td>\n",
       "      <td>0</td>\n",
       "      <td>0</td>\n",
       "      <td>1</td>\n",
       "      <td>0</td>\n",
       "      <td>0</td>\n",
       "      <td>0</td>\n",
       "      <td>0</td>\n",
       "    </tr>\n",
       "    <tr>\n",
       "      <th>3</th>\n",
       "      <td>0</td>\n",
       "      <td>1998.0</td>\n",
       "      <td>2714.90</td>\n",
       "      <td>2641.0</td>\n",
       "      <td>550.0</td>\n",
       "      <td>588.0</td>\n",
       "      <td>135.0</td>\n",
       "      <td>0</td>\n",
       "      <td>0</td>\n",
       "      <td>0</td>\n",
       "      <td>...</td>\n",
       "      <td>1</td>\n",
       "      <td>0</td>\n",
       "      <td>0</td>\n",
       "      <td>0</td>\n",
       "      <td>1</td>\n",
       "      <td>0</td>\n",
       "      <td>0</td>\n",
       "      <td>0</td>\n",
       "      <td>0</td>\n",
       "      <td>0</td>\n",
       "    </tr>\n",
       "    <tr>\n",
       "      <th>4</th>\n",
       "      <td>0</td>\n",
       "      <td>1982.0</td>\n",
       "      <td>792.46</td>\n",
       "      <td>1299.0</td>\n",
       "      <td>550.0</td>\n",
       "      <td>517.0</td>\n",
       "      <td>128.0</td>\n",
       "      <td>0</td>\n",
       "      <td>0</td>\n",
       "      <td>0</td>\n",
       "      <td>...</td>\n",
       "      <td>1</td>\n",
       "      <td>0</td>\n",
       "      <td>0</td>\n",
       "      <td>0</td>\n",
       "      <td>0</td>\n",
       "      <td>0</td>\n",
       "      <td>0</td>\n",
       "      <td>1</td>\n",
       "      <td>0</td>\n",
       "      <td>1</td>\n",
       "    </tr>\n",
       "  </tbody>\n",
       "</table>\n",
       "<p>5 rows × 87 columns</p>\n",
       "</div>"
      ],
      "text/plain": [
       "   target  year_established  revenue  employees  sales_price  \\\n",
       "0       0            2001.0   718.62     2448.0       1096.0   \n",
       "1       0            2002.0  3178.24     4540.0       1096.0   \n",
       "2       0            2001.0   718.62     2448.0         55.0   \n",
       "3       0            1998.0  2714.90     2641.0        550.0   \n",
       "4       0            1982.0   792.46     1299.0        550.0   \n",
       "\n",
       "   close_value_filled  opportunity_duration_days  sales_agent_Boris Faz  \\\n",
       "0              1054.0                      132.0                      0   \n",
       "1              4514.0                      137.0                      0   \n",
       "2                50.0                      133.0                      0   \n",
       "3               588.0                      135.0                      0   \n",
       "4               517.0                      128.0                      0   \n",
       "\n",
       "   sales_agent_Cassey Cress  sales_agent_Cecily Lampkin  ...  series_GTX  \\\n",
       "0                         0                           0  ...           1   \n",
       "1                         0                           0  ...           0   \n",
       "2                         0                           0  ...           0   \n",
       "3                         0                           0  ...           1   \n",
       "4                         0                           0  ...           1   \n",
       "\n",
       "   series_MG  series_Unknown_Series  manager_Celia Rouche  \\\n",
       "0          0                      0                     0   \n",
       "1          0                      1                     0   \n",
       "2          1                      0                     0   \n",
       "3          0                      0                     0   \n",
       "4          0                      0                     0   \n",
       "\n",
       "   manager_Dustin Brinkmann  manager_Melvin Marxen  manager_Rocco Neubert  \\\n",
       "0                         1                      0                      0   \n",
       "1                         0                      1                      0   \n",
       "2                         0                      1                      0   \n",
       "3                         1                      0                      0   \n",
       "4                         0                      0                      0   \n",
       "\n",
       "   manager_Summer Sewald  regional_office_East  regional_office_West  \n",
       "0                      0                     0                     0  \n",
       "1                      0                     0                     0  \n",
       "2                      0                     0                     0  \n",
       "3                      0                     0                     0  \n",
       "4                      1                     0                     1  \n",
       "\n",
       "[5 rows x 87 columns]"
      ]
     },
     "execution_count": 21,
     "metadata": {},
     "output_type": "execute_result"
    }
   ],
   "source": [
    "# Verificar as primeiras linhas para confirmar\n",
    "print(\"\\n--- Primeiras 5 linhas do DataFrame final (após remoção de colunas) ---\")\n",
    "df_final.head()"
   ]
  },
  {
   "cell_type": "markdown",
   "id": "a54b4015",
   "metadata": {},
   "source": [
    "# --- 5. Escalonamento de Variáveis Numéricas ---"
   ]
  },
  {
   "cell_type": "code",
   "execution_count": 24,
   "id": "56075ffa",
   "metadata": {},
   "outputs": [],
   "source": [
    "from sklearn.preprocessing import StandardScaler"
   ]
  },
  {
   "cell_type": "code",
   "execution_count": 25,
   "id": "8f83e6cd",
   "metadata": {},
   "outputs": [
    {
     "name": "stdout",
     "output_type": "stream",
     "text": [
      "\n",
      "Colunas numéricas para escalonamento: ['year_established', 'revenue', 'employees', 'sales_price', 'close_value_filled', 'opportunity_duration_days']\n"
     ]
    }
   ],
   "source": [
    "# Identificar as colunas numéricas para escalonar\n",
    "# Excluímos 'target' pois é nossa variável dependente e já é 0 ou 1\n",
    "numeric_cols = ['year_established', 'revenue', 'employees', 'sales_price', 'close_value_filled', 'opportunity_duration_days']\n",
    "\n",
    "print(f\"\\nColunas numéricas para escalonamento: {numeric_cols}\")"
   ]
  },
  {
   "cell_type": "code",
   "execution_count": 26,
   "id": "d62692db",
   "metadata": {},
   "outputs": [
    {
     "name": "stdout",
     "output_type": "stream",
     "text": [
      "\n",
      "--- Estatísticas Descritivas das Colunas Numéricas Após Escalonamento ---\n"
     ]
    },
    {
     "data": {
      "text/html": [
       "<div>\n",
       "<style scoped>\n",
       "    .dataframe tbody tr th:only-of-type {\n",
       "        vertical-align: middle;\n",
       "    }\n",
       "\n",
       "    .dataframe tbody tr th {\n",
       "        vertical-align: top;\n",
       "    }\n",
       "\n",
       "    .dataframe thead th {\n",
       "        text-align: right;\n",
       "    }\n",
       "</style>\n",
       "<table border=\"1\" class=\"dataframe\">\n",
       "  <thead>\n",
       "    <tr style=\"text-align: right;\">\n",
       "      <th></th>\n",
       "      <th>year_established</th>\n",
       "      <th>revenue</th>\n",
       "      <th>employees</th>\n",
       "      <th>sales_price</th>\n",
       "      <th>close_value_filled</th>\n",
       "      <th>opportunity_duration_days</th>\n",
       "    </tr>\n",
       "  </thead>\n",
       "  <tbody>\n",
       "    <tr>\n",
       "      <th>count</th>\n",
       "      <td>8.800000e+03</td>\n",
       "      <td>8.800000e+03</td>\n",
       "      <td>8.800000e+03</td>\n",
       "      <td>8.800000e+03</td>\n",
       "      <td>8.800000e+03</td>\n",
       "      <td>8.800000e+03</td>\n",
       "    </tr>\n",
       "    <tr>\n",
       "      <th>mean</th>\n",
       "      <td>-9.780056e-17</td>\n",
       "      <td>-1.469532e-16</td>\n",
       "      <td>-1.937844e-17</td>\n",
       "      <td>-1.614870e-17</td>\n",
       "      <td>-6.459479e-17</td>\n",
       "      <td>5.167584e-17</td>\n",
       "    </tr>\n",
       "    <tr>\n",
       "      <th>std</th>\n",
       "      <td>1.000057e+00</td>\n",
       "      <td>1.000057e+00</td>\n",
       "      <td>1.000057e+00</td>\n",
       "      <td>1.000057e+00</td>\n",
       "      <td>1.000057e+00</td>\n",
       "      <td>1.000057e+00</td>\n",
       "    </tr>\n",
       "    <tr>\n",
       "      <th>min</th>\n",
       "      <td>-1.950284e+00</td>\n",
       "      <td>-9.770450e-01</td>\n",
       "      <td>-8.477060e-01</td>\n",
       "      <td>-7.052859e-01</td>\n",
       "      <td>-5.354565e-01</td>\n",
       "      <td>-1.289959e+00</td>\n",
       "    </tr>\n",
       "    <tr>\n",
       "      <th>25%</th>\n",
       "      <td>-6.425926e-01</td>\n",
       "      <td>-6.786835e-01</td>\n",
       "      <td>-5.967856e-01</td>\n",
       "      <td>-4.996368e-01</td>\n",
       "      <td>-5.354565e-01</td>\n",
       "      <td>-1.039085e+00</td>\n",
       "    </tr>\n",
       "    <tr>\n",
       "      <th>50%</th>\n",
       "      <td>-4.818736e-02</td>\n",
       "      <td>-2.693890e-01</td>\n",
       "      <td>-2.942191e-01</td>\n",
       "      <td>-2.727997e-01</td>\n",
       "      <td>-5.354565e-01</td>\n",
       "      <td>-6.346293e-02</td>\n",
       "    </tr>\n",
       "    <tr>\n",
       "      <th>75%</th>\n",
       "      <td>5.462179e-01</td>\n",
       "      <td>1.991199e-01</td>\n",
       "      <td>1.793356e-01</td>\n",
       "      <td>6.814951e-01</td>\n",
       "      <td>-2.436767e-02</td>\n",
       "      <td>8.006592e-01</td>\n",
       "    </tr>\n",
       "    <tr>\n",
       "      <th>max</th>\n",
       "      <td>2.567196e+00</td>\n",
       "      <td>3.908805e+00</td>\n",
       "      <td>4.599603e+00</td>\n",
       "      <td>1.039270e+01</td>\n",
       "      <td>1.372841e+01</td>\n",
       "      <td>2.528903e+00</td>\n",
       "    </tr>\n",
       "  </tbody>\n",
       "</table>\n",
       "</div>"
      ],
      "text/plain": [
       "       year_established       revenue     employees   sales_price  \\\n",
       "count      8.800000e+03  8.800000e+03  8.800000e+03  8.800000e+03   \n",
       "mean      -9.780056e-17 -1.469532e-16 -1.937844e-17 -1.614870e-17   \n",
       "std        1.000057e+00  1.000057e+00  1.000057e+00  1.000057e+00   \n",
       "min       -1.950284e+00 -9.770450e-01 -8.477060e-01 -7.052859e-01   \n",
       "25%       -6.425926e-01 -6.786835e-01 -5.967856e-01 -4.996368e-01   \n",
       "50%       -4.818736e-02 -2.693890e-01 -2.942191e-01 -2.727997e-01   \n",
       "75%        5.462179e-01  1.991199e-01  1.793356e-01  6.814951e-01   \n",
       "max        2.567196e+00  3.908805e+00  4.599603e+00  1.039270e+01   \n",
       "\n",
       "       close_value_filled  opportunity_duration_days  \n",
       "count        8.800000e+03               8.800000e+03  \n",
       "mean        -6.459479e-17               5.167584e-17  \n",
       "std          1.000057e+00               1.000057e+00  \n",
       "min         -5.354565e-01              -1.289959e+00  \n",
       "25%         -5.354565e-01              -1.039085e+00  \n",
       "50%         -5.354565e-01              -6.346293e-02  \n",
       "75%         -2.436767e-02               8.006592e-01  \n",
       "max          1.372841e+01               2.528903e+00  "
      ]
     },
     "execution_count": 26,
     "metadata": {},
     "output_type": "execute_result"
    }
   ],
   "source": [
    "# Inicializar o StandardScaler\n",
    "scaler = StandardScaler()\n",
    "\n",
    "# Aplicar o escalonamento nas colunas numéricas\n",
    "# Fit and transform em um único passo\n",
    "df_final[numeric_cols] = scaler.fit_transform(df_final[numeric_cols])\n",
    "\n",
    "print(\"\\n--- Estatísticas Descritivas das Colunas Numéricas Após Escalonamento ---\")\n",
    "df_final[numeric_cols].describe()"
   ]
  },
  {
   "cell_type": "code",
   "execution_count": 27,
   "id": "571f8aad",
   "metadata": {},
   "outputs": [
    {
     "name": "stdout",
     "output_type": "stream",
     "text": [
      "\n",
      "--- Primeiras 5 linhas do DataFrame Final (após escalonamento) ---\n"
     ]
    },
    {
     "data": {
      "text/html": [
       "<div>\n",
       "<style scoped>\n",
       "    .dataframe tbody tr th:only-of-type {\n",
       "        vertical-align: middle;\n",
       "    }\n",
       "\n",
       "    .dataframe tbody tr th {\n",
       "        vertical-align: top;\n",
       "    }\n",
       "\n",
       "    .dataframe thead th {\n",
       "        text-align: right;\n",
       "    }\n",
       "</style>\n",
       "<table border=\"1\" class=\"dataframe\">\n",
       "  <thead>\n",
       "    <tr style=\"text-align: right;\">\n",
       "      <th></th>\n",
       "      <th>target</th>\n",
       "      <th>year_established</th>\n",
       "      <th>revenue</th>\n",
       "      <th>employees</th>\n",
       "      <th>sales_price</th>\n",
       "      <th>close_value_filled</th>\n",
       "      <th>opportunity_duration_days</th>\n",
       "      <th>sales_agent_Boris Faz</th>\n",
       "      <th>sales_agent_Cassey Cress</th>\n",
       "      <th>sales_agent_Cecily Lampkin</th>\n",
       "      <th>...</th>\n",
       "      <th>series_GTX</th>\n",
       "      <th>series_MG</th>\n",
       "      <th>series_Unknown_Series</th>\n",
       "      <th>manager_Celia Rouche</th>\n",
       "      <th>manager_Dustin Brinkmann</th>\n",
       "      <th>manager_Melvin Marxen</th>\n",
       "      <th>manager_Rocco Neubert</th>\n",
       "      <th>manager_Summer Sewald</th>\n",
       "      <th>regional_office_East</th>\n",
       "      <th>regional_office_West</th>\n",
       "    </tr>\n",
       "  </thead>\n",
       "  <tbody>\n",
       "    <tr>\n",
       "      <th>0</th>\n",
       "      <td>0</td>\n",
       "      <td>0.665099</td>\n",
       "      <td>-0.678683</td>\n",
       "      <td>-0.460122</td>\n",
       "      <td>-0.272800</td>\n",
       "      <td>-0.039085</td>\n",
       "      <td>2.361654</td>\n",
       "      <td>0</td>\n",
       "      <td>0</td>\n",
       "      <td>0</td>\n",
       "      <td>...</td>\n",
       "      <td>1</td>\n",
       "      <td>0</td>\n",
       "      <td>0</td>\n",
       "      <td>0</td>\n",
       "      <td>1</td>\n",
       "      <td>0</td>\n",
       "      <td>0</td>\n",
       "      <td>0</td>\n",
       "      <td>0</td>\n",
       "      <td>0</td>\n",
       "    </tr>\n",
       "    <tr>\n",
       "      <th>1</th>\n",
       "      <td>0</td>\n",
       "      <td>0.783980</td>\n",
       "      <td>0.349011</td>\n",
       "      <td>-0.127680</td>\n",
       "      <td>-0.272800</td>\n",
       "      <td>1.590372</td>\n",
       "      <td>2.501029</td>\n",
       "      <td>0</td>\n",
       "      <td>0</td>\n",
       "      <td>0</td>\n",
       "      <td>...</td>\n",
       "      <td>0</td>\n",
       "      <td>0</td>\n",
       "      <td>1</td>\n",
       "      <td>0</td>\n",
       "      <td>0</td>\n",
       "      <td>1</td>\n",
       "      <td>0</td>\n",
       "      <td>0</td>\n",
       "      <td>0</td>\n",
       "      <td>0</td>\n",
       "    </tr>\n",
       "    <tr>\n",
       "      <th>2</th>\n",
       "      <td>0</td>\n",
       "      <td>0.665099</td>\n",
       "      <td>-0.678683</td>\n",
       "      <td>-0.460122</td>\n",
       "      <td>-0.705286</td>\n",
       "      <td>-0.511909</td>\n",
       "      <td>2.389529</td>\n",
       "      <td>0</td>\n",
       "      <td>0</td>\n",
       "      <td>0</td>\n",
       "      <td>...</td>\n",
       "      <td>0</td>\n",
       "      <td>1</td>\n",
       "      <td>0</td>\n",
       "      <td>0</td>\n",
       "      <td>0</td>\n",
       "      <td>1</td>\n",
       "      <td>0</td>\n",
       "      <td>0</td>\n",
       "      <td>0</td>\n",
       "      <td>0</td>\n",
       "    </tr>\n",
       "    <tr>\n",
       "      <th>3</th>\n",
       "      <td>0</td>\n",
       "      <td>0.308456</td>\n",
       "      <td>0.155415</td>\n",
       "      <td>-0.429452</td>\n",
       "      <td>-0.499637</td>\n",
       "      <td>-0.258543</td>\n",
       "      <td>2.445279</td>\n",
       "      <td>0</td>\n",
       "      <td>0</td>\n",
       "      <td>0</td>\n",
       "      <td>...</td>\n",
       "      <td>1</td>\n",
       "      <td>0</td>\n",
       "      <td>0</td>\n",
       "      <td>0</td>\n",
       "      <td>1</td>\n",
       "      <td>0</td>\n",
       "      <td>0</td>\n",
       "      <td>0</td>\n",
       "      <td>0</td>\n",
       "      <td>0</td>\n",
       "    </tr>\n",
       "    <tr>\n",
       "      <th>4</th>\n",
       "      <td>0</td>\n",
       "      <td>-1.593641</td>\n",
       "      <td>-0.647831</td>\n",
       "      <td>-0.642711</td>\n",
       "      <td>-0.499637</td>\n",
       "      <td>-0.291980</td>\n",
       "      <td>2.250154</td>\n",
       "      <td>0</td>\n",
       "      <td>0</td>\n",
       "      <td>0</td>\n",
       "      <td>...</td>\n",
       "      <td>1</td>\n",
       "      <td>0</td>\n",
       "      <td>0</td>\n",
       "      <td>0</td>\n",
       "      <td>0</td>\n",
       "      <td>0</td>\n",
       "      <td>0</td>\n",
       "      <td>1</td>\n",
       "      <td>0</td>\n",
       "      <td>1</td>\n",
       "    </tr>\n",
       "  </tbody>\n",
       "</table>\n",
       "<p>5 rows × 87 columns</p>\n",
       "</div>"
      ],
      "text/plain": [
       "   target  year_established   revenue  employees  sales_price  \\\n",
       "0       0          0.665099 -0.678683  -0.460122    -0.272800   \n",
       "1       0          0.783980  0.349011  -0.127680    -0.272800   \n",
       "2       0          0.665099 -0.678683  -0.460122    -0.705286   \n",
       "3       0          0.308456  0.155415  -0.429452    -0.499637   \n",
       "4       0         -1.593641 -0.647831  -0.642711    -0.499637   \n",
       "\n",
       "   close_value_filled  opportunity_duration_days  sales_agent_Boris Faz  \\\n",
       "0           -0.039085                   2.361654                      0   \n",
       "1            1.590372                   2.501029                      0   \n",
       "2           -0.511909                   2.389529                      0   \n",
       "3           -0.258543                   2.445279                      0   \n",
       "4           -0.291980                   2.250154                      0   \n",
       "\n",
       "   sales_agent_Cassey Cress  sales_agent_Cecily Lampkin  ...  series_GTX  \\\n",
       "0                         0                           0  ...           1   \n",
       "1                         0                           0  ...           0   \n",
       "2                         0                           0  ...           0   \n",
       "3                         0                           0  ...           1   \n",
       "4                         0                           0  ...           1   \n",
       "\n",
       "   series_MG  series_Unknown_Series  manager_Celia Rouche  \\\n",
       "0          0                      0                     0   \n",
       "1          0                      1                     0   \n",
       "2          1                      0                     0   \n",
       "3          0                      0                     0   \n",
       "4          0                      0                     0   \n",
       "\n",
       "   manager_Dustin Brinkmann  manager_Melvin Marxen  manager_Rocco Neubert  \\\n",
       "0                         1                      0                      0   \n",
       "1                         0                      1                      0   \n",
       "2                         0                      1                      0   \n",
       "3                         1                      0                      0   \n",
       "4                         0                      0                      0   \n",
       "\n",
       "   manager_Summer Sewald  regional_office_East  regional_office_West  \n",
       "0                      0                     0                     0  \n",
       "1                      0                     0                     0  \n",
       "2                      0                     0                     0  \n",
       "3                      0                     0                     0  \n",
       "4                      1                     0                     1  \n",
       "\n",
       "[5 rows x 87 columns]"
      ]
     },
     "execution_count": 27,
     "metadata": {},
     "output_type": "execute_result"
    }
   ],
   "source": [
    "# Verificar as primeiras linhas para ver o impacto do escalonamento\n",
    "print(\"\\n--- Primeiras 5 linhas do DataFrame Final (após escalonamento) ---\")\n",
    "df_final.head()"
   ]
  },
  {
   "cell_type": "markdown",
   "id": "43aaf1e6",
   "metadata": {},
   "source": [
    "# --- 6. Preparação para Modelagem: Separar X e y, e Dividir em Treino/Teste ---\n"
   ]
  },
  {
   "cell_type": "code",
   "execution_count": 28,
   "id": "c192f42a",
   "metadata": {},
   "outputs": [],
   "source": [
    "from sklearn.model_selection import train_test_split"
   ]
  },
  {
   "cell_type": "code",
   "execution_count": 29,
   "id": "7fa3e8fb",
   "metadata": {},
   "outputs": [
    {
     "name": "stdout",
     "output_type": "stream",
     "text": [
      "\n",
      "Formato de X (Features): (8800, 86)\n",
      "Formato de y (Target): (8800,)\n"
     ]
    }
   ],
   "source": [
    "# Separar Features (X) e Variável Alvo (y)\n",
    "X = df_final.drop('target', axis=1) # Todas as colunas, exceto 'target'\n",
    "y = df_final['target'] # A coluna 'target'\n",
    "\n",
    "print(f\"\\nFormato de X (Features): {X.shape}\")\n",
    "print(f\"Formato de y (Target): {y.shape}\")"
   ]
  },
  {
   "cell_type": "code",
   "execution_count": 30,
   "id": "ee3032f5",
   "metadata": {},
   "outputs": [
    {
     "name": "stdout",
     "output_type": "stream",
     "text": [
      "\n",
      "Formato de X_train: (7040, 86)\n",
      "Formato de X_test: (1760, 86)\n",
      "Formato de y_train: (7040,)\n",
      "Formato de y_test: (1760,)\n"
     ]
    }
   ],
   "source": [
    "# Dividir os dados em conjuntos de treinamento e teste\n",
    "# test_size=0.2 (20% para teste, 80% para treino)\n",
    "# random_state para reprodutibilidade\n",
    "# stratify=y para garantir que a proporção de classes (0 e 1, ganhos e perdas) seja mantida em treino e teste\n",
    "X_train, X_test, y_train, y_test = train_test_split(X, y, test_size=0.2, random_state=42, stratify=y)\n",
    "\n",
    "print(f\"\\nFormato de X_train: {X_train.shape}\")\n",
    "print(f\"Formato de X_test: {X_test.shape}\")\n",
    "print(f\"Formato de y_train: {y_train.shape}\")\n",
    "print(f\"Formato de y_test: {y_test.shape}\")"
   ]
  },
  {
   "cell_type": "code",
   "execution_count": 31,
   "id": "22c6ce9c",
   "metadata": {},
   "outputs": [
    {
     "name": "stdout",
     "output_type": "stream",
     "text": [
      "\n",
      "Proporção da classe alvo em y_train:\n",
      "target\n",
      "0    0.719034\n",
      "1    0.280966\n",
      "Name: proportion, dtype: float64\n",
      "\n",
      "Proporção da classe alvo em y_test:\n",
      "target\n",
      "0    0.71875\n",
      "1    0.28125\n",
      "Name: proportion, dtype: float64\n"
     ]
    }
   ],
   "source": [
    "# Verificar a proporção da classe alvo nos conjuntos de treino e teste\n",
    "print(\"\\nProporção da classe alvo em y_train:\")\n",
    "print(y_train.value_counts(normalize=True))\n",
    "print(\"\\nProporção da classe alvo em y_test:\")\n",
    "print(y_test.value_counts(normalize=True))"
   ]
  },
  {
   "cell_type": "markdown",
   "id": "f3253b4f",
   "metadata": {},
   "source": [
    "## --- 6.1. Modelo Baseline: Previsor da Classe Majoritária ---"
   ]
  },
  {
   "cell_type": "code",
   "execution_count": 34,
   "id": "738ae6c5",
   "metadata": {},
   "outputs": [],
   "source": [
    "from sklearn.metrics import classification_report, confusion_matrix\n",
    "import matplotlib.pyplot as plt\n",
    "import seaborn as sns"
   ]
  },
  {
   "cell_type": "code",
   "execution_count": 35,
   "id": "0fc022a6",
   "metadata": {},
   "outputs": [
    {
     "name": "stdout",
     "output_type": "stream",
     "text": [
      "\n",
      "--- Relatório de Classificação do Modelo Baseline (Classe Majoritária) ---\n",
      "              precision    recall  f1-score   support\n",
      "\n",
      "           0       0.72      1.00      0.84      1265\n",
      "           1       0.00      0.00      0.00       495\n",
      "\n",
      "    accuracy                           0.72      1760\n",
      "   macro avg       0.36      0.50      0.42      1760\n",
      "weighted avg       0.52      0.72      0.60      1760\n",
      "\n"
     ]
    }
   ],
   "source": [
    "# A classe majoritária é a que ocorre com mais frequência no conjunto de treino\n",
    "# y_train.value_counts() mostra:\n",
    "# target\n",
    "# 0    5062 (aproximadamente 71.9%)\n",
    "# 1    1978 (aproximadamente 28.1%)\n",
    "# Portanto, a classe majoritária é 0.\n",
    "\n",
    "# Criar previsões baseline: simplesmente prever a classe majoritária para todas as instâncias\n",
    "# A classe majoritária é 0 (oportunidade GANHA)\n",
    "y_pred_baseline = [y_train.mode()[0]] * len(y_test)\n",
    "\n",
    "print(\"\\n--- Relatório de Classificação do Modelo Baseline (Classe Majoritária) ---\")\n",
    "print(classification_report(y_test, y_pred_baseline, zero_division=0)) # zero_division=0 para evitar warnings com f1-score quando a classe minoritária não é prevista\n"
   ]
  },
  {
   "cell_type": "code",
   "execution_count": 38,
   "id": "ef00155e",
   "metadata": {},
   "outputs": [
    {
     "name": "stdout",
     "output_type": "stream",
     "text": [
      "\n",
      "--- Matriz de Confusão do Modelo Baseline ---\n",
      "[[1265    0]\n",
      " [ 495    0]]\n"
     ]
    }
   ],
   "source": [
    "print(\"\\n--- Matriz de Confusão do Modelo Baseline ---\")\n",
    "cm_baseline = confusion_matrix(y_test, y_pred_baseline)\n",
    "print(cm_baseline)"
   ]
  },
  {
   "cell_type": "code",
   "execution_count": 39,
   "id": "e6769ae8",
   "metadata": {},
   "outputs": [
    {
     "data": {
      "image/png": "[encoded data removed]",
      "text/plain": [
       "<Figure size 600x500 with 2 Axes>"
      ]
     },
     "metadata": {},
     "output_type": "display_data"
    }
   ],
   "source": [
    "# Visualizar a Matriz de Confusão do Baseline\n",
    "plt.figure(figsize=(6, 5))\n",
    "sns.heatmap(cm_baseline, annot=True, fmt='d', cmap='Blues',\n",
    "            xticklabels=['Ganho (0)', 'Perdido (1)'],\n",
    "            yticklabels=['Ganho Real (0)', 'Perdido Real (1)'])\n",
    "plt.xlabel('Previsto')\n",
    "plt.ylabel('Real')\n",
    "plt.title('Matriz de Confusão do Modelo Baseline')\n",
    "plt.show()"
   ]
  },
  {
   "cell_type": "markdown",
   "id": "51abb442",
   "metadata": {},
   "source": [
    "# --- 7. Modelagem: Treinamento do Modelo de Regressão Logística ---"
   ]
  },
  {
   "cell_type": "code",
   "execution_count": 40,
   "id": "459f8e6e",
   "metadata": {},
   "outputs": [],
   "source": [
    "from sklearn.linear_model import LogisticRegression\n",
    "from sklearn.metrics import classification_report, confusion_matrix, roc_auc_score, roc_curve"
   ]
  },
  {
   "cell_type": "markdown",
   "id": "08ef2df1",
   "metadata": {},
   "source": [
    "## 7.1. Instanciar o Modelo"
   ]
  },
  {
   "cell_type": "code",
   "execution_count": 41,
   "id": "1b541454",
   "metadata": {},
   "outputs": [],
   "source": [
    "# Usar solver='liblinear' é robusto para datasets menores e para penalidade L1/L2\n",
    "# random_state para reprodutibilidade\n",
    "model = LogisticRegression(solver='liblinear', random_state=42)"
   ]
  },
  {
   "cell_type": "markdown",
   "id": "13596f74",
   "metadata": {},
   "source": [
    "## 7.2. Treinar o Modelo"
   ]
  },
  {
   "cell_type": "code",
   "execution_count": 43,
   "id": "cb44be96",
   "metadata": {},
   "outputs": [
    {
     "name": "stdout",
     "output_type": "stream",
     "text": [
      "\n",
      "--- Modelo de Regressão Logística Treinado com Sucesso! ---\n"
     ]
    }
   ],
   "source": [
    "# O modelo aprende os padrões a partir dos dados de treinamento\n",
    "model.fit(X_train, y_train)\n",
    "print(\"\\n--- Modelo de Regressão Logística Treinado com Sucesso! ---\")"
   ]
  },
  {
   "cell_type": "markdown",
   "id": "7c911714",
   "metadata": {},
   "source": [
    "# --- 8. Avaliação do Modelo (Primeiras Métricas) ---"
   ]
  },
  {
   "cell_type": "markdown",
   "id": "76fb9005",
   "metadata": {},
   "source": [
    "# 8.1. Fazer Previsões no conjunto de Teste"
   ]
  },
  {
   "cell_type": "code",
   "execution_count": 44,
   "id": "fe33f3c6",
   "metadata": {},
   "outputs": [
    {
     "name": "stdout",
     "output_type": "stream",
     "text": [
      "\n",
      "--- Relatório de Classificação no Conjunto de Teste ---\n",
      "              precision    recall  f1-score   support\n",
      "\n",
      "           0       1.00      1.00      1.00      1265\n",
      "           1       1.00      1.00      1.00       495\n",
      "\n",
      "    accuracy                           1.00      1760\n",
      "   macro avg       1.00      1.00      1.00      1760\n",
      "weighted avg       1.00      1.00      1.00      1760\n",
      "\n"
     ]
    }
   ],
   "source": [
    "y_pred = model.predict(X_test)\n",
    "y_prob = model.predict_proba(X_test)[:, 1] # Probabilidade da classe positiva (target = 1, ou seja, 'perda')\n",
    "\n",
    "print(\"\\n--- Relatório de Classificação no Conjunto de Teste ---\")\n",
    "print(classification_report(y_test, y_pred))"
   ]
  },
  {
   "cell_type": "code",
   "execution_count": 45,
   "id": "359e8b92",
   "metadata": {},
   "outputs": [
    {
     "name": "stdout",
     "output_type": "stream",
     "text": [
      "\n",
      "--- Matriz de Confusão ---\n",
      "[[1265    0]\n",
      " [   0  495]]\n"
     ]
    }
   ],
   "source": [
    "print(\"\\n--- Matriz de Confusão ---\")\n",
    "cm = confusion_matrix(y_test, y_pred)\n",
    "print(cm)"
   ]
  },
  {
   "cell_type": "code",
   "execution_count": 46,
   "id": "31590ea2",
   "metadata": {},
   "outputs": [
    {
     "data": {
      "image/png": "[encoded data removed]",
      "text/plain": [
       "<Figure size 600x500 with 2 Axes>"
      ]
     },
     "metadata": {},
     "output_type": "display_data"
    }
   ],
   "source": [
    "# Visualizar a Matriz de Confusão\n",
    "plt.figure(figsize=(6, 5))\n",
    "sns.heatmap(cm, annot=True, fmt='d', cmap='Blues',\n",
    "            xticklabels=['Ganho (0)', 'Perdido (1)'],\n",
    "            yticklabels=['Ganho Real (0)', 'Perdido Real (1)'])\n",
    "plt.xlabel('Previsto')\n",
    "plt.ylabel('Real')\n",
    "plt.title('Matriz de Confusão da Regressão Logística')\n",
    "plt.show()"
   ]
  },
  {
   "cell_type": "code",
   "execution_count": 47,
   "id": "a5c66fdb",
   "metadata": {},
   "outputs": [
    {
     "name": "stdout",
     "output_type": "stream",
     "text": [
      "\n",
      "AUC-ROC Score: 1.0000\n"
     ]
    }
   ],
   "source": [
    "# Calcular e Imprimir AUC-ROC\n",
    "auc_roc = roc_auc_score(y_test, y_prob)\n",
    "print(f\"\\nAUC-ROC Score: {auc_roc:.4f}\")"
   ]
  },
  {
   "cell_type": "code",
   "execution_count": 48,
   "id": "402d9110",
   "metadata": {},
   "outputs": [
    {
     "data": {
      "image/png": "[encoded data removed]",
      "text/plain": [
       "<Figure size 800x600 with 1 Axes>"
      ]
     },
     "metadata": {},
     "output_type": "display_data"
    }
   ],
   "source": [
    "# Plotar Curva ROC\n",
    "fpr, tpr, thresholds = roc_curve(y_test, y_prob)\n",
    "plt.figure(figsize=(8, 6))\n",
    "plt.plot(fpr, tpr, color='blue', lw=2, label=f'Curva ROC (AUC = {auc_roc:.2f})')\n",
    "plt.plot([0, 1], [0, 1], color='gray', linestyle='--')\n",
    "plt.xlim([0.0, 1.0])\n",
    "plt.ylim([0.0, 1.05])\n",
    "plt.xlabel('Taxa de Falso Positivo (False Positive Rate)')\n",
    "plt.ylabel('Taxa de Verdadeiro Positivo (True Positive Rate)')\n",
    "plt.title('Curva ROC')\n",
    "plt.legend(loc=\"lower right\")\n",
    "plt.show()"
   ]
  },
  {
   "cell_type": "markdown",
   "id": "10d4ed16",
   "metadata": {},
   "source": [
    "# --- 9. Reavaliação do Modelo para Mitigar Data Leakage ---"
   ]
  },
  {
   "cell_type": "code",
   "execution_count": 49,
   "id": "7c8b068f",
   "metadata": {},
   "outputs": [],
   "source": [
    "# Contexto: O modelo anterior obteve uma performance perfeita (AUC = 1.00),\n",
    "# o que é um forte indicativo de Data Leakage.\n",
    "# Data Leakage ocorre quando uma feature contém informação do target que não estaria\n",
    "# disponível em um cenário de produção (no momento da previsão).\n",
    "\n",
    "# Suspeito principal: 'close_value_filled'.\n",
    "# Esta feature foi criada preenchendo NaNs do 'close_value' original com 0.\n",
    "# Ocorre que, para oportunidades perdidas (target=1), o 'close_value' original é NaN (e, portanto, 'close_value_filled' é 0).\n",
    "# Para oportunidades ganhas (target=0), 'close_value' tem um valor positivo (e 'close_value_filled' também é positivo).\n",
    "# Isso cria uma correlação quase perfeita, \"vazando\" a resposta para o modelo.\n",
    "# Em um cenário real, o valor final de 'close_value' (e se ele seria 0 por perda)\n",
    "# não estaria disponível para uma oportunidade em andamento que se busca prever.\n",
    "\n",
    "# Ação: Remover 'close_value_filled' das features (X) para simular um cenário mais realista\n",
    "# onde o modelo precisa prever a perda *antes* de ter o valor final de fechamento."
   ]
  },
  {
   "cell_type": "code",
   "execution_count": 52,
   "id": "12d933e4",
   "metadata": {},
   "outputs": [
    {
     "name": "stdout",
     "output_type": "stream",
     "text": [
      "\n",
      "Formato de X_revisited (Features após remoção de close_value_filled): (8800, 85)\n"
     ]
    }
   ],
   "source": [
    "# Separar Features (X_revisited) e Variável Alvo (y) novamente\n",
    "# Excluindo 'target' e 'close_value_filled' das features.\n",
    "X_revisited = df_final.drop(['target', 'close_value_filled'], axis=1)\n",
    "y = df_final['target']\n",
    "\n",
    "print(f\"\\nFormato de X_revisited (Features após remoção de close_value_filled): {X_revisited.shape}\")"
   ]
  },
  {
   "cell_type": "code",
   "execution_count": 53,
   "id": "a270b13d",
   "metadata": {},
   "outputs": [
    {
     "name": "stdout",
     "output_type": "stream",
     "text": [
      "\n",
      "Formato de X_train_revisited: (7040, 85)\n",
      "Formato de X_test_revisited: (1760, 85)\n"
     ]
    }
   ],
   "source": [
    "# Dividir os dados em conjuntos de treinamento e teste novamente\n",
    "# É crucial refazer a divisão após alterar X para garantir que os conjuntos\n",
    "# X_train_revisited, X_test_revisited, y_train, y_test sejam consistentes com X_revisited e y.\n",
    "# O random_state=42 e stratify=y são mantidos para reprodutibilidade e balanceamento de classes.\n",
    "X_train_revisited, X_test_revisited, y_train, y_test = train_test_split(\n",
    "    X_revisited, y, test_size=0.2, random_state=42, stratify=y\n",
    ")\n",
    "\n",
    "print(f\"\\nFormato de X_train_revisited: {X_train_revisited.shape}\")\n",
    "print(f\"Formato de X_test_revisited: {X_test_revisited.shape}\")"
   ]
  },
  {
   "cell_type": "code",
   "execution_count": 55,
   "id": "e0b2b90a",
   "metadata": {},
   "outputs": [
    {
     "name": "stdout",
     "output_type": "stream",
     "text": [
      "\n",
      "--- Modelo de Regressão Logística Treinado Novamente (Sem Data Leakage de 'close_value_filled') ---\n"
     ]
    }
   ],
   "source": [
    "# Instanciar e Treinar o Modelo de Regressão Logística novamente\n",
    "# O solver='liblinear' é robusto e adequado para este tipo de dataset.\n",
    "model_revisited = LogisticRegression(solver='liblinear', random_state=42)\n",
    "model_revisited.fit(X_train_revisited, y_train)\n",
    "\n",
    "print(\"\\n--- Modelo de Regressão Logística Treinado Novamente (Sem Data Leakage de 'close_value_filled') ---\")"
   ]
  },
  {
   "cell_type": "code",
   "execution_count": 56,
   "id": "6d8b8587",
   "metadata": {},
   "outputs": [
    {
     "name": "stdout",
     "output_type": "stream",
     "text": [
      "\n",
      "--- Relatório de Classificação no Conjunto de Teste (Modelo Revisitado) ---\n",
      "              precision    recall  f1-score   support\n",
      "\n",
      "           0       1.00      1.00      1.00      1265\n",
      "           1       1.00      1.00      1.00       495\n",
      "\n",
      "    accuracy                           1.00      1760\n",
      "   macro avg       1.00      1.00      1.00      1760\n",
      "weighted avg       1.00      1.00      1.00      1760\n",
      "\n"
     ]
    }
   ],
   "source": [
    "# Fazer Previsões e Avaliar o Modelo Revisitado\n",
    "y_pred_revisited = model_revisited.predict(X_test_revisited)\n",
    "# y_prob_revisited é a probabilidade da classe positiva (target = 1, ou seja, 'perda')\n",
    "y_prob_revisited = model_revisited.predict_proba(X_test_revisited)[:, 1]\n",
    "\n",
    "print(\"\\n--- Relatório de Classificação no Conjunto de Teste (Modelo Revisitado) ---\")\n",
    "print(classification_report(y_test, y_pred_revisited))"
   ]
  },
  {
   "cell_type": "code",
   "execution_count": 57,
   "id": "67bbe9ea",
   "metadata": {},
   "outputs": [
    {
     "name": "stdout",
     "output_type": "stream",
     "text": [
      "\n",
      "--- Matriz de Confusão (Modelo Revisitado) ---\n",
      "[[1265    0]\n",
      " [   0  495]]\n"
     ]
    }
   ],
   "source": [
    "print(\"\\n--- Matriz de Confusão (Modelo Revisitado) ---\")\n",
    "cm_revisited = confusion_matrix(y_test, y_pred_revisited)\n",
    "print(cm_revisited)"
   ]
  },
  {
   "cell_type": "code",
   "execution_count": 58,
   "id": "a3d7d3c4",
   "metadata": {},
   "outputs": [
    {
     "data": {
      "image/png": "[encoded data removed]",
      "text/plain": [
       "<Figure size 600x500 with 2 Axes>"
      ]
     },
     "metadata": {},
     "output_type": "display_data"
    }
   ],
   "source": [
    "# Visualizar a Matriz de Confusão\n",
    "plt.figure(figsize=(6, 5))\n",
    "sns.heatmap(cm_revisited, annot=True, fmt='d', cmap='Blues',\n",
    "            xticklabels=['Ganho (0)', 'Perdido (1)'],\n",
    "            yticklabels=['Ganho Real (0)', 'Perdido Real (1)'])\n",
    "plt.xlabel('Previsto')\n",
    "plt.ylabel('Real')\n",
    "plt.title('Matriz de Confusão da Regressão Logística (Modelo Revisitado - Sem Leakage)')\n",
    "plt.show()"
   ]
  },
  {
   "cell_type": "code",
   "execution_count": 59,
   "id": "d901ff62",
   "metadata": {},
   "outputs": [
    {
     "name": "stdout",
     "output_type": "stream",
     "text": [
      "\n",
      "AUC-ROC Score (Modelo Revisitado - Sem Leakage): 1.0000\n"
     ]
    }
   ],
   "source": [
    "# Calcular e Imprimir AUC-ROC\n",
    "auc_roc_revisited = roc_auc_score(y_test, y_prob_revisited)\n",
    "print(f\"\\nAUC-ROC Score (Modelo Revisitado - Sem Leakage): {auc_roc_revisited:.4f}\")"
   ]
  },
  {
   "cell_type": "code",
   "execution_count": 60,
   "id": "8e7ab980",
   "metadata": {},
   "outputs": [
    {
     "data": {
      "image/png": "[encoded data removed]",
      "text/plain": [
       "<Figure size 800x600 with 1 Axes>"
      ]
     },
     "metadata": {},
     "output_type": "display_data"
    }
   ],
   "source": [
    "# Plotar Curva ROC\n",
    "fpr_revisited, tpr_revisited, thresholds_revisited = roc_curve(y_test, y_prob_revisited)\n",
    "plt.figure(figsize=(8, 6))\n",
    "plt.plot(fpr_revisited, tpr_revisited, color='blue', lw=2, label=f'Curva ROC (AUC = {auc_roc_revisited:.2f})')\n",
    "plt.plot([0, 1], [0, 1], color='gray', linestyle='--')\n",
    "plt.xlim([0.0, 1.0])\n",
    "plt.ylim([0.0, 1.05])\n",
    "plt.xlabel('Taxa de Falso Positivo (False Positive Rate)')\n",
    "plt.ylabel('Taxa de Verdadeiro Positivo (True Positive Rate)')\n",
    "plt.title('Curva ROC (Modelo Revisitado - Sem Leakage)')\n",
    "plt.legend(loc=\"lower right\")\n",
    "plt.show()"
   ]
  },
  {
   "cell_type": "code",
   "execution_count": 62,
   "id": "bc5c3b47",
   "metadata": {},
   "outputs": [
    {
     "name": "stdout",
     "output_type": "stream",
     "text": [
      "\n",
      "--- Correlação entre colunas de 'deal_stage' codificadas e o 'target' ---\n",
      "deal_stage_Lost           1.000000\n",
      "target                    1.000000\n",
      "deal_stage_Prospecting   -0.153447\n",
      "deal_stage_Won           -0.602582\n",
      "Name: target, dtype: float64\n"
     ]
    }
   ],
   "source": [
    "# Analisando a relação entre 'deal_stage' e 'target' no DataFrame original (df)\n",
    "# para entender o possível data leakage.\n",
    "# Se o df original não tiver mais essas colunas, podemos verificar no df_encoded antes de dropar.\n",
    "\n",
    "# Se 'deal_stage' foi codificado em df_encoded e a coluna original foi removida,\n",
    "# vamos verificar a relação entre as novas colunas one-hot de 'deal_stage' e o 'target'.\n",
    "# Assumindo que o df_encoded ainda existe e contem as colunas deal_stage_X (após o OHE)\n",
    "\n",
    "# Pegar as colunas criadas a partir de 'deal_stage' no df_encoded\n",
    "deal_stage_encoded_cols = [col for col in X_revisited.columns if 'deal_stage' in col]\n",
    "\n",
    "print(\"\\n--- Correlação entre colunas de 'deal_stage' codificadas e o 'target' ---\")\n",
    "# Concatenar o target com as features relevantes para calcular a correlação\n",
    "temp_df_correlation = pd.concat([X_revisited[deal_stage_encoded_cols], y], axis=1)\n",
    "print(temp_df_correlation.corr()['target'].sort_values(ascending=False))"
   ]
  },
  {
   "cell_type": "code",
   "execution_count": 63,
   "id": "358d095b",
   "metadata": {},
   "outputs": [
    {
     "name": "stdout",
     "output_type": "stream",
     "text": [
      "\n",
      "--- Contagem de target por cada tipo de deal_stage (no DataFrame df original, se disponível) ---\n"
     ]
    }
   ],
   "source": [
    "print(\"\\n--- Contagem de target por cada tipo de deal_stage (no DataFrame df original, se disponível) ---\")\n",
    "# Idealmente, faríamos isso no DF antes do OHE\n",
    "# Se você ainda tiver o DataFrame 'df' (antes do One-Hot Encoding e remoções), rode:\n",
    "# print(df.groupby('deal_stage')['target'].value_counts(normalize=True))\n",
    "\n",
    "# Se o 'df' original não estiver disponível neste ponto, podemos tentar inferir a partir das colunas OHE.\n",
    "# Por exemplo, se 'deal_stage_Lost' tem correlação muito alta com 'target', já é um indício."
   ]
  }
 ],
 "metadata": {
  "kernelspec": {
   "display_name": "venv",
   "language": "python",
   "name": "python3"
  },
  "language_info": {
   "codemirror_mode": {
    "name": "ipython",
    "version": 3
   },
   "file_extension": ".py",
   "mimetype": "text/x-python",
   "name": "python",
   "nbconvert_exporter": "python",
   "pygments_lexer": "ipython3",
   "version": "3.13.2"
  }
 },
 "nbformat": 4,
 "nbformat_minor": 5
}
