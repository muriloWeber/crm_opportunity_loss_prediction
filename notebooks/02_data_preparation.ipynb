{
 "cells": [
  {
   "cell_type": "code",
   "execution_count": 2,
   "id": "62572a61",
   "metadata": {},
   "outputs": [],
   "source": [
    "import pandas as pd\n",
    "import os"
   ]
  },
  {
   "cell_type": "code",
   "execution_count": 6,
   "id": "bbc040f5",
   "metadata": {},
   "outputs": [
    {
     "name": "stdout",
     "output_type": "stream",
     "text": [
      "DataFrame carregado com sucesso!\n",
      "\n",
      "--- Primeiras 5 linhas do DataFrame ---\n"
     ]
    },
    {
     "data": {
      "text/html": [
       "<div>\n",
       "<style scoped>\n",
       "    .dataframe tbody tr th:only-of-type {\n",
       "        vertical-align: middle;\n",
       "    }\n",
       "\n",
       "    .dataframe tbody tr th {\n",
       "        vertical-align: top;\n",
       "    }\n",
       "\n",
       "    .dataframe thead th {\n",
       "        text-align: right;\n",
       "    }\n",
       "</style>\n",
       "<table border=\"1\" class=\"dataframe\">\n",
       "  <thead>\n",
       "    <tr style=\"text-align: right;\">\n",
       "      <th></th>\n",
       "      <th>opportunity_id</th>\n",
       "      <th>sales_agent</th>\n",
       "      <th>product</th>\n",
       "      <th>account</th>\n",
       "      <th>deal_stage</th>\n",
       "      <th>engage_date</th>\n",
       "      <th>close_date</th>\n",
       "      <th>close_value</th>\n",
       "      <th>target</th>\n",
       "      <th>sector</th>\n",
       "      <th>year_established</th>\n",
       "      <th>revenue</th>\n",
       "      <th>employees</th>\n",
       "      <th>office_location</th>\n",
       "      <th>subsidiary_of</th>\n",
       "      <th>series</th>\n",
       "      <th>sales_price</th>\n",
       "      <th>manager</th>\n",
       "      <th>regional_office</th>\n",
       "    </tr>\n",
       "  </thead>\n",
       "  <tbody>\n",
       "    <tr>\n",
       "      <th>0</th>\n",
       "      <td>1C1I7A6R</td>\n",
       "      <td>Moses Frase</td>\n",
       "      <td>GTX Plus Basic</td>\n",
       "      <td>Cancity</td>\n",
       "      <td>Won</td>\n",
       "      <td>2016-10-20</td>\n",
       "      <td>2017-03-01</td>\n",
       "      <td>1054.0</td>\n",
       "      <td>0</td>\n",
       "      <td>retail</td>\n",
       "      <td>2001.0</td>\n",
       "      <td>718.62</td>\n",
       "      <td>2448.0</td>\n",
       "      <td>United States</td>\n",
       "      <td>NaN</td>\n",
       "      <td>GTX</td>\n",
       "      <td>1096.0</td>\n",
       "      <td>Dustin Brinkmann</td>\n",
       "      <td>Central</td>\n",
       "    </tr>\n",
       "    <tr>\n",
       "      <th>1</th>\n",
       "      <td>Z063OYW0</td>\n",
       "      <td>Darcel Schlecht</td>\n",
       "      <td>GTXPro</td>\n",
       "      <td>Isdom</td>\n",
       "      <td>Won</td>\n",
       "      <td>2016-10-25</td>\n",
       "      <td>2017-03-11</td>\n",
       "      <td>4514.0</td>\n",
       "      <td>0</td>\n",
       "      <td>medical</td>\n",
       "      <td>2002.0</td>\n",
       "      <td>3178.24</td>\n",
       "      <td>4540.0</td>\n",
       "      <td>United States</td>\n",
       "      <td>NaN</td>\n",
       "      <td>NaN</td>\n",
       "      <td>NaN</td>\n",
       "      <td>Melvin Marxen</td>\n",
       "      <td>Central</td>\n",
       "    </tr>\n",
       "    <tr>\n",
       "      <th>2</th>\n",
       "      <td>EC4QE1BX</td>\n",
       "      <td>Darcel Schlecht</td>\n",
       "      <td>MG Special</td>\n",
       "      <td>Cancity</td>\n",
       "      <td>Won</td>\n",
       "      <td>2016-10-25</td>\n",
       "      <td>2017-03-07</td>\n",
       "      <td>50.0</td>\n",
       "      <td>0</td>\n",
       "      <td>retail</td>\n",
       "      <td>2001.0</td>\n",
       "      <td>718.62</td>\n",
       "      <td>2448.0</td>\n",
       "      <td>United States</td>\n",
       "      <td>NaN</td>\n",
       "      <td>MG</td>\n",
       "      <td>55.0</td>\n",
       "      <td>Melvin Marxen</td>\n",
       "      <td>Central</td>\n",
       "    </tr>\n",
       "    <tr>\n",
       "      <th>3</th>\n",
       "      <td>MV1LWRNH</td>\n",
       "      <td>Moses Frase</td>\n",
       "      <td>GTX Basic</td>\n",
       "      <td>Codehow</td>\n",
       "      <td>Won</td>\n",
       "      <td>2016-10-25</td>\n",
       "      <td>2017-03-09</td>\n",
       "      <td>588.0</td>\n",
       "      <td>0</td>\n",
       "      <td>software</td>\n",
       "      <td>1998.0</td>\n",
       "      <td>2714.90</td>\n",
       "      <td>2641.0</td>\n",
       "      <td>United States</td>\n",
       "      <td>Acme Corporation</td>\n",
       "      <td>GTX</td>\n",
       "      <td>550.0</td>\n",
       "      <td>Dustin Brinkmann</td>\n",
       "      <td>Central</td>\n",
       "    </tr>\n",
       "    <tr>\n",
       "      <th>4</th>\n",
       "      <td>PE84CX4O</td>\n",
       "      <td>Zane Levy</td>\n",
       "      <td>GTX Basic</td>\n",
       "      <td>Hatfan</td>\n",
       "      <td>Won</td>\n",
       "      <td>2016-10-25</td>\n",
       "      <td>2017-03-02</td>\n",
       "      <td>517.0</td>\n",
       "      <td>0</td>\n",
       "      <td>services</td>\n",
       "      <td>1982.0</td>\n",
       "      <td>792.46</td>\n",
       "      <td>1299.0</td>\n",
       "      <td>United States</td>\n",
       "      <td>NaN</td>\n",
       "      <td>GTX</td>\n",
       "      <td>550.0</td>\n",
       "      <td>Summer Sewald</td>\n",
       "      <td>West</td>\n",
       "    </tr>\n",
       "  </tbody>\n",
       "</table>\n",
       "</div>"
      ],
      "text/plain": [
       "  opportunity_id      sales_agent         product  account deal_stage  \\\n",
       "0       1C1I7A6R      Moses Frase  GTX Plus Basic  Cancity        Won   \n",
       "1       Z063OYW0  Darcel Schlecht          GTXPro    Isdom        Won   \n",
       "2       EC4QE1BX  Darcel Schlecht      MG Special  Cancity        Won   \n",
       "3       MV1LWRNH      Moses Frase       GTX Basic  Codehow        Won   \n",
       "4       PE84CX4O        Zane Levy       GTX Basic   Hatfan        Won   \n",
       "\n",
       "  engage_date  close_date  close_value  target    sector  year_established  \\\n",
       "0  2016-10-20  2017-03-01       1054.0       0    retail            2001.0   \n",
       "1  2016-10-25  2017-03-11       4514.0       0   medical            2002.0   \n",
       "2  2016-10-25  2017-03-07         50.0       0    retail            2001.0   \n",
       "3  2016-10-25  2017-03-09        588.0       0  software            1998.0   \n",
       "4  2016-10-25  2017-03-02        517.0       0  services            1982.0   \n",
       "\n",
       "   revenue  employees office_location     subsidiary_of series  sales_price  \\\n",
       "0   718.62     2448.0   United States               NaN    GTX       1096.0   \n",
       "1  3178.24     4540.0   United States               NaN    NaN          NaN   \n",
       "2   718.62     2448.0   United States               NaN     MG         55.0   \n",
       "3  2714.90     2641.0   United States  Acme Corporation    GTX        550.0   \n",
       "4   792.46     1299.0   United States               NaN    GTX        550.0   \n",
       "\n",
       "            manager regional_office  \n",
       "0  Dustin Brinkmann         Central  \n",
       "1     Melvin Marxen         Central  \n",
       "2     Melvin Marxen         Central  \n",
       "3  Dustin Brinkmann         Central  \n",
       "4     Summer Sewald            West  "
      ]
     },
     "execution_count": 6,
     "metadata": {},
     "output_type": "execute_result"
    }
   ],
   "source": [
    "file_path = '../data/processed/df_eda_consolidated.csv'\n",
    "\n",
    "df = pd.read_csv(file_path)\n",
    "\n",
    "print(\"DataFrame carregado com sucesso!\")\n",
    "print(\"\\n--- Primeiras 5 linhas do DataFrame ---\")\n",
    "\n",
    "df.head()\n"
   ]
  },
  {
   "cell_type": "code",
   "execution_count": 7,
   "id": "09af36d7",
   "metadata": {},
   "outputs": [
    {
     "name": "stdout",
     "output_type": "stream",
     "text": [
      "\n",
      "--- Informações do DataFrame ---\n",
      "<class 'pandas.core.frame.DataFrame'>\n",
      "RangeIndex: 8800 entries, 0 to 8799\n",
      "Data columns (total 19 columns):\n",
      " #   Column            Non-Null Count  Dtype  \n",
      "---  ------            --------------  -----  \n",
      " 0   opportunity_id    8800 non-null   object \n",
      " 1   sales_agent       8800 non-null   object \n",
      " 2   product           8800 non-null   object \n",
      " 3   account           7375 non-null   object \n",
      " 4   deal_stage        8800 non-null   object \n",
      " 5   engage_date       8300 non-null   object \n",
      " 6   close_date        6711 non-null   object \n",
      " 7   close_value       6711 non-null   float64\n",
      " 8   target            8800 non-null   int64  \n",
      " 9   sector            7375 non-null   object \n",
      " 10  year_established  7375 non-null   float64\n",
      " 11  revenue           7375 non-null   float64\n",
      " 12  employees         7375 non-null   float64\n",
      " 13  office_location   7375 non-null   object \n",
      " 14  subsidiary_of     1292 non-null   object \n",
      " 15  series            7320 non-null   object \n",
      " 16  sales_price       7320 non-null   float64\n",
      " 17  manager           8800 non-null   object \n",
      " 18  regional_office   8800 non-null   object \n",
      "dtypes: float64(5), int64(1), object(13)\n",
      "memory usage: 1.3+ MB\n",
      "None\n",
      "\n",
      "--- Fim do carregamento ---\n"
     ]
    }
   ],
   "source": [
    "print(\"\\n--- Informações do DataFrame ---\")\n",
    "print(df.info())\n",
    "print(\"\\n--- Fim do carregamento ---\")"
   ]
  },
  {
   "cell_type": "markdown",
   "id": "71c1e287",
   "metadata": {},
   "source": [
    "# --- 1. Tratamento de Valores Ausentes ---"
   ]
  },
  {
   "cell_type": "code",
   "execution_count": null,
   "id": "839df2af",
   "metadata": {},
   "outputs": [
    {
     "name": "stdout",
     "output_type": "stream",
     "text": [
      "\n",
      "--- Contagem de Valores Ausentes por Coluna ---\n",
      "opportunity_id         0\n",
      "sales_agent            0\n",
      "product                0\n",
      "account             1425\n",
      "deal_stage             0\n",
      "engage_date          500\n",
      "close_date          2089\n",
      "close_value         2089\n",
      "target                 0\n",
      "sector              1425\n",
      "year_established    1425\n",
      "revenue             1425\n",
      "employees           1425\n",
      "office_location     1425\n",
      "subsidiary_of       7508\n",
      "series              1480\n",
      "sales_price         1480\n",
      "manager                0\n",
      "regional_office        0\n",
      "dtype: int64\n"
     ]
    }
   ],
   "source": [
    "print(\"\\n--- Contagem de Valores Ausentes por Coluna ---\")\n",
    "print(df.isnull().sum())"
   ]
  },
  {
   "cell_type": "code",
   "execution_count": 10,
   "id": "74d6b2a0",
   "metadata": {},
   "outputs": [
    {
     "name": "stdout",
     "output_type": "stream",
     "text": [
      "\n",
      "--- Porcentagem de Valores Ausentes por Coluna ---\n",
      "subsidiary_of       85.318182\n",
      "close_date          23.738636\n",
      "close_value         23.738636\n",
      "sales_price         16.818182\n",
      "series              16.818182\n",
      "revenue             16.193182\n",
      "employees           16.193182\n",
      "office_location     16.193182\n",
      "year_established    16.193182\n",
      "sector              16.193182\n",
      "account             16.193182\n",
      "engage_date          5.681818\n",
      "product              0.000000\n",
      "opportunity_id       0.000000\n",
      "sales_agent          0.000000\n",
      "target               0.000000\n",
      "deal_stage           0.000000\n",
      "manager              0.000000\n",
      "regional_office      0.000000\n",
      "dtype: float64\n"
     ]
    }
   ],
   "source": [
    "print(\"\\n--- Porcentagem de Valores Ausentes por Coluna ---\")\n",
    "print((df.isnull().sum() / len(df) * 100).sort_values(ascending=False))"
   ]
  },
  {
   "cell_type": "markdown",
   "id": "c852fb71",
   "metadata": {},
   "source": [
    "## --- 1.1. Preenchimento de Valores Ausentes ---"
   ]
  },
  {
   "cell_type": "code",
   "execution_count": null,
   "id": "cf09fe5d",
   "metadata": {},
   "outputs": [],
   "source": [
    "# Colunas Categóricas com NaN para preencher com valores em Inglês\n",
    "df['subsidiary_of'] = df['subsidiary_of'].fillna('Not_Subsidiary')\n",
    "df['sector'] = df['sector'].fillna('Unknown_Sector')\n",
    "df['office_location'] = df['office_location'].fillna('Unknown_Location')\n",
    "df['account'] = df['account'].fillna('Unknown_Account')\n",
    "df['series'] = df['series'].fillna('Unknown_Series')"
   ]
  },
  {
   "cell_type": "code",
   "execution_count": 14,
   "id": "4243e709",
   "metadata": {},
   "outputs": [],
   "source": [
    "# Colunas Numéricas com NaN para preencher com a Mediana (sem alteração)\n",
    "median_revenue = df['revenue'].median()\n",
    "median_employees = df['employees'].median()\n",
    "median_year_established = df['year_established'].median()\n",
    "median_sales_price = df['sales_price'].median()\n",
    "\n",
    "df['revenue'] = df['revenue'].fillna(median_revenue)\n",
    "df['employees'] = df['employees'].fillna(median_employees)\n",
    "df['year_established'] = df['year_established'].fillna(median_year_established)\n",
    "df['sales_price'] = df['sales_price'].fillna(median_sales_price)"
   ]
  },
  {
   "cell_type": "code",
   "execution_count": 15,
   "id": "bbbcb371",
   "metadata": {},
   "outputs": [
    {
     "name": "stdout",
     "output_type": "stream",
     "text": [
      "Coluna 'close_value_filled' criada/atualizada com NaNs preenchidos por 0.\n"
     ]
    }
   ],
   "source": [
    "# Para close_value, usaremos a coluna 'close_value_filled' que já foi tratada\n",
    "if 'close_value_filled' not in df.columns:\n",
    "    df['close_value_filled'] = df['close_value'].fillna(0)\n",
    "    print(\"Coluna 'close_value_filled' criada/atualizada com NaNs preenchidos por 0.\")"
   ]
  },
  {
   "cell_type": "code",
   "execution_count": 16,
   "id": "003e0293",
   "metadata": {},
   "outputs": [
    {
     "name": "stdout",
     "output_type": "stream",
     "text": [
      "\n",
      "--- Porcentagem de Valores Ausentes por Coluna APÓS PREENCHIMENTO ---\n",
      "close_date            23.738636\n",
      "close_value           23.738636\n",
      "engage_date            5.681818\n",
      "opportunity_id         0.000000\n",
      "account                0.000000\n",
      "product                0.000000\n",
      "sales_agent            0.000000\n",
      "deal_stage             0.000000\n",
      "target                 0.000000\n",
      "sector                 0.000000\n",
      "year_established       0.000000\n",
      "revenue                0.000000\n",
      "employees              0.000000\n",
      "office_location        0.000000\n",
      "subsidiary_of          0.000000\n",
      "series                 0.000000\n",
      "sales_price            0.000000\n",
      "manager                0.000000\n",
      "regional_office        0.000000\n",
      "close_value_filled     0.000000\n",
      "dtype: float64\n"
     ]
    }
   ],
   "source": [
    "# Verificar novamente os valores ausentes após o preenchimento\n",
    "print(\"\\n--- Porcentagem de Valores Ausentes por Coluna APÓS PREENCHIMENTO ---\")\n",
    "print((df.isnull().sum() / len(df) * 100).sort_values(ascending=False))"
   ]
  },
  {
   "cell_type": "markdown",
   "id": "bad7c96d",
   "metadata": {},
   "source": [
    "# --- 2. Engenharia de Features ---"
   ]
  },
  {
   "cell_type": "markdown",
   "id": "5406431e",
   "metadata": {},
   "source": [
    "## 2.1. Conversão de Datas para datetime"
   ]
  },
  {
   "cell_type": "code",
   "execution_count": 17,
   "id": "e6dc2029",
   "metadata": {},
   "outputs": [],
   "source": [
    "# Coerção de erros 'coerce' converterá valores inválidos para NaT (Not a Time)\n",
    "df['engage_date'] = pd.to_datetime(df['engage_date'], errors='coerce')\n",
    "df['close_date'] = pd.to_datetime(df['close_date'], errors='coerce')"
   ]
  },
  {
   "cell_type": "markdown",
   "id": "eebcdcaa",
   "metadata": {},
   "source": [
    "## 2.2. Criação da feature 'opportunity_duration_days'"
   ]
  },
  {
   "cell_type": "code",
   "execution_count": 19,
   "id": "d75cf609",
   "metadata": {},
   "outputs": [],
   "source": [
    "# Para garantir que não haja durações negativas ou zero que possam ser erros\n",
    "# Calculamos a diferença e preenchemos NaNs (resultantes de NaT nas datas)\n",
    "# com um valor neutro ou que indique 'desconhecido' para a duração, ou filtramos.\n",
    "# Como já fizemos na EDA, vamos recriar com tratamento similar.\n",
    "df['opportunity_duration_days'] = (df['close_date'] - df['engage_date']).dt.days\n",
    "\n",
    "# Preencher NaNs na duração: Para oportunidades onde close_date ou engage_date eram NaT\n",
    "# Ou para casos onde não faz sentido ter duração (ex: target=1 e close_value=0, mas sem close_date)\n",
    "# Uma estratégia é preencher com a mediana das durações positivas, ou 0, ou -1 para indicar \"não aplicável/desconhecido\".\n",
    "# Dado que 'close_date' e 'engage_date' ainda têm NaNs, a 'opportunity_duration_days' também terá NaNs.\n",
    "# Vamos preencher os NaNs de 'opportunity_duration_days' com a mediana das durações **válidas**.\n",
    "median_duration = df['opportunity_duration_days'].median()\n",
    "df['opportunity_duration_days'] = df['opportunity_duration_days'].fillna(median_duration)\n",
    "\n",
    "# Tratar durações <= 0 como um valor específico ou 0, se for um erro de dados\n",
    "df['opportunity_duration_days'] = df['opportunity_duration_days'].apply(lambda x: 0 if x <= 0 else x)"
   ]
  },
  {
   "cell_type": "code",
   "execution_count": 20,
   "id": "f35bc9b5",
   "metadata": {},
   "outputs": [
    {
     "name": "stdout",
     "output_type": "stream",
     "text": [
      "\n",
      "--- Informações do DataFrame após conversão de datas e criação de duração ---\n",
      "<class 'pandas.core.frame.DataFrame'>\n",
      "RangeIndex: 8800 entries, 0 to 8799\n",
      "Data columns (total 3 columns):\n",
      " #   Column                     Non-Null Count  Dtype         \n",
      "---  ------                     --------------  -----         \n",
      " 0   engage_date                8300 non-null   datetime64[ns]\n",
      " 1   close_date                 6711 non-null   datetime64[ns]\n",
      " 2   opportunity_duration_days  8800 non-null   float64       \n",
      "dtypes: datetime64[ns](2), float64(1)\n",
      "memory usage: 206.4 KB\n",
      "None\n"
     ]
    }
   ],
   "source": [
    "print(\"\\n--- Informações do DataFrame após conversão de datas e criação de duração ---\")\n",
    "print(df[['engage_date', 'close_date', 'opportunity_duration_days']].info())"
   ]
  },
  {
   "cell_type": "code",
   "execution_count": 21,
   "id": "09457c56",
   "metadata": {},
   "outputs": [
    {
     "name": "stdout",
     "output_type": "stream",
     "text": [
      "\n",
      "--- Estatísticas descritivas da Duração da Oportunidade (em dias) ---\n",
      "count    8800.000000\n",
      "mean       47.276705\n",
      "std        35.876598\n",
      "min         1.000000\n",
      "25%        10.000000\n",
      "50%        45.000000\n",
      "75%        76.000000\n",
      "max       138.000000\n",
      "Name: opportunity_duration_days, dtype: float64\n"
     ]
    }
   ],
   "source": [
    "print(\"\\n--- Estatísticas descritivas da Duração da Oportunidade (em dias) ---\")\n",
    "print(df['opportunity_duration_days'].describe())"
   ]
  },
  {
   "cell_type": "code",
   "execution_count": 22,
   "id": "7e83a6e2",
   "metadata": {},
   "outputs": [
    {
     "name": "stdout",
     "output_type": "stream",
     "text": [
      "\n",
      "--- Porcentagem de Valores Ausentes após criação de 'opportunity_duration_days' ---\n",
      "close_date                   23.738636\n",
      "close_value                  23.738636\n",
      "engage_date                   5.681818\n",
      "sales_agent                   0.000000\n",
      "opportunity_id                0.000000\n",
      "deal_stage                    0.000000\n",
      "account                       0.000000\n",
      "product                       0.000000\n",
      "target                        0.000000\n",
      "sector                        0.000000\n",
      "year_established              0.000000\n",
      "revenue                       0.000000\n",
      "employees                     0.000000\n",
      "office_location               0.000000\n",
      "subsidiary_of                 0.000000\n",
      "series                        0.000000\n",
      "sales_price                   0.000000\n",
      "manager                       0.000000\n",
      "regional_office               0.000000\n",
      "close_value_filled            0.000000\n",
      "opportunity_duration_days     0.000000\n",
      "dtype: float64\n"
     ]
    }
   ],
   "source": [
    "print(\"\\n--- Porcentagem de Valores Ausentes após criação de 'opportunity_duration_days' ---\")\n",
    "print((df.isnull().sum() / len(df) * 100).sort_values(ascending=False))"
   ]
  }
 ],
 "metadata": {
  "kernelspec": {
   "display_name": "venv",
   "language": "python",
   "name": "python3"
  },
  "language_info": {
   "codemirror_mode": {
    "name": "ipython",
    "version": 3
   },
   "file_extension": ".py",
   "mimetype": "text/x-python",
   "name": "python",
   "nbconvert_exporter": "python",
   "pygments_lexer": "ipython3",
   "version": "3.13.2"
  }
 },
 "nbformat": 4,
 "nbformat_minor": 5
}
