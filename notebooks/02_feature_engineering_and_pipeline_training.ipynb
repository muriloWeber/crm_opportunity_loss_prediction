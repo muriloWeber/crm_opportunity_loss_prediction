{
 "cells": [
  {
   "cell_type": "code",
   "execution_count": 1,
   "id": "62572a61",
   "metadata": {},
   "outputs": [],
   "source": [
    "import pandas as pd\n",
    "from sklearn.preprocessing import StandardScaler, OneHotEncoder\n",
    "from sklearn.compose import ColumnTransformer\n",
    "from sklearn.pipeline import Pipeline\n",
    "import joblib\n",
    "import os"
   ]
  },
  {
   "cell_type": "markdown",
   "id": "74a262e6",
   "metadata": {},
   "source": [
    "# --- 0. Carregamento do DataFrame Consolidado ---\n"
   ]
  },
  {
   "cell_type": "code",
   "execution_count": 2,
   "id": "bbc040f5",
   "metadata": {},
   "outputs": [
    {
     "name": "stdout",
     "output_type": "stream",
     "text": [
      "DataFrame carregado com sucesso!\n"
     ]
    }
   ],
   "source": [
    "# Define o caminho para a pasta 'processed'\n",
    "processed_data_path = '../data/processed/'\n",
    "file_path = os.path.join(processed_data_path, 'df_eda_consolidated.csv')\n",
    "\n",
    "try:\n",
    "    df = pd.read_csv(file_path)\n",
    "    print(\"DataFrame carregado com sucesso!\")\n",
    "except FileNotFoundError:\n",
    "    print(f\"Erro: Arquivo '{file_path}' não encontrado.\")\n",
    "    print(\"Certifique-se de que o notebook '01_data_understanding.ipynb' foi executado e salvou 'df_eda_consolidated.csv'.\")\n",
    "    exit() # Interrompe a execução se o arquivo não for encontrado\n"
   ]
  },
  {
   "cell_type": "code",
   "execution_count": 3,
   "id": "7d313fb8",
   "metadata": {},
   "outputs": [
    {
     "name": "stdout",
     "output_type": "stream",
     "text": [
      "\n",
      "--- Primeiras 5 linhas do DataFrame ---\n"
     ]
    },
    {
     "data": {
      "text/html": [
       "<div>\n",
       "<style scoped>\n",
       "    .dataframe tbody tr th:only-of-type {\n",
       "        vertical-align: middle;\n",
       "    }\n",
       "\n",
       "    .dataframe tbody tr th {\n",
       "        vertical-align: top;\n",
       "    }\n",
       "\n",
       "    .dataframe thead th {\n",
       "        text-align: right;\n",
       "    }\n",
       "</style>\n",
       "<table border=\"1\" class=\"dataframe\">\n",
       "  <thead>\n",
       "    <tr style=\"text-align: right;\">\n",
       "      <th></th>\n",
       "      <th>opportunity_id</th>\n",
       "      <th>sales_agent</th>\n",
       "      <th>product</th>\n",
       "      <th>account</th>\n",
       "      <th>deal_stage</th>\n",
       "      <th>engage_date</th>\n",
       "      <th>close_date</th>\n",
       "      <th>close_value</th>\n",
       "      <th>target</th>\n",
       "      <th>sector</th>\n",
       "      <th>year_established</th>\n",
       "      <th>revenue</th>\n",
       "      <th>employees</th>\n",
       "      <th>office_location</th>\n",
       "      <th>subsidiary_of</th>\n",
       "      <th>series</th>\n",
       "      <th>sales_price</th>\n",
       "      <th>manager</th>\n",
       "      <th>regional_office</th>\n",
       "    </tr>\n",
       "  </thead>\n",
       "  <tbody>\n",
       "    <tr>\n",
       "      <th>0</th>\n",
       "      <td>1C1I7A6R</td>\n",
       "      <td>Moses Frase</td>\n",
       "      <td>GTX Plus Basic</td>\n",
       "      <td>Cancity</td>\n",
       "      <td>Engaging</td>\n",
       "      <td>2016-10-20</td>\n",
       "      <td>2017-03-01</td>\n",
       "      <td>1054.0</td>\n",
       "      <td>0</td>\n",
       "      <td>retail</td>\n",
       "      <td>2001.0</td>\n",
       "      <td>718.62</td>\n",
       "      <td>2448.0</td>\n",
       "      <td>United States</td>\n",
       "      <td>NaN</td>\n",
       "      <td>GTX</td>\n",
       "      <td>1096.0</td>\n",
       "      <td>Dustin Brinkmann</td>\n",
       "      <td>Central</td>\n",
       "    </tr>\n",
       "    <tr>\n",
       "      <th>1</th>\n",
       "      <td>Z063OYW0</td>\n",
       "      <td>Darcel Schlecht</td>\n",
       "      <td>GTXPro</td>\n",
       "      <td>Isdom</td>\n",
       "      <td>Prospecting</td>\n",
       "      <td>2016-10-25</td>\n",
       "      <td>2017-03-11</td>\n",
       "      <td>4514.0</td>\n",
       "      <td>0</td>\n",
       "      <td>medical</td>\n",
       "      <td>2002.0</td>\n",
       "      <td>3178.24</td>\n",
       "      <td>4540.0</td>\n",
       "      <td>United States</td>\n",
       "      <td>NaN</td>\n",
       "      <td>NaN</td>\n",
       "      <td>NaN</td>\n",
       "      <td>Melvin Marxen</td>\n",
       "      <td>Central</td>\n",
       "    </tr>\n",
       "    <tr>\n",
       "      <th>2</th>\n",
       "      <td>EC4QE1BX</td>\n",
       "      <td>Darcel Schlecht</td>\n",
       "      <td>MG Special</td>\n",
       "      <td>Cancity</td>\n",
       "      <td>Engaging</td>\n",
       "      <td>2016-10-25</td>\n",
       "      <td>2017-03-07</td>\n",
       "      <td>50.0</td>\n",
       "      <td>0</td>\n",
       "      <td>retail</td>\n",
       "      <td>2001.0</td>\n",
       "      <td>718.62</td>\n",
       "      <td>2448.0</td>\n",
       "      <td>United States</td>\n",
       "      <td>NaN</td>\n",
       "      <td>MG</td>\n",
       "      <td>55.0</td>\n",
       "      <td>Melvin Marxen</td>\n",
       "      <td>Central</td>\n",
       "    </tr>\n",
       "    <tr>\n",
       "      <th>3</th>\n",
       "      <td>MV1LWRNH</td>\n",
       "      <td>Moses Frase</td>\n",
       "      <td>GTX Basic</td>\n",
       "      <td>Codehow</td>\n",
       "      <td>Engaging</td>\n",
       "      <td>2016-10-25</td>\n",
       "      <td>2017-03-09</td>\n",
       "      <td>588.0</td>\n",
       "      <td>0</td>\n",
       "      <td>software</td>\n",
       "      <td>1998.0</td>\n",
       "      <td>2714.90</td>\n",
       "      <td>2641.0</td>\n",
       "      <td>United States</td>\n",
       "      <td>Acme Corporation</td>\n",
       "      <td>GTX</td>\n",
       "      <td>550.0</td>\n",
       "      <td>Dustin Brinkmann</td>\n",
       "      <td>Central</td>\n",
       "    </tr>\n",
       "    <tr>\n",
       "      <th>4</th>\n",
       "      <td>PE84CX4O</td>\n",
       "      <td>Zane Levy</td>\n",
       "      <td>GTX Basic</td>\n",
       "      <td>Hatfan</td>\n",
       "      <td>Engaging</td>\n",
       "      <td>2016-10-25</td>\n",
       "      <td>2017-03-02</td>\n",
       "      <td>517.0</td>\n",
       "      <td>0</td>\n",
       "      <td>services</td>\n",
       "      <td>1982.0</td>\n",
       "      <td>792.46</td>\n",
       "      <td>1299.0</td>\n",
       "      <td>United States</td>\n",
       "      <td>NaN</td>\n",
       "      <td>GTX</td>\n",
       "      <td>550.0</td>\n",
       "      <td>Summer Sewald</td>\n",
       "      <td>West</td>\n",
       "    </tr>\n",
       "  </tbody>\n",
       "</table>\n",
       "</div>"
      ],
      "text/plain": [
       "  opportunity_id      sales_agent         product  account   deal_stage  \\\n",
       "0       1C1I7A6R      Moses Frase  GTX Plus Basic  Cancity     Engaging   \n",
       "1       Z063OYW0  Darcel Schlecht          GTXPro    Isdom  Prospecting   \n",
       "2       EC4QE1BX  Darcel Schlecht      MG Special  Cancity     Engaging   \n",
       "3       MV1LWRNH      Moses Frase       GTX Basic  Codehow     Engaging   \n",
       "4       PE84CX4O        Zane Levy       GTX Basic   Hatfan     Engaging   \n",
       "\n",
       "  engage_date  close_date  close_value  target    sector  year_established  \\\n",
       "0  2016-10-20  2017-03-01       1054.0       0    retail            2001.0   \n",
       "1  2016-10-25  2017-03-11       4514.0       0   medical            2002.0   \n",
       "2  2016-10-25  2017-03-07         50.0       0    retail            2001.0   \n",
       "3  2016-10-25  2017-03-09        588.0       0  software            1998.0   \n",
       "4  2016-10-25  2017-03-02        517.0       0  services            1982.0   \n",
       "\n",
       "   revenue  employees office_location     subsidiary_of series  sales_price  \\\n",
       "0   718.62     2448.0   United States               NaN    GTX       1096.0   \n",
       "1  3178.24     4540.0   United States               NaN    NaN          NaN   \n",
       "2   718.62     2448.0   United States               NaN     MG         55.0   \n",
       "3  2714.90     2641.0   United States  Acme Corporation    GTX        550.0   \n",
       "4   792.46     1299.0   United States               NaN    GTX        550.0   \n",
       "\n",
       "            manager regional_office  \n",
       "0  Dustin Brinkmann         Central  \n",
       "1     Melvin Marxen         Central  \n",
       "2     Melvin Marxen         Central  \n",
       "3  Dustin Brinkmann         Central  \n",
       "4     Summer Sewald            West  "
      ]
     },
     "execution_count": 3,
     "metadata": {},
     "output_type": "execute_result"
    }
   ],
   "source": [
    "print(\"\\n--- Primeiras 5 linhas do DataFrame ---\")\n",
    "df.head()"
   ]
  },
  {
   "cell_type": "code",
   "execution_count": 4,
   "id": "09af36d7",
   "metadata": {},
   "outputs": [
    {
     "name": "stdout",
     "output_type": "stream",
     "text": [
      "\n",
      "--- Informações do DataFrame ---\n",
      "<class 'pandas.core.frame.DataFrame'>\n",
      "RangeIndex: 8800 entries, 0 to 8799\n",
      "Data columns (total 19 columns):\n",
      " #   Column            Non-Null Count  Dtype  \n",
      "---  ------            --------------  -----  \n",
      " 0   opportunity_id    8800 non-null   object \n",
      " 1   sales_agent       8800 non-null   object \n",
      " 2   product           8800 non-null   object \n",
      " 3   account           7375 non-null   object \n",
      " 4   deal_stage        8800 non-null   object \n",
      " 5   engage_date       8300 non-null   object \n",
      " 6   close_date        6711 non-null   object \n",
      " 7   close_value       7487 non-null   float64\n",
      " 8   target            8800 non-null   int64  \n",
      " 9   sector            7375 non-null   object \n",
      " 10  year_established  7375 non-null   float64\n",
      " 11  revenue           7375 non-null   float64\n",
      " 12  employees         7375 non-null   float64\n",
      " 13  office_location   7375 non-null   object \n",
      " 14  subsidiary_of     1292 non-null   object \n",
      " 15  series            7320 non-null   object \n",
      " 16  sales_price       7320 non-null   float64\n",
      " 17  manager           8800 non-null   object \n",
      " 18  regional_office   8800 non-null   object \n",
      "dtypes: float64(5), int64(1), object(13)\n",
      "memory usage: 1.3+ MB\n",
      "None\n",
      "\n",
      "--- Fim do carregamento ---\n"
     ]
    }
   ],
   "source": [
    "print(\"\\n--- Informações do DataFrame ---\")\n",
    "print(df.info())\n",
    "print(\"\\n--- Fim do carregamento ---\")"
   ]
  },
  {
   "cell_type": "markdown",
   "id": "71c1e287",
   "metadata": {},
   "source": [
    "# --- 1. Tratamento de Valores Ausentes ---"
   ]
  },
  {
   "cell_type": "code",
   "execution_count": 5,
   "id": "839df2af",
   "metadata": {},
   "outputs": [
    {
     "name": "stdout",
     "output_type": "stream",
     "text": [
      "\n",
      "--- Contagem e Porcentagem de Valores Ausentes Antes do Preenchimento ---\n",
      "                  Missing Count  Missing %\n",
      "account                    1425  16.193182\n",
      "close_date                 2089  23.738636\n",
      "close_value                1313  14.920455\n",
      "deal_stage                    0   0.000000\n",
      "employees                  1425  16.193182\n",
      "engage_date                 500   5.681818\n",
      "manager                       0   0.000000\n",
      "office_location            1425  16.193182\n",
      "opportunity_id                0   0.000000\n",
      "product                       0   0.000000\n",
      "regional_office               0   0.000000\n",
      "revenue                    1425  16.193182\n",
      "sales_agent                   0   0.000000\n",
      "sales_price                1480  16.818182\n",
      "sector                     1425  16.193182\n",
      "series                     1480  16.818182\n",
      "subsidiary_of              7508  85.318182\n",
      "target                        0   0.000000\n",
      "year_established           1425  16.193182\n"
     ]
    }
   ],
   "source": [
    "print(\"\\n--- Contagem e Porcentagem de Valores Ausentes Antes do Preenchimento ---\")\n",
    "missing_data = df.isnull().sum()\n",
    "missing_percentage = (missing_data / len(df) * 100).sort_values(ascending=False)\n",
    "print(pd.DataFrame({'Missing Count': missing_data, 'Missing %': missing_percentage}))"
   ]
  },
  {
   "cell_type": "markdown",
   "id": "c852fb71",
   "metadata": {},
   "source": [
    "## 1.1. Preenchimento de Valores Ausentes Categóricos"
   ]
  },
  {
   "cell_type": "code",
   "execution_count": 6,
   "id": "cf09fe5d",
   "metadata": {},
   "outputs": [],
   "source": [
    "# Preenche NaNs em colunas categóricas com um valor 'Unknown' ou 'Not_Subsidiary'\n",
    "df['subsidiary_of'] = df['subsidiary_of'].fillna('Not_Subsidiary')\n",
    "df['sector'] = df['sector'].fillna('Unknown_Sector')\n",
    "df['office_location'] = df['office_location'].fillna('Unknown_Location')\n",
    "# 'account' é um ID, se fosse para ser tratado como categoria, 'Unknown_Account' seria uma opção.\n",
    "# No entanto, como será removido depois, o preenchimento aqui é apenas para consistência, se necessário.\n",
    "df['account'] = df['account'].fillna('Unknown_Account')\n",
    "df['series'] = df['series'].fillna('Unknown_Series')"
   ]
  },
  {
   "cell_type": "markdown",
   "id": "794e9c51",
   "metadata": {},
   "source": [
    "## 1.2. Preenchimento de Valores Ausentes Numéricos"
   ]
  },
  {
   "cell_type": "code",
   "execution_count": 7,
   "id": "4243e709",
   "metadata": {},
   "outputs": [],
   "source": [
    "# Preenche NaNs em colunas numéricas com a mediana.\n",
    "# 'close_value' já foi tratado no 'df_eda_consolidated.csv' e não deve ter NaNs significativos.\n",
    "median_revenue = df['revenue'].median()\n",
    "median_employees = df['employees'].median()\n",
    "median_year_established = df['year_established'].median()\n",
    "median_sales_price = df['sales_price'].median()\n",
    "median_close_value = df['close_value'].median()\n",
    "\n",
    "df['revenue'] = df['revenue'].fillna(median_revenue)\n",
    "df['employees'] = df['employees'].fillna(median_employees)\n",
    "df['year_established'] = df['year_established'].fillna(median_year_established)\n",
    "df['sales_price'] = df['sales_price'].fillna(median_sales_price)\n",
    "df['close_value'] = df['close_value'].fillna(median_close_value)"
   ]
  },
  {
   "cell_type": "code",
   "execution_count": 8,
   "id": "5bde2ffc",
   "metadata": {},
   "outputs": [
    {
     "name": "stdout",
     "output_type": "stream",
     "text": [
      "\n",
      "--- Porcentagem de Valores Ausentes por Coluna APÓS PREENCHIMENTO ---\n",
      "                  Missing Count  Missing %\n",
      "account                       0   0.000000\n",
      "close_date                 2089  23.738636\n",
      "close_value                   0   0.000000\n",
      "deal_stage                    0   0.000000\n",
      "employees                     0   0.000000\n",
      "engage_date                 500   5.681818\n",
      "manager                       0   0.000000\n",
      "office_location               0   0.000000\n",
      "opportunity_id                0   0.000000\n",
      "product                       0   0.000000\n",
      "regional_office               0   0.000000\n",
      "revenue                       0   0.000000\n",
      "sales_agent                   0   0.000000\n",
      "sales_price                   0   0.000000\n",
      "sector                        0   0.000000\n",
      "series                        0   0.000000\n",
      "subsidiary_of                 0   0.000000\n",
      "target                        0   0.000000\n",
      "year_established              0   0.000000\n"
     ]
    }
   ],
   "source": [
    "print(\"\\n--- Porcentagem de Valores Ausentes por Coluna APÓS PREENCHIMENTO ---\")\n",
    "missing_data_after_fill = df.isnull().sum()\n",
    "missing_percentage_after_fill = (missing_data_after_fill / len(df) * 100).sort_values(ascending=False)\n",
    "print(pd.DataFrame({'Missing Count': missing_data_after_fill, 'Missing %': missing_percentage_after_fill}))"
   ]
  },
  {
   "cell_type": "markdown",
   "id": "bad7c96d",
   "metadata": {},
   "source": [
    "# --- 2. Engenharia de Features de Data/Duração ---"
   ]
  },
  {
   "cell_type": "markdown",
   "id": "5406431e",
   "metadata": {},
   "source": [
    "## 2.1. Conversão de Datas para datetime"
   ]
  },
  {
   "cell_type": "code",
   "execution_count": 9,
   "id": "e6dc2029",
   "metadata": {},
   "outputs": [],
   "source": [
    "# Garante que as colunas de data estejam no formato correto para cálculos.\n",
    "df['engage_date'] = pd.to_datetime(df['engage_date'], errors='coerce')\n",
    "df['close_date'] = pd.to_datetime(df['close_date'], errors='coerce')"
   ]
  },
  {
   "cell_type": "markdown",
   "id": "eebcdcaa",
   "metadata": {},
   "source": [
    "## 2.2. Criação da feature 'opportunity_duration_days'"
   ]
  },
  {
   "cell_type": "code",
   "execution_count": 10,
   "id": "d75cf609",
   "metadata": {},
   "outputs": [],
   "source": [
    "# Calcula a duração em dias. Valores NaT (Not a Time) resultarão em NaN na duração.\n",
    "df['opportunity_duration_days'] = (df['close_date'] - df['engage_date']).dt.days\n",
    "\n",
    "# Tratamento de NaNs e valores não positivos em 'opportunity_duration_days'\n",
    "# Usaremos a mediana das durações **válidas e positivas** para imputação.\n",
    "# Isso garante que a feature seja significativa para o modelo.\n",
    "valid_durations = df['opportunity_duration_days'][df['opportunity_duration_days'] > 0]\n",
    "if not valid_durations.empty:\n",
    "    median_positive_duration = valid_durations.median()\n",
    "    # Preenche NaNs e valores <= 0 com a mediana das durações válidas e positivas\n",
    "    df['opportunity_duration_days'] = df['opportunity_duration_days'].apply(\n",
    "        lambda x: median_positive_duration if pd.isna(x) or x <= 0 else x\n",
    "    )\n",
    "else:\n",
    "    # Caso extremo: se não houver durações válidas e positivas, preenche com 0 ou outro valor que indique ausência.\n",
    "    # Neste cenário, 0 é um fallback seguro, indicando uma duração mínima ou desconhecida.\n",
    "    df['opportunity_duration_days'] = df['opportunity_duration_days'].fillna(0).apply(lambda x: 0 if x <= 0 else x)\n"
   ]
  },
  {
   "cell_type": "code",
   "execution_count": 11,
   "id": "f35bc9b5",
   "metadata": {},
   "outputs": [
    {
     "name": "stdout",
     "output_type": "stream",
     "text": [
      "\n",
      "--- Informações do DataFrame após engenharia de duração ---\n",
      "<class 'pandas.core.frame.DataFrame'>\n",
      "RangeIndex: 8800 entries, 0 to 8799\n",
      "Data columns (total 3 columns):\n",
      " #   Column                     Non-Null Count  Dtype         \n",
      "---  ------                     --------------  -----         \n",
      " 0   engage_date                8300 non-null   datetime64[ns]\n",
      " 1   close_date                 6711 non-null   datetime64[ns]\n",
      " 2   opportunity_duration_days  8800 non-null   float64       \n",
      "dtypes: datetime64[ns](2), float64(1)\n",
      "memory usage: 206.4 KB\n",
      "None\n"
     ]
    }
   ],
   "source": [
    "print(\"\\n--- Informações do DataFrame após engenharia de duração ---\")\n",
    "print(df[['engage_date', 'close_date', 'opportunity_duration_days']].info())"
   ]
  },
  {
   "cell_type": "code",
   "execution_count": 12,
   "id": "09457c56",
   "metadata": {},
   "outputs": [
    {
     "name": "stdout",
     "output_type": "stream",
     "text": [
      "\n",
      "--- Estatísticas descritivas da Duração da Oportunidade (em dias) ---\n",
      "count    8800.000000\n",
      "mean       47.276705\n",
      "std        35.876598\n",
      "min         1.000000\n",
      "25%        10.000000\n",
      "50%        45.000000\n",
      "75%        76.000000\n",
      "max       138.000000\n",
      "Name: opportunity_duration_days, dtype: float64\n"
     ]
    }
   ],
   "source": [
    "print(\"\\n--- Estatísticas descritivas da Duração da Oportunidade (em dias) ---\")\n",
    "print(df['opportunity_duration_days'].describe())"
   ]
  },
  {
   "cell_type": "code",
   "execution_count": 13,
   "id": "7e83a6e2",
   "metadata": {},
   "outputs": [
    {
     "name": "stdout",
     "output_type": "stream",
     "text": [
      "\n",
      "--- Porcentagem de Valores Ausentes após criação e tratamento de 'opportunity_duration_days' ---\n",
      "                           Missing Count  Missing %\n",
      "account                                0   0.000000\n",
      "close_date                          2089  23.738636\n",
      "close_value                            0   0.000000\n",
      "deal_stage                             0   0.000000\n",
      "employees                              0   0.000000\n",
      "engage_date                          500   5.681818\n",
      "manager                                0   0.000000\n",
      "office_location                        0   0.000000\n",
      "opportunity_duration_days              0   0.000000\n",
      "opportunity_id                         0   0.000000\n",
      "product                                0   0.000000\n",
      "regional_office                        0   0.000000\n",
      "revenue                                0   0.000000\n",
      "sales_agent                            0   0.000000\n",
      "sales_price                            0   0.000000\n",
      "sector                                 0   0.000000\n",
      "series                                 0   0.000000\n",
      "subsidiary_of                          0   0.000000\n",
      "target                                 0   0.000000\n",
      "year_established                       0   0.000000\n"
     ]
    }
   ],
   "source": [
    "print(\"\\n--- Porcentagem de Valores Ausentes após criação e tratamento de 'opportunity_duration_days' ---\")\n",
    "missing_after_duration = df.isnull().sum()\n",
    "missing_percentage_after_duration = (missing_after_duration / len(df) * 100).sort_values(ascending=False)\n",
    "print(pd.DataFrame({'Missing Count': missing_after_duration, 'Missing %': missing_percentage_after_duration}))"
   ]
  },
  {
   "cell_type": "code",
   "execution_count": 14,
   "id": "0a63a524",
   "metadata": {},
   "outputs": [
    {
     "name": "stdout",
     "output_type": "stream",
     "text": [
      "Colunas do DataFrame final antes do OHE e escalonamento:\n",
      "['opportunity_id', 'sales_agent', 'product', 'account', 'deal_stage', 'engage_date', 'close_date', 'close_value', 'target', 'sector', 'year_established', 'revenue', 'employees', 'office_location', 'subsidiary_of', 'series', 'sales_price', 'manager', 'regional_office', 'opportunity_duration_days']\n"
     ]
    }
   ],
   "source": [
    "print(\"Colunas do DataFrame final antes do OHE e escalonamento:\")\n",
    "print(df.columns.tolist())"
   ]
  },
  {
   "cell_type": "code",
   "execution_count": 15,
   "id": "00a592c2",
   "metadata": {},
   "outputs": [
    {
     "name": "stdout",
     "output_type": "stream",
     "text": [
      "\n",
      "Info do DataFrame final antes do OHE e escalonamento:\n",
      "<class 'pandas.core.frame.DataFrame'>\n",
      "RangeIndex: 8800 entries, 0 to 8799\n",
      "Data columns (total 20 columns):\n",
      " #   Column                     Non-Null Count  Dtype         \n",
      "---  ------                     --------------  -----         \n",
      " 0   opportunity_id             8800 non-null   object        \n",
      " 1   sales_agent                8800 non-null   object        \n",
      " 2   product                    8800 non-null   object        \n",
      " 3   account                    8800 non-null   object        \n",
      " 4   deal_stage                 8800 non-null   object        \n",
      " 5   engage_date                8300 non-null   datetime64[ns]\n",
      " 6   close_date                 6711 non-null   datetime64[ns]\n",
      " 7   close_value                8800 non-null   float64       \n",
      " 8   target                     8800 non-null   int64         \n",
      " 9   sector                     8800 non-null   object        \n",
      " 10  year_established           8800 non-null   float64       \n",
      " 11  revenue                    8800 non-null   float64       \n",
      " 12  employees                  8800 non-null   float64       \n",
      " 13  office_location            8800 non-null   object        \n",
      " 14  subsidiary_of              8800 non-null   object        \n",
      " 15  series                     8800 non-null   object        \n",
      " 16  sales_price                8800 non-null   float64       \n",
      " 17  manager                    8800 non-null   object        \n",
      " 18  regional_office            8800 non-null   object        \n",
      " 19  opportunity_duration_days  8800 non-null   float64       \n",
      "dtypes: datetime64[ns](2), float64(6), int64(1), object(11)\n",
      "memory usage: 1.3+ MB\n"
     ]
    }
   ],
   "source": [
    "# Para verificar rapidamente os tipos e NaNs (deve estar tudo limpo já):\n",
    "print(\"\\nInfo do DataFrame final antes do OHE e escalonamento:\")\n",
    "df.info()"
   ]
  },
  {
   "cell_type": "markdown",
   "id": "b8359a0d",
   "metadata": {},
   "source": [
    "# --- 3. Preparação para o Pipeline: Definição de Features ---"
   ]
  },
  {
   "cell_type": "code",
   "execution_count": 16,
   "id": "da65ff21",
   "metadata": {},
   "outputs": [
    {
     "name": "stdout",
     "output_type": "stream",
     "text": [
      "\n",
      "--- Colunas removidas para formação de X: ['opportunity_id', 'account', 'engage_date', 'close_date', 'deal_stage'] ---\n",
      "Número de colunas após remoção: 15\n"
     ]
    }
   ],
   "source": [
    "columns_to_drop_for_X = ['opportunity_id', 'account', 'engage_date', 'close_date', 'deal_stage']\n",
    "existing_cols_to_drop = [col for col in columns_to_drop_for_X if col in df.columns]\n",
    "df_final = df.drop(columns=existing_cols_to_drop, errors='ignore')\n",
    "\n",
    "print(f\"\\n--- Colunas removidas para formação de X: {existing_cols_to_drop} ---\")\n",
    "print(f\"Número de colunas após remoção: {df_final.shape[1]}\")\n",
    "\n"
   ]
  },
  {
   "cell_type": "code",
   "execution_count": 17,
   "id": "bbbdfd00",
   "metadata": {},
   "outputs": [
    {
     "name": "stdout",
     "output_type": "stream",
     "text": [
      "\n",
      "--- DataFrame final processado salvo em: '../data/processed/df_processed_for_modeling.csv' ---\n"
     ]
    }
   ],
   "source": [
    "# Salvar df_final\n",
    "# Cria o diretório 'processed' se não existir\n",
    "processed_data_output_path = '../data/processed/'\n",
    "if not os.path.exists(processed_data_output_path):\n",
    "    os.makedirs(processed_data_output_path)\n",
    "    print(f\"Diretório '{processed_data_output_path}' criado.\")\n",
    "\n",
    "df_final_filename = os.path.join(processed_data_output_path, 'df_processed_for_modeling.csv')\n",
    "df_final.to_csv(df_final_filename, index=False)\n",
    "print(f\"\\n--- DataFrame final processado salvo em: '{df_final_filename}' ---\")\n"
   ]
  },
  {
   "cell_type": "markdown",
   "id": "cded9ac1",
   "metadata": {},
   "source": [
    "# --- 4. Construção do Pipeline de Pré-processamento ---"
   ]
  },
  {
   "cell_type": "code",
   "execution_count": 18,
   "id": "07b025af",
   "metadata": {},
   "outputs": [
    {
     "name": "stdout",
     "output_type": "stream",
     "text": [
      "Dimensões de X (input para o pre-processador): (8800, 14)\n",
      "Dimensões de y: (8800,)\n"
     ]
    }
   ],
   "source": [
    "X_preprocessor_input = df_final.drop('target', axis=1)\n",
    "y_target = df_final['target']\n",
    "\n",
    "print(f\"Dimensões de X (input para o pre-processador): {X_preprocessor_input.shape}\")\n",
    "print(f\"Dimensões de y: {y_target.shape}\")"
   ]
  },
  {
   "cell_type": "markdown",
   "id": "112f978d",
   "metadata": {},
   "source": [
    "## 4.1. Definição das colunas para cada tipo de transformação"
   ]
  },
  {
   "cell_type": "code",
   "execution_count": 19,
   "id": "4590819a",
   "metadata": {},
   "outputs": [],
   "source": [
    "numeric_features = [\n",
    "    'close_value',\n",
    "    'year_established',\n",
    "    'revenue',\n",
    "    'employees',\n",
    "    'sales_price',\n",
    "    'opportunity_duration_days'\n",
    "]"
   ]
  },
  {
   "cell_type": "code",
   "execution_count": 20,
   "id": "6b5ff716",
   "metadata": {},
   "outputs": [],
   "source": [
    "categorical_features = [\n",
    "    'sales_agent',\n",
    "    'product',\n",
    "    'sector',\n",
    "    'office_location',\n",
    "    'subsidiary_of',\n",
    "    'series',\n",
    "    'manager',\n",
    "    'regional_office'\n",
    "]"
   ]
  },
  {
   "cell_type": "code",
   "execution_count": 21,
   "id": "9e4fef2b",
   "metadata": {},
   "outputs": [
    {
     "name": "stdout",
     "output_type": "stream",
     "text": [
      "\n",
      "--- Features numéricas para escalonamento: ['close_value', 'year_established', 'revenue', 'employees', 'sales_price', 'opportunity_duration_days'] ---\n",
      "--- Features categóricas para One-Hot Encoding: ['sales_agent', 'product', 'sector', 'office_location', 'subsidiary_of', 'series', 'manager', 'regional_office'] ---\n"
     ]
    }
   ],
   "source": [
    "# Verificação de que as features existem em X_preprocessor_input\n",
    "missing_numeric = [f for f in numeric_features if f not in X_preprocessor_input.columns]\n",
    "missing_categorical = [f for f in categorical_features if f not in X_preprocessor_input.columns]\n",
    "if missing_numeric or missing_categorical:\n",
    "    raise ValueError(f\"Features missing from X_preprocessor_input: Numeric: {missing_numeric}, Categorical: {missing_categorical}\")\n",
    "\n",
    "print(f\"\\n--- Features numéricas para escalonamento: {numeric_features} ---\")\n",
    "print(f\"--- Features categóricas para One-Hot Encoding: {categorical_features} ---\")\n"
   ]
  },
  {
   "cell_type": "markdown",
   "id": "a54b4015",
   "metadata": {},
   "source": [
    "## 4.2. Criação do Pré-processador (ColumnTransformer)"
   ]
  },
  {
   "cell_type": "code",
   "execution_count": 22,
   "id": "56075ffa",
   "metadata": {},
   "outputs": [],
   "source": [
    "preprocessor = ColumnTransformer(\n",
    "    transformers=[\n",
    "        ('num', StandardScaler(), numeric_features),\n",
    "        ('cat', OneHotEncoder(handle_unknown='ignore', drop='first'), categorical_features)\n",
    "    ],\n",
    "    remainder='passthrough'\n",
    ")"
   ]
  },
  {
   "cell_type": "markdown",
   "id": "56e77d4b",
   "metadata": {},
   "source": [
    "## 4.3. Treinar o pre-processador (ColumnTransformer)"
   ]
  },
  {
   "cell_type": "code",
   "execution_count": 23,
   "id": "8f83e6cd",
   "metadata": {},
   "outputs": [
    {
     "name": "stdout",
     "output_type": "stream",
     "text": [
      "\n",
      "--- Ajustando o Pipeline de Pré-processamento (ColumnTransformer) ---\n",
      "--- Pipeline de Pré-processamento ajustado com sucesso! ---\n"
     ]
    }
   ],
   "source": [
    "# Ele precisa ser ajustado nos dados de treino para aprender as escalas e categorias.\n",
    "# Para isso, usaremos o X_preprocessor_input completo para ajustá-lo.\n",
    "print(\"\\n--- Ajustando o Pipeline de Pré-processamento (ColumnTransformer) ---\")\n",
    "preprocessor.fit(X_preprocessor_input) # Ajusta o pre-processador em TODOS os dados de X\n",
    "\n",
    "print(\"--- Pipeline de Pré-processamento ajustado com sucesso! ---\")"
   ]
  },
  {
   "cell_type": "markdown",
   "id": "4348af47",
   "metadata": {},
   "source": [
    "# --- 5. Salvamento do Pipeline de Pré-processamento ---"
   ]
  },
  {
   "cell_type": "code",
   "execution_count": 24,
   "id": "d62692db",
   "metadata": {},
   "outputs": [
    {
     "name": "stdout",
     "output_type": "stream",
     "text": [
      "\n",
      "--- Pipeline de Pré-processamento salvo com sucesso em: '../models/preprocessor_pipeline.joblib' ---\n",
      "--- Fim do Processamento de Dados para Pré-processador ---\n"
     ]
    }
   ],
   "source": [
    "models_dir = '../models/'\n",
    "if not os.path.exists(models_dir):\n",
    "    os.makedirs(models_dir)\n",
    "    print(f\"Diretório '{models_dir}' criado com sucesso.\")\n",
    "\n",
    "# Salvar APENAS o pipeline de pré-processamento\n",
    "preprocessor_pipeline_filename = os.path.join(models_dir, 'preprocessor_pipeline.joblib')\n",
    "joblib.dump(preprocessor, preprocessor_pipeline_filename) # Salva o ColumnTransformer diretamente\n",
    "\n",
    "print(f\"\\n--- Pipeline de Pré-processamento salvo com sucesso em: '{preprocessor_pipeline_filename}' ---\")\n",
    "print(\"--- Fim do Processamento de Dados para Pré-processador ---\")"
   ]
  }
 ],
 "metadata": {
  "kernelspec": {
   "display_name": "venv",
   "language": "python",
   "name": "python3"
  },
  "language_info": {
   "codemirror_mode": {
    "name": "ipython",
    "version": 3
   },
   "file_extension": ".py",
   "mimetype": "text/x-python",
   "name": "python",
   "nbconvert_exporter": "python",
   "pygments_lexer": "ipython3",
   "version": "3.13.2"
  }
 },
 "nbformat": 4,
 "nbformat_minor": 5
}
